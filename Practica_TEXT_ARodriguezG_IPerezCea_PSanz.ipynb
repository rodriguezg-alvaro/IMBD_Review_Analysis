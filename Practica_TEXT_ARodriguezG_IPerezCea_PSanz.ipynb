{
 "cells": [
  {
   "cell_type": "markdown",
   "id": "1e509217",
   "metadata": {
    "id": "1e509217"
   },
   "source": [
    "# IMBD Sentimental Analysis Review"
   ]
  },
  {
   "cell_type": "markdown",
   "id": "84f62669",
   "metadata": {
    "id": "84f62669"
   },
   "source": [
    "El siguiente proyecto tiene como objetivo la aplicación de técnicas de NLP para realizar un análisis de sentimientos sobre un dataset formado por reviews de diferentes películas de la base de datos IMBD. Todas ellas vienen correctamente tagueadas con su correspondiente sentimiento, positivo o negativo."
   ]
  },
  {
   "cell_type": "markdown",
   "id": "FHkS2eIMYP-K",
   "metadata": {
    "id": "FHkS2eIMYP-K"
   },
   "source": [
    "# Índice\n",
    "\n",
    "**[0. Librerias](#heading--1)**\n",
    "\n",
    "**[1. Carga de Datos](#heading--2)**\n",
    "\n",
    "**[2. Análisis Exploratorio](#heading--3)**\n",
    "\n",
    "**[3. PreProcesado](#heading--4)**\n",
    "\n",
    "**[4. División de Datos](#heading--5)**\n",
    "\n",
    "**[5. Tokenización de Datos](#heading--6)**\n",
    "\n",
    "**[6. Modelos](#heading--7)**\n",
    "\n",
    "  * [6.1. Red Neuronal Simple](#heading--7-1)\n",
    "  \n",
    "  * [6.2. CNN](#heading--7-2)\n",
    "\n",
    "  * [6.2. RNN + CNN](#heading--7-3)\n",
    "\n",
    "  * [6.4. LTSM](#heading--7-4)\n",
    "  \n",
    "**[7. Transformers](#heading--8)**\n",
    "\n",
    "**[8. Comparación](#heading--9)**\n",
    "\n",
    "**[9. Lineas de Investigación](#heading--10)**\n",
    "\n"
   ]
  },
  {
   "cell_type": "markdown",
   "id": "c99313c5",
   "metadata": {
    "id": "c99313c5"
   },
   "source": [
    "<div id=\"heading--1\"/>\n",
    "\n",
    "## 0. Librerias"
   ]
  },
  {
   "cell_type": "markdown",
   "id": "d2079f9e",
   "metadata": {
    "id": "d2079f9e"
   },
   "source": [
    "Importamos los paquetes que necesitaremos para poder trabajar:"
   ]
  },
  {
   "cell_type": "code",
   "execution_count": 6,
   "id": "55954bec",
   "metadata": {
    "executionInfo": {
     "elapsed": 7556,
     "status": "ok",
     "timestamp": 1653153000825,
     "user": {
      "displayName": "Pablo Sanz",
      "userId": "02387679861260039699"
     },
     "user_tz": -120
    },
    "id": "55954bec"
   },
   "outputs": [],
   "source": [
    "import pandas as pd\n",
    "import numpy as np\n",
    "import seaborn as sns\n",
    "import tensorflow as tf\n",
    "import matplotlib.pyplot as plt\n",
    "import re\n",
    "import nltk\n",
    "import wordcloud\n",
    "import matplotlib\n",
    "import transformers\n",
    "from transformers import pipeline\n",
    "from transformers.pipelines.pt_utils import KeyDataset\n",
    "from tqdm.auto import tqdm\n",
    "from nltk.probability import FreqDist\n",
    "from nltk.corpus import stopwords\n",
    "from nltk.tokenize import word_tokenize\n",
    "from sklearn.model_selection import train_test_split\n",
    "from tensorflow import keras\n",
    "from keras.preprocessing.text import Tokenizer\n",
    "from keras.preprocessing.sequence import pad_sequences\n",
    "from keras.layers.embeddings import Embedding\n",
    "from keras import layers\n",
    "from datasets import load_dataset"
   ]
  },
  {
   "cell_type": "markdown",
   "id": "d9e16868",
   "metadata": {
    "id": "d9e16868"
   },
   "source": [
    "<div id=\"heading--2\"/>\n",
    "\n",
    "## 1. Carga de datos"
   ]
  },
  {
   "cell_type": "markdown",
   "id": "da0ead15",
   "metadata": {
    "id": "da0ead15"
   },
   "source": [
    "La siguiente parte solo será necesaria si se trabaja desde Google Colab, además las rutas se deberán cambiar."
   ]
  },
  {
   "cell_type": "code",
   "execution_count": 2,
   "id": "S1e-Dp5gRFUL",
   "metadata": {
    "colab": {
     "base_uri": "https://localhost:8080/"
    },
    "executionInfo": {
     "elapsed": 20322,
     "status": "ok",
     "timestamp": 1653153021112,
     "user": {
      "displayName": "Pablo Sanz",
      "userId": "02387679861260039699"
     },
     "user_tz": -120
    },
    "id": "S1e-Dp5gRFUL",
    "outputId": "eb47a6e9-9710-434e-95b9-04b754fb95e6"
   },
   "outputs": [
    {
     "name": "stdout",
     "output_type": "stream",
     "text": [
      "Mounted at /content/drive\n"
     ]
    }
   ],
   "source": [
    "from google.colab import drive\n",
    "drive.mount('/content/drive')"
   ]
  },
  {
   "cell_type": "code",
   "execution_count": null,
   "id": "7fo533YsRu_K",
   "metadata": {
    "colab": {
     "base_uri": "https://localhost:8080/"
    },
    "id": "7fo533YsRu_K",
    "outputId": "110879e8-3019-469b-b314-75535a719089"
   },
   "outputs": [
    {
     "name": "stdout",
     "output_type": "stream",
     "text": [
      "/content/drive/MyDrive/IMBD_Project\n"
     ]
    }
   ],
   "source": [
    "cd ./drive/MyDrive/IMBD_Project"
   ]
  },
  {
   "cell_type": "code",
   "execution_count": 12,
   "id": "xIy7IBtNmdjq",
   "metadata": {
    "colab": {
     "base_uri": "https://localhost:8080/"
    },
    "executionInfo": {
     "elapsed": 251,
     "status": "ok",
     "timestamp": 1653153119402,
     "user": {
      "displayName": "Pablo Sanz",
      "userId": "02387679861260039699"
     },
     "user_tz": -120
    },
    "id": "xIy7IBtNmdjq",
    "outputId": "ca8f7418-d9a4-41ca-a902-93d2b8949df7"
   },
   "outputs": [
    {
     "name": "stdout",
     "output_type": "stream",
     "text": [
      "Codigo.ipynb  CodigoMain.ipynb\tIMBD_data.csv\n"
     ]
    }
   ],
   "source": [
    "!ls \"drive/MyDrive/ICAI/Análisis de datos no estructurados/Practicas/Texto\""
   ]
  },
  {
   "cell_type": "markdown",
   "id": "dd085ef3",
   "metadata": {
    "id": "dd085ef3"
   },
   "source": [
    "Una vez ya hemos configurado la entrada y carga de datos de Google Drive lo que haremos será cargar los datos con los que trabajaremos. Estos serán un csv formado por las reviews y su tag en cuanto al sentimiento."
   ]
  },
  {
   "cell_type": "code",
   "execution_count": 7,
   "id": "453c5cdd",
   "metadata": {
    "executionInfo": {
     "elapsed": 2466,
     "status": "ok",
     "timestamp": 1653153145996,
     "user": {
      "displayName": "Pablo Sanz",
      "userId": "02387679861260039699"
     },
     "user_tz": -120
    },
    "id": "453c5cdd"
   },
   "outputs": [],
   "source": [
    "reviews = pd.read_csv(\"./IMBD_data.csv\")"
   ]
  },
  {
   "cell_type": "code",
   "execution_count": 8,
   "id": "a91ed548",
   "metadata": {
    "colab": {
     "base_uri": "https://localhost:8080/",
     "height": 419
    },
    "executionInfo": {
     "elapsed": 262,
     "status": "ok",
     "timestamp": 1653153169260,
     "user": {
      "displayName": "Pablo Sanz",
      "userId": "02387679861260039699"
     },
     "user_tz": -120
    },
    "id": "a91ed548",
    "outputId": "d552e2fc-74f0-41fc-d29d-c950a0948772"
   },
   "outputs": [
    {
     "data": {
      "text/html": [
       "<div>\n",
       "<style scoped>\n",
       "    .dataframe tbody tr th:only-of-type {\n",
       "        vertical-align: middle;\n",
       "    }\n",
       "\n",
       "    .dataframe tbody tr th {\n",
       "        vertical-align: top;\n",
       "    }\n",
       "\n",
       "    .dataframe thead th {\n",
       "        text-align: right;\n",
       "    }\n",
       "</style>\n",
       "<table border=\"1\" class=\"dataframe\">\n",
       "  <thead>\n",
       "    <tr style=\"text-align: right;\">\n",
       "      <th></th>\n",
       "      <th>review</th>\n",
       "      <th>sentiment</th>\n",
       "    </tr>\n",
       "  </thead>\n",
       "  <tbody>\n",
       "    <tr>\n",
       "      <th>0</th>\n",
       "      <td>One of the other reviewers has mentioned that ...</td>\n",
       "      <td>positive</td>\n",
       "    </tr>\n",
       "    <tr>\n",
       "      <th>1</th>\n",
       "      <td>A wonderful little production. &lt;br /&gt;&lt;br /&gt;The...</td>\n",
       "      <td>positive</td>\n",
       "    </tr>\n",
       "    <tr>\n",
       "      <th>2</th>\n",
       "      <td>I thought this was a wonderful way to spend ti...</td>\n",
       "      <td>positive</td>\n",
       "    </tr>\n",
       "    <tr>\n",
       "      <th>3</th>\n",
       "      <td>Basically there's a family where a little boy ...</td>\n",
       "      <td>negative</td>\n",
       "    </tr>\n",
       "    <tr>\n",
       "      <th>4</th>\n",
       "      <td>Petter Mattei's \"Love in the Time of Money\" is...</td>\n",
       "      <td>positive</td>\n",
       "    </tr>\n",
       "    <tr>\n",
       "      <th>...</th>\n",
       "      <td>...</td>\n",
       "      <td>...</td>\n",
       "    </tr>\n",
       "    <tr>\n",
       "      <th>49995</th>\n",
       "      <td>I thought this movie did a down right good job...</td>\n",
       "      <td>positive</td>\n",
       "    </tr>\n",
       "    <tr>\n",
       "      <th>49996</th>\n",
       "      <td>Bad plot, bad dialogue, bad acting, idiotic di...</td>\n",
       "      <td>negative</td>\n",
       "    </tr>\n",
       "    <tr>\n",
       "      <th>49997</th>\n",
       "      <td>I am a Catholic taught in parochial elementary...</td>\n",
       "      <td>negative</td>\n",
       "    </tr>\n",
       "    <tr>\n",
       "      <th>49998</th>\n",
       "      <td>I'm going to have to disagree with the previou...</td>\n",
       "      <td>negative</td>\n",
       "    </tr>\n",
       "    <tr>\n",
       "      <th>49999</th>\n",
       "      <td>No one expects the Star Trek movies to be high...</td>\n",
       "      <td>negative</td>\n",
       "    </tr>\n",
       "  </tbody>\n",
       "</table>\n",
       "<p>50000 rows × 2 columns</p>\n",
       "</div>"
      ],
      "text/plain": [
       "                                                  review sentiment\n",
       "0      One of the other reviewers has mentioned that ...  positive\n",
       "1      A wonderful little production. <br /><br />The...  positive\n",
       "2      I thought this was a wonderful way to spend ti...  positive\n",
       "3      Basically there's a family where a little boy ...  negative\n",
       "4      Petter Mattei's \"Love in the Time of Money\" is...  positive\n",
       "...                                                  ...       ...\n",
       "49995  I thought this movie did a down right good job...  positive\n",
       "49996  Bad plot, bad dialogue, bad acting, idiotic di...  negative\n",
       "49997  I am a Catholic taught in parochial elementary...  negative\n",
       "49998  I'm going to have to disagree with the previou...  negative\n",
       "49999  No one expects the Star Trek movies to be high...  negative\n",
       "\n",
       "[50000 rows x 2 columns]"
      ]
     },
     "execution_count": 8,
     "metadata": {},
     "output_type": "execute_result"
    }
   ],
   "source": [
    "reviews"
   ]
  },
  {
   "cell_type": "markdown",
   "id": "0cfbf077",
   "metadata": {
    "id": "0cfbf077"
   },
   "source": [
    "A su vez cargaremos también los datos de las stop words, en inglés ya que las reviews están en inglés:"
   ]
  },
  {
   "cell_type": "code",
   "execution_count": 9,
   "id": "512350b6",
   "metadata": {
    "colab": {
     "base_uri": "https://localhost:8080/"
    },
    "executionInfo": {
     "elapsed": 11,
     "status": "ok",
     "timestamp": 1653153173371,
     "user": {
      "displayName": "Pablo Sanz",
      "userId": "02387679861260039699"
     },
     "user_tz": -120
    },
    "id": "512350b6",
    "outputId": "7dde628e-d2ea-49af-ad7c-ef6bfa215d7d"
   },
   "outputs": [
    {
     "name": "stderr",
     "output_type": "stream",
     "text": [
      "[nltk_data] Downloading package stopwords to\n",
      "[nltk_data]     /Users/alvarorodriguezgonzalez/nltk_data...\n",
      "[nltk_data]   Package stopwords is already up-to-date!\n"
     ]
    },
    {
     "data": {
      "text/plain": [
       "True"
      ]
     },
     "execution_count": 9,
     "metadata": {},
     "output_type": "execute_result"
    }
   ],
   "source": [
    "nltk.download('stopwords')"
   ]
  },
  {
   "cell_type": "code",
   "execution_count": 10,
   "id": "7eff56fb",
   "metadata": {
    "executionInfo": {
     "elapsed": 231,
     "status": "ok",
     "timestamp": 1653153175079,
     "user": {
      "displayName": "Pablo Sanz",
      "userId": "02387679861260039699"
     },
     "user_tz": -120
    },
    "id": "7eff56fb"
   },
   "outputs": [],
   "source": [
    "stopwords = set(stopwords.words('english'))"
   ]
  },
  {
   "cell_type": "code",
   "execution_count": 11,
   "id": "86e77000",
   "metadata": {
    "colab": {
     "base_uri": "https://localhost:8080/"
    },
    "id": "86e77000",
    "outputId": "92e4bed0-bfe5-4fe1-c4d9-5b2c02e531d0"
   },
   "outputs": [
    {
     "name": "stdout",
     "output_type": "stream",
     "text": [
      "{'an', \"it's\", 'did', 'at', \"you're\", 'been', 'too', 'up', 'this', 'them', \"mightn't\", 'why', 'wouldn', 'can', 'yourselves', 'you', 'below', 'through', 'just', 'his', \"didn't\", 'and', 'o', 'it', \"you'll\", 'nor', 'itself', 're', 'they', 'each', 'out', 'aren', 'of', 'be', 'she', 'mightn', 'a', 'not', 'are', 'ain', 'where', 'needn', 'doesn', \"you've\", 'so', 'does', 'couldn', \"she's\", 'whom', 'myself', 'don', 'what', 'was', \"wasn't\", 'into', 'very', 'do', 'their', 'i', 'y', 'from', 'has', 'only', \"hasn't\", \"isn't\", 'my', 'isn', 'some', 'over', 'as', 'again', 'll', 'our', 'between', 'all', 'same', 'in', 'themselves', 'being', 'should', \"couldn't\", 'him', 'such', 'your', 'yours', 'm', 't', \"should've\", 'there', 'how', 'after', 'then', 'few', 'before', 'own', 'weren', 'above', 'most', 'he', 'doing', 'ours', 'her', 'haven', 'here', 'the', \"aren't\", 'shouldn', 'while', \"wouldn't\", 'now', 'under', \"mustn't\", 'that', 'have', 'its', 'down', 'both', \"shouldn't\", 'during', 'yourself', 'other', 'mustn', 'more', 'than', \"don't\", 'those', 'until', 'off', 'won', 'about', 'will', 'having', 'ourselves', 'we', 'had', 'didn', 'these', \"needn't\", \"weren't\", \"that'll\", 'or', 'any', \"hadn't\", 'for', 'hasn', 'because', 'd', 'if', 'am', 'with', \"haven't\", \"doesn't\", 'by', 'is', 'no', 'himself', 've', \"won't\", 'hadn', 'shan', 'me', \"you'd\", 'which', 'ma', 'theirs', 'against', 'once', 'to', 'but', 'when', 'hers', \"shan't\", 'wasn', 'on', 'further', 's', 'who', 'herself', 'were'}\n"
     ]
    }
   ],
   "source": [
    "print(stopwords)"
   ]
  },
  {
   "cell_type": "markdown",
   "id": "1a819bf3",
   "metadata": {
    "id": "1a819bf3"
   },
   "source": [
    "<div id=\"heading--3\"/>\n",
    "\n",
    "## 2. Análisis Exploratorio"
   ]
  },
  {
   "cell_type": "markdown",
   "id": "98f03c84",
   "metadata": {
    "id": "98f03c84"
   },
   "source": [
    "Veamos si nuestros datos estan balanceados:"
   ]
  },
  {
   "cell_type": "code",
   "execution_count": 12,
   "id": "8b563745",
   "metadata": {
    "colab": {
     "base_uri": "https://localhost:8080/",
     "height": 296
    },
    "id": "8b563745",
    "outputId": "1a338b8a-5bc4-44c2-aa5b-3caaac3658d7"
   },
   "outputs": [
    {
     "data": {
      "text/plain": [
       "<AxesSubplot:xlabel='sentiment', ylabel='count'>"
      ]
     },
     "execution_count": 12,
     "metadata": {},
     "output_type": "execute_result"
    },
    {
     "data": {
      "image/png": "[encoded data removed]",
      "text/plain": [
       "<Figure size 432x288 with 1 Axes>"
      ]
     },
     "metadata": {
      "needs_background": "light"
     },
     "output_type": "display_data"
    }
   ],
   "source": [
    "sns.countplot(x = \"sentiment\", data = reviews)"
   ]
  },
  {
   "cell_type": "markdown",
   "id": "7cd287dd",
   "metadata": {
    "id": "7cd287dd"
   },
   "source": [
    "A continuación realizaremos un análisis de las palabras:"
   ]
  },
  {
   "cell_type": "code",
   "execution_count": 20,
   "id": "a2665acf",
   "metadata": {
    "id": "a2665acf"
   },
   "outputs": [],
   "source": [
    "def get_word_tokens(sentences):\n",
    "    words = []\n",
    "    for sent in sentences:\n",
    "        words.extend(word_tokenize(sent))\n",
    "    print(words)\n",
    "    return(words)"
   ]
  },
  {
   "cell_type": "markdown",
   "id": "9ab0f23d",
   "metadata": {
    "id": "9ab0f23d"
   },
   "source": [
    "Pasamos las reviews a una lista para poder trabajar con ello:"
   ]
  },
  {
   "cell_type": "code",
   "execution_count": null,
   "id": "71d74665",
   "metadata": {
    "id": "71d74665"
   },
   "outputs": [],
   "source": [
    "reviews_lista = list(reviews['review'])"
   ]
  },
  {
   "cell_type": "code",
   "execution_count": null,
   "id": "HptRNsBqSIpu",
   "metadata": {
    "colab": {
     "base_uri": "https://localhost:8080/"
    },
    "id": "HptRNsBqSIpu",
    "outputId": "471547a7-2f42-4f52-e24d-54b8c16c30df"
   },
   "outputs": [
    {
     "name": "stdout",
     "output_type": "stream",
     "text": [
      "[nltk_data] Downloading package punkt to /root/nltk_data...\n",
      "[nltk_data]   Unzipping tokenizers/punkt.zip.\n"
     ]
    },
    {
     "data": {
      "text/plain": [
       "True"
      ]
     },
     "execution_count": 24,
     "metadata": {},
     "output_type": "execute_result"
    }
   ],
   "source": [
    "nltk.download('punkt')"
   ]
  },
  {
   "cell_type": "code",
   "execution_count": null,
   "id": "dowAcL9nENPQ",
   "metadata": {
    "colab": {
     "base_uri": "https://localhost:8080/"
    },
    "id": "dowAcL9nENPQ",
    "outputId": "a18b585e-0a97-4a87-a728-c5a7421da723"
   },
   "outputs": [
    {
     "name": "stderr",
     "output_type": "stream",
     "text": [
      "IOPub data rate exceeded.\n",
      "The notebook server will temporarily stop sending output\n",
      "to the client in order to avoid crashing it.\n",
      "To change this limit, set the config variable\n",
      "`--NotebookApp.iopub_data_rate_limit`.\n",
      "\n",
      "Current values:\n",
      "NotebookApp.iopub_data_rate_limit=1000000.0 (bytes/sec)\n",
      "NotebookApp.rate_limit_window=3.0 (secs)\n",
      "\n"
     ]
    }
   ],
   "source": [
    "review_words = get_word_tokens(reviews_lista)"
   ]
  },
  {
   "cell_type": "code",
   "execution_count": null,
   "id": "DdqCYT7OEUCR",
   "metadata": {
    "id": "DdqCYT7OEUCR"
   },
   "outputs": [],
   "source": [
    "matplotlib.use('TkAgg')"
   ]
  },
  {
   "cell_type": "markdown",
   "id": "93294a49",
   "metadata": {
    "id": "93294a49"
   },
   "source": [
    "Creamos una función que nos saque una distribución de frecuencias de las diferentes palabras."
   ]
  },
  {
   "cell_type": "code",
   "execution_count": 25,
   "id": "e46721fd",
   "metadata": {
    "id": "e46721fd"
   },
   "outputs": [],
   "source": [
    "def plot_freq_dist(words, num_words = 20):\n",
    "    fdist = FreqDist(words)\n",
    "    fdist.plot(num_words,cumulative=False)"
   ]
  },
  {
   "cell_type": "code",
   "execution_count": null,
   "id": "c2TXk_ASEX7U",
   "metadata": {
    "colab": {
     "base_uri": "https://localhost:8080/",
     "height": 290
    },
    "id": "c2TXk_ASEX7U",
    "outputId": "3b2fd71a-63b4-4775-b8a2-f73177cb381c"
   },
   "outputs": [
    {
     "data": {
      "image/png": "[encoded data removed]",
      "text/plain": [
       "<Figure size 432x288 with 1 Axes>"
      ]
     },
     "metadata": {
      "needs_background": "light"
     },
     "output_type": "display_data"
    }
   ],
   "source": [
    "plot_freq_dist(review_words, num_words=20)"
   ]
  },
  {
   "cell_type": "markdown",
   "id": "dcc19ec1",
   "metadata": {
    "id": "dcc19ec1"
   },
   "source": [
    "Como es facilmente observable la gran mayoria de palabras que más se repiten o son algunas incluidas en las stop words o son símbolos debidos a la técnica usada para obtener los datos. Para verlo correctamente tendremos que hacer un preprocesado."
   ]
  },
  {
   "cell_type": "code",
   "execution_count": null,
   "id": "4113c4b0",
   "metadata": {
    "colab": {
     "base_uri": "https://localhost:8080/"
    },
    "id": "4113c4b0",
    "outputId": "0854a131-1a1d-4a0c-88a4-4572c9f00760"
   },
   "outputs": [
    {
     "name": "stdout",
     "output_type": "stream",
     "text": [
      "[nltk_data] Downloading package averaged_perceptron_tagger to\n",
      "[nltk_data]     /root/nltk_data...\n",
      "[nltk_data]   Unzipping taggers/averaged_perceptron_tagger.zip.\n"
     ]
    },
    {
     "data": {
      "text/plain": [
       "True"
      ]
     },
     "execution_count": 30,
     "metadata": {},
     "output_type": "execute_result"
    }
   ],
   "source": [
    "nltk.download('averaged_perceptron_tagger')"
   ]
  },
  {
   "cell_type": "code",
   "execution_count": null,
   "id": "wBmjKLs_Ec6D",
   "metadata": {
    "id": "wBmjKLs_Ec6D"
   },
   "outputs": [],
   "source": [
    "def get_pos_tags(words):\n",
    "    tags=[]\n",
    "    for word in words:\n",
    "        tags.append(nltk.pos_tag([word]))\n",
    "    print(tags)\n",
    "    return tags"
   ]
  },
  {
   "cell_type": "code",
   "execution_count": null,
   "id": "p49gmgJtEfLq",
   "metadata": {
    "colab": {
     "base_uri": "https://localhost:8080/",
     "height": 1000
    },
    "id": "p49gmgJtEfLq",
    "outputId": "7d768b6a-e7a1-4aae-a01f-ef692b312fcf"
   },
   "outputs": [
    {
     "name": "stderr",
     "output_type": "stream",
     "text": [
      "ERROR:root:Internal Python error in the inspect module.\n",
      "Below is the traceback from this internal error.\n",
      "\n"
     ]
    },
    {
     "name": "stdout",
     "output_type": "stream",
     "text": [
      "Traceback (most recent call last):\n",
      "  File \"/usr/local/lib/python3.7/dist-packages/IPython/core/interactiveshell.py\", line 2882, in run_code\n",
      "    exec(code_obj, self.user_global_ns, self.user_ns)\n",
      "  File \"<ipython-input-32-b9e2f97bd742>\", line 1, in <module>\n",
      "    sample_tags = get_pos_tags(review_words)\n",
      "  File \"<ipython-input-31-458de68e768a>\", line 4, in get_pos_tags\n",
      "    tags.append(nltk.pos_tag([word]))\n",
      "  File \"/usr/local/lib/python3.7/dist-packages/nltk/tag/__init__.py\", line 133, in pos_tag\n",
      "    tagger = _get_tagger(lang)\n",
      "  File \"/usr/local/lib/python3.7/dist-packages/nltk/tag/__init__.py\", line 97, in _get_tagger\n",
      "    tagger = PerceptronTagger()\n",
      "  File \"/usr/local/lib/python3.7/dist-packages/nltk/tag/perceptron.py\", line 141, in __init__\n",
      "    self.load(AP_MODEL_LOC)\n",
      "  File \"/usr/local/lib/python3.7/dist-packages/nltk/tag/perceptron.py\", line 223, in load\n",
      "    self.model.weights, self.tagdict, self.classes = load(loc)\n",
      "  File \"/usr/local/lib/python3.7/dist-packages/nltk/data.py\", line 803, in load\n",
      "    resource_url = add_py3_data(resource_url)\n",
      "  File \"/usr/local/lib/python3.7/dist-packages/nltk/compat.py\", line 207, in add_py3_data\n",
      "    if item in str(path) and \"/PY3\" not in str(path):\n",
      "KeyboardInterrupt\n",
      "\n",
      "During handling of the above exception, another exception occurred:\n",
      "\n",
      "Traceback (most recent call last):\n",
      "  File \"/usr/local/lib/python3.7/dist-packages/IPython/core/interactiveshell.py\", line 1823, in showtraceback\n",
      "    stb = value._render_traceback_()\n",
      "AttributeError: 'KeyboardInterrupt' object has no attribute '_render_traceback_'\n",
      "\n",
      "During handling of the above exception, another exception occurred:\n",
      "\n",
      "Traceback (most recent call last):\n",
      "  File \"/usr/lib/python3.7/genericpath.py\", line 19, in exists\n",
      "    os.stat(path)\n",
      "FileNotFoundError: [Errno 2] No such file or directory: '<ipython-input-32-b9e2f97bd742>'\n",
      "\n",
      "During handling of the above exception, another exception occurred:\n",
      "\n",
      "Traceback (most recent call last):\n",
      "  File \"/usr/local/lib/python3.7/dist-packages/IPython/core/ultratb.py\", line 1132, in get_records\n",
      "    return _fixed_getinnerframes(etb, number_of_lines_of_context, tb_offset)\n",
      "  File \"/usr/local/lib/python3.7/dist-packages/IPython/core/ultratb.py\", line 313, in wrapped\n",
      "    return f(*args, **kwargs)\n",
      "  File \"/usr/local/lib/python3.7/dist-packages/IPython/core/ultratb.py\", line 358, in _fixed_getinnerframes\n",
      "    records = fix_frame_records_filenames(inspect.getinnerframes(etb, context))\n",
      "  File \"/usr/lib/python3.7/inspect.py\", line 1502, in getinnerframes\n",
      "    frameinfo = (tb.tb_frame,) + getframeinfo(tb, context)\n",
      "  File \"/usr/lib/python3.7/inspect.py\", line 1464, in getframeinfo\n",
      "    lines, lnum = findsource(frame)\n",
      "  File \"/usr/local/lib/python3.7/dist-packages/IPython/core/ultratb.py\", line 170, in findsource\n",
      "    file = getsourcefile(object) or getfile(object)\n",
      "  File \"/usr/lib/python3.7/inspect.py\", line 693, in getsourcefile\n",
      "    if os.path.exists(filename):\n",
      "  File \"/usr/lib/python3.7/genericpath.py\", line 19, in exists\n",
      "    os.stat(path)\n",
      "KeyboardInterrupt\n"
     ]
    },
    {
     "ename": "KeyboardInterrupt",
     "evalue": "ignored",
     "output_type": "error",
     "traceback": [
      "\u001b[0;31m---------------------------------------------------------------------------\u001b[0m"
     ]
    }
   ],
   "source": [
    "sample_tags = get_pos_tags(review_words)"
   ]
  },
  {
   "cell_type": "code",
   "execution_count": null,
   "id": "v_8ilhisEikh",
   "metadata": {
    "id": "v_8ilhisEikh"
   },
   "outputs": [],
   "source": [
    "tag_fd = nltk.FreqDist(l[0][1] for l in sample_tags)\n",
    "tag_fd.most_common()"
   ]
  },
  {
   "cell_type": "markdown",
   "id": "cOSpa1rqEpW_",
   "metadata": {
    "id": "cOSpa1rqEpW_"
   },
   "source": [
    "Aquí explicaremos qué es cada tag de los más repetidos:\n",
    "\n",
    "\n",
    "1.   NN: Noun\n",
    "2.   NNS: Noun plural\n",
    "3.   JJ: This NLTK POS Tag is an adjective\n",
    "4.   RB: Adverb\n",
    "5.   VGB: Verb gerund\n",
    "6.   VBN: Verb past participle\n",
    "7.   VB Verb\n",
    "8.   IN: Preposition/subordinating conjunction\n",
    "9.   CD: Cardinal digit\n",
    "10.  Verb past tense \n"
   ]
  },
  {
   "cell_type": "code",
   "execution_count": null,
   "id": "pT-ABcjcEwrC",
   "metadata": {
    "id": "pT-ABcjcEwrC"
   },
   "outputs": [],
   "source": [
    "wc2 = wordcloud.WordCloud(\n",
    "    width=1000, \n",
    "    height=1000, \n",
    "    stopwords=stopwords,\n",
    "    max_words=100,\n",
    "    collocations=False\n",
    ").generate(text=(' '.join(review_words)).lower())"
   ]
  },
  {
   "cell_type": "code",
   "execution_count": null,
   "id": "QXvtkWmoEzy4",
   "metadata": {
    "id": "QXvtkWmoEzy4"
   },
   "outputs": [],
   "source": [
    "get_ipython().run_line_magic('matplotlib', 'inline')\n",
    "plt.figure(figsize=[10,10])\n",
    "plt.imshow(wc2)\n",
    "plt.axis(\"off\")"
   ]
  },
  {
   "cell_type": "markdown",
   "id": "733c660e",
   "metadata": {
    "id": "733c660e"
   },
   "source": [
    "<div id=\"heading--4\"/>\n",
    "\n",
    "## 3. Preprocesado"
   ]
  },
  {
   "cell_type": "markdown",
   "id": "6115c94e",
   "metadata": {
    "id": "6115c94e"
   },
   "source": [
    "Como se puede ver en el caso que se encuentra abajo, podemos encontrarnos con tags de código html:"
   ]
  },
  {
   "cell_type": "code",
   "execution_count": 13,
   "id": "1f1116e5",
   "metadata": {
    "colab": {
     "base_uri": "https://localhost:8080/",
     "height": 140
    },
    "id": "1f1116e5",
    "outputId": "7bf222bb-7615-4fdc-a53a-f2b84d4c8abf"
   },
   "outputs": [
    {
     "data": {
      "text/plain": [
       "'A wonderful little production. <br /><br />The filming technique is very unassuming- very old-time-BBC fashion and gives a comforting, and sometimes discomforting, sense of realism to the entire piece. <br /><br />The actors are extremely well chosen- Michael Sheen not only \"has got all the polari\" but he has all the voices down pat too! You can truly see the seamless editing guided by the references to Williams\\' diary entries, not only is it well worth the watching but it is a terrificly written and performed piece. A masterful production about one of the great master\\'s of comedy and his life. <br /><br />The realism really comes home with the little things: the fantasy of the guard which, rather than use the traditional \\'dream\\' techniques remains solid then disappears. It plays on our knowledge and our senses, particularly with the scenes concerning Orton and Halliwell and the sets (particularly of their flat with Halliwell\\'s murals decorating every surface) are terribly well done.'"
      ]
     },
     "execution_count": 13,
     "metadata": {},
     "output_type": "execute_result"
    }
   ],
   "source": [
    "reviews.iloc[1,0]"
   ]
  },
  {
   "cell_type": "markdown",
   "id": "9087c8a8",
   "metadata": {
    "id": "9087c8a8"
   },
   "source": [
    "Para ello crearemos una función que te permita eliminar todos los tags del código:"
   ]
  },
  {
   "cell_type": "code",
   "execution_count": 14,
   "id": "feb28baa",
   "metadata": {
    "executionInfo": {
     "elapsed": 236,
     "status": "ok",
     "timestamp": 1653153197060,
     "user": {
      "displayName": "Pablo Sanz",
      "userId": "02387679861260039699"
     },
     "user_tz": -120
    },
    "id": "feb28baa"
   },
   "outputs": [],
   "source": [
    "def tags_out(review,stopwords):\n",
    "    review = review.lower()\n",
    "    review = re.sub('<br />','',review)\n",
    "    review = re.sub('[^a-zA-Z]', ' ', review)\n",
    "    review = re.sub(r\"\\s+[a-zA-Z]\\s+\", ' ', review)\n",
    "    for palabra in stopwords:\n",
    "        review = re.sub(' ' + palabra + ' ',' ', review)\n",
    "    review = re.sub(r'\\s+',' ', review)\n",
    "    return review"
   ]
  },
  {
   "cell_type": "code",
   "execution_count": 15,
   "id": "0d66fc40",
   "metadata": {
    "colab": {
     "base_uri": "https://localhost:8080/",
     "height": 105
    },
    "id": "0d66fc40",
    "outputId": "e7c6e9b0-c275-44aa-e0a3-f0dba6f1e53d"
   },
   "outputs": [
    {
     "data": {
      "text/plain": [
       "'a wonderful little production filming technique unassuming old time bbc fashion gives comforting sometimes discomforting sense realism entire piece actors extremely well chosen michael sheen got polari voices pat truly see seamless editing guided references williams diary entries well worth watching terrificly written performed piece masterful production one great master comedy life realism really comes home little things fantasy guard rather use traditional dream techniques remains solid disappears plays knowledge senses particularly scenes concerning orton halliwell sets particularly flat halliwell murals decorating every surface terribly well done '"
      ]
     },
     "execution_count": 15,
     "metadata": {},
     "output_type": "execute_result"
    }
   ],
   "source": [
    "tags_out(reviews.iloc[1,0],stopwords)"
   ]
  },
  {
   "cell_type": "markdown",
   "id": "e1984ab6",
   "metadata": {
    "id": "e1984ab6"
   },
   "source": [
    "Una vez visto que nuestra función trabaja correctamente vamos a aplicarselo a todas las reviews:"
   ]
  },
  {
   "cell_type": "code",
   "execution_count": 16,
   "id": "46e7e174",
   "metadata": {
    "executionInfo": {
     "elapsed": 53373,
     "status": "ok",
     "timestamp": 1653153254030,
     "user": {
      "displayName": "Pablo Sanz",
      "userId": "02387679861260039699"
     },
     "user_tz": -120
    },
    "id": "46e7e174"
   },
   "outputs": [],
   "source": [
    "reviews_list_pp = list(reviews['review'])\n",
    "review_post = [tags_out(review,stopwords) for review in reviews_list_pp]"
   ]
  },
  {
   "cell_type": "markdown",
   "id": "6a769d6c",
   "metadata": {
    "id": "6a769d6c"
   },
   "source": [
    "Por último pasaremos de string a integer la columna sentimientos:"
   ]
  },
  {
   "cell_type": "code",
   "execution_count": 17,
   "id": "9e0c1cc7",
   "metadata": {
    "executionInfo": {
     "elapsed": 222,
     "status": "ok",
     "timestamp": 1653153312734,
     "user": {
      "displayName": "Pablo Sanz",
      "userId": "02387679861260039699"
     },
     "user_tz": -120
    },
    "id": "9e0c1cc7"
   },
   "outputs": [],
   "source": [
    "sentimiento = reviews['sentiment']\n",
    "sentimiento = np.array(list(map(lambda x: 1 if x==\"positive\" else 0, sentimiento)))"
   ]
  },
  {
   "cell_type": "markdown",
   "id": "75f60141",
   "metadata": {
    "id": "75f60141"
   },
   "source": [
    "Ahora volveremos a hacer un análisis exploratorio habiendo hecho un preprocesado de los datos:"
   ]
  },
  {
   "cell_type": "code",
   "execution_count": 18,
   "id": "k3EepvuATxdV",
   "metadata": {
    "colab": {
     "base_uri": "https://localhost:8080/"
    },
    "id": "k3EepvuATxdV",
    "outputId": "b60bc0d1-cdeb-4145-fe48-4bf1e53c65ea"
   },
   "outputs": [
    {
     "name": "stdout",
     "output_type": "stream",
     "text": [
      "zsh: no such option: NotebookApp.iopub_data_rate_limit = 1000000000\r\n"
     ]
    }
   ],
   "source": [
    "!--NotebookApp.iopub_data_rate_limit = 1000000000"
   ]
  },
  {
   "cell_type": "markdown",
   "id": "df1a1244",
   "metadata": {
    "id": "df1a1244"
   },
   "source": [
    "Como hemos comentado antes, al no haber preprocesado los datos nos salían como palabras más usadas o stop words o símbolos. Una vez que hemos preprocesado los datos vamos a volver a lanzar la función y ver que nos devuelve."
   ]
  },
  {
   "cell_type": "code",
   "execution_count": 22,
   "id": "18f87aea",
   "metadata": {
    "colab": {
     "base_uri": "https://localhost:8080/"
    },
    "id": "18f87aea",
    "outputId": "aebe2cf2-49c4-41fe-d98e-d1e9c0ee62d7"
   },
   "outputs": [
    {
     "name": "stderr",
     "output_type": "stream",
     "text": [
      "IOPub data rate exceeded.\n",
      "The notebook server will temporarily stop sending output\n",
      "to the client in order to avoid crashing it.\n",
      "To change this limit, set the config variable\n",
      "`--NotebookApp.iopub_data_rate_limit`.\n",
      "\n",
      "Current values:\n",
      "NotebookApp.iopub_data_rate_limit=1000000.0 (bytes/sec)\n",
      "NotebookApp.rate_limit_window=3.0 (secs)\n",
      "\n"
     ]
    }
   ],
   "source": [
    "review_words_pp = get_word_tokens(review_post)"
   ]
  },
  {
   "cell_type": "code",
   "execution_count": 23,
   "id": "e2d7a90a",
   "metadata": {
    "id": "e2d7a90a"
   },
   "outputs": [],
   "source": [
    "matplotlib.use('TkAgg')"
   ]
  },
  {
   "cell_type": "code",
   "execution_count": 26,
   "id": "2fe4bf87",
   "metadata": {
    "colab": {
     "base_uri": "https://localhost:8080/",
     "height": 290
    },
    "id": "2fe4bf87",
    "outputId": "d97e67b5-fb71-4b91-c626-162e1b8c36a1"
   },
   "outputs": [
    {
     "data": {
      "image/png": "[encoded data removed]",
      "text/plain": [
       "<Figure size 432x288 with 1 Axes>"
      ]
     },
     "metadata": {
      "needs_background": "light"
     },
     "output_type": "display_data"
    }
   ],
   "source": [
    "plot_freq_dist(review_words_pp, num_words=20)"
   ]
  },
  {
   "cell_type": "code",
   "execution_count": 27,
   "id": "ad6dd020",
   "metadata": {
    "id": "ad6dd020"
   },
   "outputs": [],
   "source": [
    "wc2 = wordcloud.WordCloud(\n",
    "    width=1000, \n",
    "    height=1000, \n",
    "    stopwords=stopwords,\n",
    "    max_words=100,\n",
    "    collocations=False\n",
    ").generate(text=(' '.join(review_words_pp)).lower())"
   ]
  },
  {
   "cell_type": "code",
   "execution_count": 28,
   "id": "63d159bd",
   "metadata": {
    "colab": {
     "base_uri": "https://localhost:8080/",
     "height": 592
    },
    "id": "63d159bd",
    "outputId": "d3a7af31-1a2c-4cdc-c12d-348da2edf392"
   },
   "outputs": [
    {
     "data": {
      "text/plain": [
       "(-0.5, 999.5, 999.5, -0.5)"
      ]
     },
     "execution_count": 28,
     "metadata": {},
     "output_type": "execute_result"
    },
    {
     "data": {
      "image/png": "[encoded data removed]",
      "text/plain": [
       "<Figure size 720x720 with 1 Axes>"
      ]
     },
     "metadata": {
      "needs_background": "light"
     },
     "output_type": "display_data"
    }
   ],
   "source": [
    "get_ipython().run_line_magic('matplotlib', 'inline')\n",
    "plt.figure(figsize=[10,10])\n",
    "plt.imshow(wc2)\n",
    "plt.axis(\"off\")"
   ]
  },
  {
   "cell_type": "markdown",
   "id": "013687b2",
   "metadata": {
    "id": "013687b2"
   },
   "source": [
    "<div id=\"heading--5\"/>\n",
    "\n",
    "## 4. División de datos"
   ]
  },
  {
   "cell_type": "markdown",
   "id": "ff23aba7",
   "metadata": {
    "id": "ff23aba7"
   },
   "source": [
    "A continuación vamos a dividir los datos entre train y test, usando una semilla para evitar la aletoriedad."
   ]
  },
  {
   "cell_type": "code",
   "execution_count": 29,
   "id": "77825718",
   "metadata": {
    "executionInfo": {
     "elapsed": 323,
     "status": "ok",
     "timestamp": 1653153329394,
     "user": {
      "displayName": "Pablo Sanz",
      "userId": "02387679861260039699"
     },
     "user_tz": -120
    },
    "id": "77825718"
   },
   "outputs": [],
   "source": [
    "X_train, X_test, y_train, y_test = train_test_split(review_post, sentimiento,test_size=0.20, random_state=2022)"
   ]
  },
  {
   "cell_type": "markdown",
   "id": "a6d0ea89",
   "metadata": {
    "id": "a6d0ea89"
   },
   "source": [
    "<div id=\"heading--6\"/>\n",
    "\n",
    "## 5. Proceso de Tokenización"
   ]
  },
  {
   "cell_type": "markdown",
   "id": "83cc5062",
   "metadata": {
    "id": "83cc5062"
   },
   "source": [
    "Antes de tirar cualquier modelo lo que vamos a hacer es realizar el proceso de tokenización de los datos."
   ]
  },
  {
   "cell_type": "code",
   "execution_count": 30,
   "id": "a9443ae2",
   "metadata": {
    "executionInfo": {
     "elapsed": 8919,
     "status": "ok",
     "timestamp": 1653153341276,
     "user": {
      "displayName": "Pablo Sanz",
      "userId": "02387679861260039699"
     },
     "user_tz": -120
    },
    "id": "a9443ae2"
   },
   "outputs": [],
   "source": [
    "tokenizer = Tokenizer(num_words=5000)\n",
    "tokenizer.fit_on_texts(X_train)\n",
    "X_train = tokenizer.texts_to_sequences(X_train)\n",
    "X_test = tokenizer.texts_to_sequences(X_test)"
   ]
  },
  {
   "cell_type": "code",
   "execution_count": 31,
   "id": "87650bf6",
   "metadata": {
    "executionInfo": {
     "elapsed": 349,
     "status": "ok",
     "timestamp": 1653153341616,
     "user": {
      "displayName": "Pablo Sanz",
      "userId": "02387679861260039699"
     },
     "user_tz": -120
    },
    "id": "87650bf6"
   },
   "outputs": [],
   "source": [
    "vocab_size = len(tokenizer.word_index) + 1\n",
    "maxlen = 150 \n",
    "X_train = pad_sequences(X_train, padding='post', maxlen=maxlen)\n",
    "X_test = pad_sequences(X_test, padding='post', maxlen=maxlen)"
   ]
  },
  {
   "cell_type": "markdown",
   "id": "99040298",
   "metadata": {
    "id": "99040298"
   },
   "source": [
    "A continuación lo que haremos será crear un diccionario de embedding el cual nos resultará muy útil para los pesos de las diferentes redes:"
   ]
  },
  {
   "cell_type": "code",
   "execution_count": 32,
   "id": "0f206d79",
   "metadata": {
    "executionInfo": {
     "elapsed": 7,
     "status": "ok",
     "timestamp": 1653153342422,
     "user": {
      "displayName": "Pablo Sanz",
      "userId": "02387679861260039699"
     },
     "user_tz": -120
    },
    "id": "0f206d79"
   },
   "outputs": [],
   "source": [
    "def embeddings(path):\n",
    "    embeddings_dictionary = dict()\n",
    "    embeddings_file=open(path)\n",
    "    for line in embeddings_file:\n",
    "        records = line.split()\n",
    "        word = records[0]\n",
    "        vector_dimensions = np.asarray(records[1:],dtype='float32')\n",
    "        embeddings_dictionary [word] = vector_dimensions\n",
    "    embeddings_file.close()\n",
    "    embedding_matrix = np.zeros((vocab_size, 100))\n",
    "    \n",
    "    for word, index in tokenizer.word_index.items():\n",
    "        embedding_vector = embeddings_dictionary.get(word)\n",
    "        if embedding_vector is not None:\n",
    "            embedding_matrix[index] = embedding_vector\n",
    "    \n",
    "    return embedding_matrix"
   ]
  },
  {
   "cell_type": "markdown",
   "id": "b47c21ce",
   "metadata": {
    "id": "b47c21ce"
   },
   "source": [
    "<div id=\"heading--7\"/>\n",
    "\n",
    "## 6. Modelos"
   ]
  },
  {
   "cell_type": "markdown",
   "id": "02c056f1",
   "metadata": {
    "id": "02c056f1"
   },
   "source": [
    "Una cosa que será bastante importante es la evaluación del modelo. Para ello definiremos un par de funciones que permitan sacar los resultados."
   ]
  },
  {
   "cell_type": "code",
   "execution_count": 33,
   "id": "64dcf154",
   "metadata": {
    "executionInfo": {
     "elapsed": 206,
     "status": "ok",
     "timestamp": 1653153347720,
     "user": {
      "displayName": "Pablo Sanz",
      "userId": "02387679861260039699"
     },
     "user_tz": -120
    },
    "id": "64dcf154"
   },
   "outputs": [],
   "source": [
    "def evaluateModel(model):\n",
    "    score = model.evaluate(X_test, y_test, verbose=1)\n",
    "    print(\"Test Accuracy:\", score[1])"
   ]
  },
  {
   "cell_type": "code",
   "execution_count": 34,
   "id": "092f55d9",
   "metadata": {
    "executionInfo": {
     "elapsed": 8,
     "status": "ok",
     "timestamp": 1653153350336,
     "user": {
      "displayName": "Pablo Sanz",
      "userId": "02387679861260039699"
     },
     "user_tz": -120
    },
    "id": "092f55d9"
   },
   "outputs": [],
   "source": [
    "def AccLoss(history):\n",
    "    plt.plot(history.history['loss'])\n",
    "    plt.plot(history.history['val_loss'])\n",
    "    plt.title('model loss')\n",
    "    plt.ylabel('loss')\n",
    "    plt.xlabel('epoch')\n",
    "    plt.legend(['train','test'], loc='upper left')\n",
    "    plt.show()"
   ]
  },
  {
   "cell_type": "markdown",
   "id": "d6c7d75b",
   "metadata": {
    "id": "d6c7d75b"
   },
   "source": [
    "Y a su vez también sacaremos la matriz de embedding usando el archivo de word2vec."
   ]
  },
  {
   "cell_type": "code",
   "execution_count": 35,
   "id": "8d005104",
   "metadata": {
    "id": "8d005104"
   },
   "outputs": [],
   "source": [
    "embedding_matrix = embeddings('./word2vec.txt')"
   ]
  },
  {
   "cell_type": "markdown",
   "id": "31c07e2d",
   "metadata": {
    "id": "31c07e2d"
   },
   "source": [
    "A continuación ya comenzaremos a lanzar modelos, donde trabajaremos con redes neuronales simples, CNN, RNN + CNN y LTSM."
   ]
  },
  {
   "cell_type": "markdown",
   "id": "f342742b",
   "metadata": {
    "id": "f342742b"
   },
   "source": [
    "<div id=\"heading--5-1\"/>\n",
    "\n",
    "### 6.1. Red Neuronal Simple"
   ]
  },
  {
   "cell_type": "code",
   "execution_count": 36,
   "id": "79e9ce98",
   "metadata": {
    "id": "79e9ce98"
   },
   "outputs": [],
   "source": [
    "random_state = 2022"
   ]
  },
  {
   "cell_type": "code",
   "execution_count": 40,
   "id": "b25c2959",
   "metadata": {
    "id": "b25c2959"
   },
   "outputs": [],
   "source": [
    "model = keras.Sequential(\n",
    "      [\n",
    "          layers.Embedding(vocab_size, 100, weights=[embedding_matrix],input_length=maxlen , trainable=False),\n",
    "          layers.Flatten(),\n",
    "          layers.Dense(10,activation = \"sigmoid\"),\n",
    "          layers.Dropout(0.1),\n",
    "          layers.Dense(5,activation = \"sigmoid\"),\n",
    "          layers.Dense(1,activation=\"sigmoid\")\n",
    "      ]\n",
    "  )"
   ]
  },
  {
   "cell_type": "code",
   "execution_count": 41,
   "id": "a3159478",
   "metadata": {
    "id": "a3159478"
   },
   "outputs": [],
   "source": [
    "model.compile(loss='binary_crossentropy', optimizer='Adam',metrics='acc')"
   ]
  },
  {
   "cell_type": "code",
   "execution_count": 42,
   "id": "b1353e66",
   "metadata": {
    "colab": {
     "base_uri": "https://localhost:8080/"
    },
    "id": "b1353e66",
    "outputId": "d4600f97-37ab-4e12-a66d-e8c12781c643"
   },
   "outputs": [
    {
     "name": "stdout",
     "output_type": "stream",
     "text": [
      "Epoch 1/5\n",
      "125/125 [==============================] - 2s 9ms/step - loss: 0.7075 - acc: 0.4997 - val_loss: 0.6842 - val_acc: 0.4958\n",
      "Epoch 2/5\n",
      "125/125 [==============================] - 1s 9ms/step - loss: 0.6259 - acc: 0.6217 - val_loss: 0.5790 - val_acc: 0.8264\n",
      "Epoch 3/5\n",
      "125/125 [==============================] - 1s 9ms/step - loss: 0.5166 - acc: 0.8537 - val_loss: 0.4971 - val_acc: 0.8364\n",
      "Epoch 4/5\n",
      "125/125 [==============================] - 1s 9ms/step - loss: 0.4196 - acc: 0.8898 - val_loss: 0.4464 - val_acc: 0.8336\n",
      "Epoch 5/5\n",
      "125/125 [==============================] - 1s 9ms/step - loss: 0.3432 - acc: 0.9098 - val_loss: 0.4195 - val_acc: 0.8378\n"
     ]
    }
   ],
   "source": [
    "history = model.fit(x=X_train,y=y_train,batch_size=256,epochs=5,verbose=1,validation_split=0.2)"
   ]
  },
  {
   "cell_type": "code",
   "execution_count": 43,
   "id": "019a43f4",
   "metadata": {
    "colab": {
     "base_uri": "https://localhost:8080/"
    },
    "id": "019a43f4",
    "outputId": "1b47f28b-2b3f-41cc-cb18-154218777f1a"
   },
   "outputs": [
    {
     "name": "stdout",
     "output_type": "stream",
     "text": [
      "313/313 [==============================] - 1s 2ms/step - loss: 0.4198 - acc: 0.8371\n",
      "Test Accuracy: 0.8371000289916992\n"
     ]
    }
   ],
   "source": [
    "evaluateModel(model)"
   ]
  },
  {
   "cell_type": "code",
   "execution_count": 44,
   "id": "68591b20",
   "metadata": {
    "colab": {
     "base_uri": "https://localhost:8080/",
     "height": 295
    },
    "id": "68591b20",
    "outputId": "16fc0a56-37eb-4a7a-f23b-6bb46236656c"
   },
   "outputs": [
    {
     "data": {
      "image/png": "[encoded data removed]",
      "text/plain": [
       "<Figure size 432x288 with 1 Axes>"
      ]
     },
     "metadata": {
      "needs_background": "light"
     },
     "output_type": "display_data"
    }
   ],
   "source": [
    "AccLoss(history)"
   ]
  },
  {
   "cell_type": "markdown",
   "id": "8f64acde",
   "metadata": {},
   "source": [
    "## Conclusión del modelo\n"
   ]
  },
  {
   "cell_type": "markdown",
   "id": "a62f21a9",
   "metadata": {},
   "source": [
    "Tras observar la pérdida de este modelo vemos que parte de 0.7, tanto el train como el test, descendiendo hasta alcanzar unos valores de 0.35 y 0.45 respectivamente. Además, observamos que, a partir del 2º epoch, las pérdidas empiezan a alejarse asegurando overfitting"
   ]
  },
  {
   "cell_type": "markdown",
   "id": "cbce2d4e",
   "metadata": {
    "id": "cbce2d4e"
   },
   "source": [
    "<div id=\"heading--5-2\"/>\n",
    "\n",
    "### 6.2. CNN"
   ]
  },
  {
   "cell_type": "code",
   "execution_count": 45,
   "id": "fa4ccdd3",
   "metadata": {
    "id": "fa4ccdd3"
   },
   "outputs": [],
   "source": [
    "random_state = 2022"
   ]
  },
  {
   "cell_type": "code",
   "execution_count": 54,
   "id": "ca774407",
   "metadata": {
    "id": "ca774407"
   },
   "outputs": [],
   "source": [
    "model = keras.Sequential(\n",
    "      [\n",
    "          layers.Embedding(vocab_size, 100, weights=[embedding_matrix],input_length=maxlen),\n",
    "          layers.Conv1D(filters=64,kernel_size=4,activation=\"relu\"),\n",
    "          layers.MaxPooling1D(),\n",
    "          layers.Conv1D(filters=32,kernel_size=3,activation=\"relu\"),\n",
    "          layers.MaxPooling1D(),\n",
    "          layers.Flatten(),\n",
    "          layers.Dense(5,activation=\"sigmoid\"),\n",
    "          layers.Dense(1,activation=\"sigmoid\"),\n",
    "      ]\n",
    "  )"
   ]
  },
  {
   "cell_type": "code",
   "execution_count": 55,
   "id": "cadf8beb",
   "metadata": {
    "id": "cadf8beb"
   },
   "outputs": [],
   "source": [
    "model.compile(loss='binary_crossentropy', optimizer='Adam',metrics='acc')"
   ]
  },
  {
   "cell_type": "code",
   "execution_count": 56,
   "id": "8ded9274",
   "metadata": {
    "colab": {
     "base_uri": "https://localhost:8080/"
    },
    "id": "8ded9274",
    "outputId": "0295f5fc-0dec-48d4-fff6-ef9c95347ae2"
   },
   "outputs": [
    {
     "name": "stdout",
     "output_type": "stream",
     "text": [
      "Epoch 1/5\n",
      "250/250 [==============================] - 36s 140ms/step - loss: 0.5270 - acc: 0.7662 - val_loss: 0.4185 - val_acc: 0.8696\n",
      "Epoch 2/5\n",
      "250/250 [==============================] - 32s 129ms/step - loss: 0.3789 - acc: 0.8775 - val_loss: 0.4021 - val_acc: 0.8403\n",
      "Epoch 3/5\n",
      "250/250 [==============================] - 31s 123ms/step - loss: 0.3181 - acc: 0.8962 - val_loss: 0.3335 - val_acc: 0.8820\n",
      "Epoch 4/5\n",
      "250/250 [==============================] - 32s 129ms/step - loss: 0.2671 - acc: 0.9168 - val_loss: 0.3274 - val_acc: 0.8820\n",
      "Epoch 5/5\n",
      "250/250 [==============================] - 37s 147ms/step - loss: 0.2215 - acc: 0.9355 - val_loss: 0.3121 - val_acc: 0.8811\n"
     ]
    }
   ],
   "source": [
    "history = model.fit(x=X_train,y=y_train,batch_size=128,epochs=5,verbose=1,validation_split=0.2)"
   ]
  },
  {
   "cell_type": "code",
   "execution_count": 57,
   "id": "3bb8bb98",
   "metadata": {
    "colab": {
     "base_uri": "https://localhost:8080/"
    },
    "id": "3bb8bb98",
    "outputId": "3f464b55-cca2-4551-b314-507fbc1a8331"
   },
   "outputs": [
    {
     "name": "stdout",
     "output_type": "stream",
     "text": [
      "313/313 [==============================] - 2s 5ms/step - loss: 0.2995 - acc: 0.8877\n",
      "Test Accuracy: 0.8877000212669373\n"
     ]
    }
   ],
   "source": [
    "evaluateModel(model)"
   ]
  },
  {
   "cell_type": "code",
   "execution_count": 58,
   "id": "44a0e9de",
   "metadata": {
    "colab": {
     "base_uri": "https://localhost:8080/",
     "height": 295
    },
    "id": "44a0e9de",
    "outputId": "af3d2370-e272-411f-c66e-cfc0ab5a2476"
   },
   "outputs": [
    {
     "data": {
      "image/png": "[encoded data removed]",
      "text/plain": [
       "<Figure size 432x288 with 1 Axes>"
      ]
     },
     "metadata": {
      "needs_background": "light"
     },
     "output_type": "display_data"
    }
   ],
   "source": [
    "AccLoss(history)"
   ]
  },
  {
   "cell_type": "markdown",
   "id": "5126f999",
   "metadata": {},
   "source": [
    "# Conclusión del modelo"
   ]
  },
  {
   "cell_type": "markdown",
   "id": "cf6e8ae5",
   "metadata": {},
   "source": [
    "Tras observar la pérdida de este modelo vemos que parte de 0.6 el train y 0.42 el test, descendiendo hasta alcanzar unos valores de 0.20 y 0.35 respectivamente. Además, observamos que, a partir del 2º epoch, las pérdidas empiezan a alejarse asegurando overfitting"
   ]
  },
  {
   "cell_type": "markdown",
   "id": "e44a926e",
   "metadata": {
    "id": "e44a926e"
   },
   "source": [
    "<div id=\"heading--5-3\"/>\n",
    "\n",
    "### 6.3. RNN + CNN"
   ]
  },
  {
   "cell_type": "code",
   "execution_count": null,
   "id": "fe2e7af3",
   "metadata": {
    "id": "fe2e7af3"
   },
   "outputs": [],
   "source": [
    "random_state = 2022"
   ]
  },
  {
   "cell_type": "code",
   "execution_count": null,
   "id": "068365d5",
   "metadata": {
    "id": "068365d5"
   },
   "outputs": [],
   "source": [
    "model = keras.Sequential([\n",
    "    layers.Embedding(vocab_size,100, weights=[embedding_matrix],input_length=maxlen),\n",
    "    layers.Conv1D(filters=128, kernel_size=5, activation='relu'),\n",
    "    layers.MaxPooling1D(pool_size=2),\n",
    "    layers.Conv1D(filters=64, kernel_size=5, activation='relu'),\n",
    "    layers.MaxPooling1D(pool_size=3),\n",
    "    layers.LSTM(64),\n",
    "    layers.Dense(1, activation='sigmoid')\n",
    "    ])"
   ]
  },
  {
   "cell_type": "code",
   "execution_count": null,
   "id": "0a885a03",
   "metadata": {
    "id": "0a885a03"
   },
   "outputs": [],
   "source": [
    "model.compile(loss='binary_crossentropy', optimizer='Adam',metrics='acc')"
   ]
  },
  {
   "cell_type": "code",
   "execution_count": null,
   "id": "409869a0",
   "metadata": {
    "colab": {
     "base_uri": "https://localhost:8080/"
    },
    "id": "409869a0",
    "outputId": "238a5ed0-2f35-497e-c07f-914632b32dd0"
   },
   "outputs": [
    {
     "name": "stdout",
     "output_type": "stream",
     "text": [
      "Epoch 1/5\n",
      "250/250 [==============================] - 103s 404ms/step - loss: 0.3871 - acc: 0.8202 - val_loss: 0.3124 - val_acc: 0.8717\n",
      "Epoch 2/5\n",
      "250/250 [==============================] - 124s 496ms/step - loss: 0.2775 - acc: 0.8861 - val_loss: 0.2851 - val_acc: 0.8811\n",
      "Epoch 3/5\n",
      "250/250 [==============================] - 104s 418ms/step - loss: 0.2312 - acc: 0.9082 - val_loss: 0.2769 - val_acc: 0.8851\n",
      "Epoch 4/5\n",
      "250/250 [==============================] - 100s 401ms/step - loss: 0.1822 - acc: 0.9294 - val_loss: 0.2986 - val_acc: 0.8848\n",
      "Epoch 5/5\n",
      "250/250 [==============================] - 100s 399ms/step - loss: 0.1363 - acc: 0.9501 - val_loss: 0.3293 - val_acc: 0.8824\n"
     ]
    }
   ],
   "source": [
    "history= model.fit(x=X_train,y=y_train,batch_size=128,epochs=5,verbose=1,validation_split=0.2)"
   ]
  },
  {
   "cell_type": "code",
   "execution_count": null,
   "id": "23e6bc35",
   "metadata": {
    "colab": {
     "base_uri": "https://localhost:8080/"
    },
    "id": "23e6bc35",
    "outputId": "6785bce1-67ca-4927-d365-60146ae61a43"
   },
   "outputs": [
    {
     "name": "stdout",
     "output_type": "stream",
     "text": [
      "313/313 [==============================] - 8s 24ms/step - loss: 0.3206 - acc: 0.8856\n",
      "Test Accuracy: 0.8855999708175659\n"
     ]
    }
   ],
   "source": [
    "evaluateModel(model)"
   ]
  },
  {
   "cell_type": "code",
   "execution_count": null,
   "id": "44b9d6fd",
   "metadata": {
    "colab": {
     "base_uri": "https://localhost:8080/",
     "height": 295
    },
    "id": "44b9d6fd",
    "outputId": "ea09615d-ca49-4526-a147-84cf3f99825f"
   },
   "outputs": [
    {
     "data": {
      "image/png": "[encoded data removed]",
      "text/plain": [
       "<Figure size 432x288 with 1 Axes>"
      ]
     },
     "metadata": {
      "needs_background": "light"
     },
     "output_type": "display_data"
    }
   ],
   "source": [
    "AccLoss(history)"
   ]
  },
  {
   "cell_type": "markdown",
   "id": "64f3cb6c",
   "metadata": {},
   "source": [
    "# Conclusión del modelo"
   ]
  },
  {
   "cell_type": "markdown",
   "id": "e0407c55",
   "metadata": {},
   "source": [
    "Tras observar la pérdida de este modelo vemos que parte de 0.4 el train y de 0.32 el test. Además observamos que el único punto en el que no hay overfitting sería en el epoch 1 ya que, tras esto las pérdidas tienden a alejarse, aumentando hasta 0.35 el test y descendiendo hasta 0.15 el train"
   ]
  },
  {
   "cell_type": "markdown",
   "id": "SrKjR-TkWgHN",
   "metadata": {
    "id": "SrKjR-TkWgHN"
   },
   "source": [
    "<div id=\"heading--5-4\"/>\n",
    "\n",
    "### 6.4. LTSM"
   ]
  },
  {
   "cell_type": "code",
   "execution_count": 59,
   "id": "0dfa7d2f",
   "metadata": {
    "id": "0dfa7d2f"
   },
   "outputs": [],
   "source": [
    "model = keras.Sequential(\n",
    "      [\n",
    "          layers.Embedding(vocab_size, 100, weights=[embedding_matrix],input_length=maxlen),\n",
    "          layers.LSTM(128),\n",
    "          layers.Dense(1,activation=\"sigmoid\"),\n",
    "      ]\n",
    "  )"
   ]
  },
  {
   "cell_type": "code",
   "execution_count": 60,
   "id": "ZjjL4gpLWpME",
   "metadata": {
    "id": "ZjjL4gpLWpME"
   },
   "outputs": [],
   "source": [
    "model.compile(loss='binary_crossentropy', optimizer='Adam',metrics='acc')"
   ]
  },
  {
   "cell_type": "code",
   "execution_count": 61,
   "id": "QHUwCfFxWteO",
   "metadata": {
    "colab": {
     "base_uri": "https://localhost:8080/"
    },
    "id": "QHUwCfFxWteO",
    "outputId": "b06aad0b-7e7f-458c-db79-daac3cae424d"
   },
   "outputs": [
    {
     "name": "stdout",
     "output_type": "stream",
     "text": [
      "Epoch 1/5\n",
      "250/250 [==============================] - 93s 366ms/step - loss: 0.6414 - acc: 0.6136 - val_loss: 0.6380 - val_acc: 0.6062\n",
      "Epoch 2/5\n",
      "250/250 [==============================] - 91s 364ms/step - loss: 0.6011 - acc: 0.6800 - val_loss: 0.5855 - val_acc: 0.6830\n",
      "Epoch 3/5\n",
      "250/250 [==============================] - 93s 374ms/step - loss: 0.6295 - acc: 0.6156 - val_loss: 0.7172 - val_acc: 0.5281\n",
      "Epoch 4/5\n",
      "250/250 [==============================] - 93s 371ms/step - loss: 0.4474 - acc: 0.8120 - val_loss: 0.4095 - val_acc: 0.8404\n",
      "Epoch 5/5\n",
      "250/250 [==============================] - 93s 371ms/step - loss: 0.3315 - acc: 0.8664 - val_loss: 0.3144 - val_acc: 0.8734\n"
     ]
    }
   ],
   "source": [
    "history= model.fit(x=X_train,y=y_train,batch_size=128,epochs=5,verbose=1,validation_split=0.2)"
   ]
  },
  {
   "cell_type": "code",
   "execution_count": 62,
   "id": "M8Zpyx6mXBgT",
   "metadata": {
    "colab": {
     "base_uri": "https://localhost:8080/"
    },
    "id": "M8Zpyx6mXBgT",
    "outputId": "5d0a2484-537a-4f1c-eb5f-9cafd45d7f01"
   },
   "outputs": [
    {
     "name": "stdout",
     "output_type": "stream",
     "text": [
      "313/313 [==============================] - 11s 36ms/step - loss: 0.3012 - acc: 0.8780\n",
      "Test Accuracy: 0.878000020980835\n"
     ]
    }
   ],
   "source": [
    "evaluateModel(model)"
   ]
  },
  {
   "cell_type": "code",
   "execution_count": 63,
   "id": "h5zcksmXXC4x",
   "metadata": {
    "colab": {
     "base_uri": "https://localhost:8080/",
     "height": 295
    },
    "id": "h5zcksmXXC4x",
    "outputId": "53117a82-0663-451b-98ab-aa50520b7c2d"
   },
   "outputs": [
    {
     "data": {
      "image/png": "[encoded data removed]",
      "text/plain": [
       "<Figure size 432x288 with 1 Axes>"
      ]
     },
     "metadata": {
      "needs_background": "light"
     },
     "output_type": "display_data"
    }
   ],
   "source": [
    "AccLoss(history)"
   ]
  },
  {
   "cell_type": "markdown",
   "id": "aa31b411",
   "metadata": {},
   "source": [
    "# Conclusión del modelo"
   ]
  },
  {
   "cell_type": "markdown",
   "id": "3a8143f9",
   "metadata": {},
   "source": [
    "Tras observar la pérdida de este modelo vemos que parte de 0.65, tanto el train como el test, descendiendo hasta alcanzar unos valores de 0.60 , ascendiendo luego a 0.65 el train y 0,7 el test (presentando overfitting). Sin embargo, tras el epoch 2 vuelven a juntarse estas rectas pudiendo afirmar que se corrige el overfitting, además de descender hasta unos valores de 0.35"
   ]
  },
  {
   "cell_type": "markdown",
   "id": "73997a05",
   "metadata": {
    "id": "73997a05"
   },
   "source": [
    "<div id=\"heading--8\"/>\n",
    "\n",
    "## 7. Transformers"
   ]
  },
  {
   "cell_type": "markdown",
   "id": "2e515cce",
   "metadata": {},
   "source": [
    "Lo primero de todo va a ser dividir los datos entre train, test y validación."
   ]
  },
  {
   "cell_type": "code",
   "execution_count": 66,
   "id": "fa7w1i2q5CFu",
   "metadata": {
    "executionInfo": {
     "elapsed": 220,
     "status": "ok",
     "timestamp": 1653158463131,
     "user": {
      "displayName": "Pablo Sanz",
      "userId": "02387679861260039699"
     },
     "user_tz": -120
    },
    "id": "fa7w1i2q5CFu"
   },
   "outputs": [],
   "source": [
    "train, test = train_test_split(reviews, test_size=0.20, random_state=2022)\n",
    "train, validation = train_test_split(train, test_size=0.20, random_state=2022)"
   ]
  },
  {
   "cell_type": "code",
   "execution_count": 67,
   "id": "aq-JnF3V6on3",
   "metadata": {
    "colab": {
     "base_uri": "https://localhost:8080/",
     "height": 419
    },
    "executionInfo": {
     "elapsed": 10,
     "status": "ok",
     "timestamp": 1653158470128,
     "user": {
      "displayName": "Pablo Sanz",
      "userId": "02387679861260039699"
     },
     "user_tz": -120
    },
    "id": "aq-JnF3V6on3",
    "outputId": "1d8468be-c4be-425e-e642-c73027422d7e"
   },
   "outputs": [
    {
     "data": {
      "text/html": [
       "<div>\n",
       "<style scoped>\n",
       "    .dataframe tbody tr th:only-of-type {\n",
       "        vertical-align: middle;\n",
       "    }\n",
       "\n",
       "    .dataframe tbody tr th {\n",
       "        vertical-align: top;\n",
       "    }\n",
       "\n",
       "    .dataframe thead th {\n",
       "        text-align: right;\n",
       "    }\n",
       "</style>\n",
       "<table border=\"1\" class=\"dataframe\">\n",
       "  <thead>\n",
       "    <tr style=\"text-align: right;\">\n",
       "      <th></th>\n",
       "      <th>review</th>\n",
       "      <th>sentiment</th>\n",
       "    </tr>\n",
       "  </thead>\n",
       "  <tbody>\n",
       "    <tr>\n",
       "      <th>6254</th>\n",
       "      <td>Years ago, when I was a poor teenager, my best...</td>\n",
       "      <td>negative</td>\n",
       "    </tr>\n",
       "    <tr>\n",
       "      <th>39291</th>\n",
       "      <td>When I went and saw this movie, I had great ex...</td>\n",
       "      <td>negative</td>\n",
       "    </tr>\n",
       "    <tr>\n",
       "      <th>23759</th>\n",
       "      <td>Buddy Holly was a pioneer and victim of the ea...</td>\n",
       "      <td>positive</td>\n",
       "    </tr>\n",
       "    <tr>\n",
       "      <th>36109</th>\n",
       "      <td>This is NOT your run-of-the mill police story ...</td>\n",
       "      <td>positive</td>\n",
       "    </tr>\n",
       "    <tr>\n",
       "      <th>10584</th>\n",
       "      <td>This is a neat little crime drama which packs ...</td>\n",
       "      <td>positive</td>\n",
       "    </tr>\n",
       "    <tr>\n",
       "      <th>...</th>\n",
       "      <td>...</td>\n",
       "      <td>...</td>\n",
       "    </tr>\n",
       "    <tr>\n",
       "      <th>39282</th>\n",
       "      <td>Although there is very little plot and whateve...</td>\n",
       "      <td>negative</td>\n",
       "    </tr>\n",
       "    <tr>\n",
       "      <th>7518</th>\n",
       "      <td>This is the worst movie I have ever seen. A mo...</td>\n",
       "      <td>negative</td>\n",
       "    </tr>\n",
       "    <tr>\n",
       "      <th>15406</th>\n",
       "      <td>This movie was disappointing for at least one ...</td>\n",
       "      <td>negative</td>\n",
       "    </tr>\n",
       "    <tr>\n",
       "      <th>22600</th>\n",
       "      <td>I've come to realise through watching this sor...</td>\n",
       "      <td>negative</td>\n",
       "    </tr>\n",
       "    <tr>\n",
       "      <th>34466</th>\n",
       "      <td>This movie deals with one of the most feared g...</td>\n",
       "      <td>positive</td>\n",
       "    </tr>\n",
       "  </tbody>\n",
       "</table>\n",
       "<p>32000 rows × 2 columns</p>\n",
       "</div>"
      ],
      "text/plain": [
       "                                                  review sentiment\n",
       "6254   Years ago, when I was a poor teenager, my best...  negative\n",
       "39291  When I went and saw this movie, I had great ex...  negative\n",
       "23759  Buddy Holly was a pioneer and victim of the ea...  positive\n",
       "36109  This is NOT your run-of-the mill police story ...  positive\n",
       "10584  This is a neat little crime drama which packs ...  positive\n",
       "...                                                  ...       ...\n",
       "39282  Although there is very little plot and whateve...  negative\n",
       "7518   This is the worst movie I have ever seen. A mo...  negative\n",
       "15406  This movie was disappointing for at least one ...  negative\n",
       "22600  I've come to realise through watching this sor...  negative\n",
       "34466  This movie deals with one of the most feared g...  positive\n",
       "\n",
       "[32000 rows x 2 columns]"
      ]
     },
     "execution_count": 67,
     "metadata": {},
     "output_type": "execute_result"
    }
   ],
   "source": [
    "train"
   ]
  },
  {
   "cell_type": "code",
   "execution_count": 106,
   "id": "i0o5FXIA5t3L",
   "metadata": {
    "executionInfo": {
     "elapsed": 2486,
     "status": "ok",
     "timestamp": 1653158477722,
     "user": {
      "displayName": "Pablo Sanz",
      "userId": "02387679861260039699"
     },
     "user_tz": -120
    },
    "id": "i0o5FXIA5t3L"
   },
   "outputs": [],
   "source": [
    "train[[\"review\", \"sentiment\"]].to_csv(\"./train.csv\", header=[\"review\", \"sentiment\"], index=False)\n",
    "test[[\"review\", \"sentiment\"]].to_csv(\"./test.csv\", header=[\"review\", \"sentiment\"], index=False)\n",
    "validation[[\"review\", \"sentiment\"]].to_csv(\"./validation.csv\", header=[\"review\", \"sentiment\"], index=False)"
   ]
  },
  {
   "cell_type": "code",
   "execution_count": 108,
   "id": "hIwzoE3NuMFD",
   "metadata": {
    "colab": {
     "base_uri": "https://localhost:8080/",
     "height": 164,
     "referenced_widgets": [
      "b8c54eaa14aa4d41bbaadfd28dc2de52",
      "724d9d88b04e48018321dd04129b4ff5",
      "a9d6397dbfad447f82fe5d828e25e9a9",
      "00c392d4d5f9428d84214012b0c39b14",
      "8722f891ba604b43ac06e1f5c8f8eaf0",
      "2057907d46ab40b9a0800f96488c6b7f",
      "c979e14dba564d59ba876ffb4f30339c",
      "08b64a09c8194a678aa146ad3fd8eadb",
      "64375f394363417daafca5da9b4db866",
      "9a2a980b11604a298e5eab78f2c3097e",
      "390ab91c2d734b728776225d0eb3c89e",
      "b8ac4d76a2c14b418d6a959475504f13",
      "295bcceb3d5843b48e840a9a5d1054a9",
      "a973c8b18499415f94e701b074625b6c",
      "90a644cfbb464a588c68c319f75926f8",
      "1c5cb84b38db40bf817eabc7a7b357f6",
      "a5729097792d40a6add89bdbd9127e94",
      "9a8026a52bf74e29adb7d050d2447594",
      "730959c06a3f4dc8997004a24cca1b9f",
      "0d002de9a9dd4a2ea797f833e8bc5cc1",
      "54fac9a7fadf4d4c9073344c52f4dd40",
      "987d543c57f64e6dbb4369482cebe92f",
      "448503a2784448f3a86b04f5169e5379",
      "ffa442c7f2f540889d96e2d6af446160",
      "0fac846902f04c42b1641ec41c75b8b0",
      "b185350a87514d74a7b1c48c166f93c9",
      "20de067339a44e6fb89c5599dc25fa49",
      "8ca34c26aae04883a2a3a98e0770f2ed",
      "92412f7f45de49589a559efebc67d490",
      "560c2362943a456593fb299d2c80cbf3",
      "860ca4c221874142a76f0ce640b31598",
      "a279da464444444a82548a9af023acdb",
      "92e3259c1af74b10b8d589f9dd5fb661"
     ]
    },
    "executionInfo": {
     "elapsed": 3096,
     "status": "ok",
     "timestamp": 1653158588056,
     "user": {
      "displayName": "Pablo Sanz",
      "userId": "02387679861260039699"
     },
     "user_tz": -120
    },
    "id": "hIwzoE3NuMFD",
    "outputId": "73e90048-4c00-45cd-eda2-50a1efb3a0e7"
   },
   "outputs": [
    {
     "name": "stderr",
     "output_type": "stream",
     "text": [
      "Using custom data configuration default-2ade44e1ce9734a9\n"
     ]
    },
    {
     "name": "stdout",
     "output_type": "stream",
     "text": [
      "Downloading and preparing dataset csv/default to /root/.cache/huggingface/datasets/csv/default-2ade44e1ce9734a9/0.0.0/433e0ccc46f9880962cc2b12065189766fbb2bee57a221866138fb9203c83519...\n"
     ]
    },
    {
     "data": {
      "application/vnd.jupyter.widget-view+json": {
       "model_id": "b8c54eaa14aa4d41bbaadfd28dc2de52",
       "version_major": 2,
       "version_minor": 0
      },
      "text/plain": [
       "Downloading data files:   0%|          | 0/3 [00:00<?, ?it/s]"
      ]
     },
     "metadata": {},
     "output_type": "display_data"
    },
    {
     "data": {
      "application/vnd.jupyter.widget-view+json": {
       "model_id": "b8ac4d76a2c14b418d6a959475504f13",
       "version_major": 2,
       "version_minor": 0
      },
      "text/plain": [
       "Extracting data files:   0%|          | 0/3 [00:00<?, ?it/s]"
      ]
     },
     "metadata": {},
     "output_type": "display_data"
    },
    {
     "name": "stdout",
     "output_type": "stream",
     "text": [
      "Dataset csv downloaded and prepared to /root/.cache/huggingface/datasets/csv/default-2ade44e1ce9734a9/0.0.0/433e0ccc46f9880962cc2b12065189766fbb2bee57a221866138fb9203c83519. Subsequent calls will reuse this data.\n"
     ]
    },
    {
     "data": {
      "application/vnd.jupyter.widget-view+json": {
       "model_id": "448503a2784448f3a86b04f5169e5379",
       "version_major": 2,
       "version_minor": 0
      },
      "text/plain": [
       "  0%|          | 0/3 [00:00<?, ?it/s]"
      ]
     },
     "metadata": {},
     "output_type": "display_data"
    }
   ],
   "source": [
    "dataset_dict = load_dataset(\"csv\", data_files = {\"train\": \"./train.csv\",\n",
    "                                                 \"validation\": \"./validation.csv\",\n",
    "                                                 \"test\": \"./test.csv\"})\n"
   ]
  },
  {
   "cell_type": "code",
   "execution_count": 109,
   "id": "nDuIWZCCn1EA",
   "metadata": {
    "colab": {
     "base_uri": "https://localhost:8080/"
    },
    "executionInfo": {
     "elapsed": 708,
     "status": "ok",
     "timestamp": 1653158592534,
     "user": {
      "displayName": "Pablo Sanz",
      "userId": "02387679861260039699"
     },
     "user_tz": -120
    },
    "id": "nDuIWZCCn1EA",
    "outputId": "78b154aa-bab2-4627-b411-4589854442dd"
   },
   "outputs": [
    {
     "name": "stderr",
     "output_type": "stream",
     "text": [
      "loading configuration file https://huggingface.co/bert-base-uncased/resolve/main/config.json from cache at /root/.cache/huggingface/transformers/3c61d016573b14f7f008c02c4e51a366c67ab274726fe2910691e2a761acf43e.37395cee442ab11005bcd270f3c34464dc1704b715b5d7d52b1a461abe3b9e4e\n",
      "Model config BertConfig {\n",
      "  \"_name_or_path\": \"bert-base-uncased\",\n",
      "  \"architectures\": [\n",
      "    \"BertForMaskedLM\"\n",
      "  ],\n",
      "  \"attention_probs_dropout_prob\": 0.1,\n",
      "  \"classifier_dropout\": null,\n",
      "  \"gradient_checkpointing\": false,\n",
      "  \"hidden_act\": \"gelu\",\n",
      "  \"hidden_dropout_prob\": 0.1,\n",
      "  \"hidden_size\": 768,\n",
      "  \"initializer_range\": 0.02,\n",
      "  \"intermediate_size\": 3072,\n",
      "  \"layer_norm_eps\": 1e-12,\n",
      "  \"max_position_embeddings\": 512,\n",
      "  \"model_type\": \"bert\",\n",
      "  \"num_attention_heads\": 12,\n",
      "  \"num_hidden_layers\": 12,\n",
      "  \"pad_token_id\": 0,\n",
      "  \"position_embedding_type\": \"absolute\",\n",
      "  \"transformers_version\": \"4.19.2\",\n",
      "  \"type_vocab_size\": 2,\n",
      "  \"use_cache\": true,\n",
      "  \"vocab_size\": 30522\n",
      "}\n",
      "\n",
      "loading file https://huggingface.co/bert-base-uncased/resolve/main/vocab.txt from cache at /root/.cache/huggingface/transformers/45c3f7a79a80e1cf0a489e5c62b43f173c15db47864303a55d623bb3c96f72a5.d789d64ebfe299b0e416afc4a169632f903f693095b4629a7ea271d5a0cf2c99\n",
      "loading file https://huggingface.co/bert-base-uncased/resolve/main/tokenizer.json from cache at /root/.cache/huggingface/transformers/534479488c54aeaf9c3406f647aa2ec13648c06771ffe269edabebd4c412da1d.7f2721073f19841be16f41b0a70b600ca6b880c8f3df6f3535cbc704371bdfa4\n",
      "loading file https://huggingface.co/bert-base-uncased/resolve/main/added_tokens.json from cache at None\n",
      "loading file https://huggingface.co/bert-base-uncased/resolve/main/special_tokens_map.json from cache at None\n",
      "loading file https://huggingface.co/bert-base-uncased/resolve/main/tokenizer_config.json from cache at /root/.cache/huggingface/transformers/c1d7f0a763fb63861cc08553866f1fc3e5a6f4f07621be277452d26d71303b7e.20430bd8e10ef77a7d2977accefe796051e01bc2fc4aa146bc862997a1a15e79\n",
      "loading configuration file https://huggingface.co/bert-base-uncased/resolve/main/config.json from cache at /root/.cache/huggingface/transformers/3c61d016573b14f7f008c02c4e51a366c67ab274726fe2910691e2a761acf43e.37395cee442ab11005bcd270f3c34464dc1704b715b5d7d52b1a461abe3b9e4e\n",
      "Model config BertConfig {\n",
      "  \"_name_or_path\": \"bert-base-uncased\",\n",
      "  \"architectures\": [\n",
      "    \"BertForMaskedLM\"\n",
      "  ],\n",
      "  \"attention_probs_dropout_prob\": 0.1,\n",
      "  \"classifier_dropout\": null,\n",
      "  \"gradient_checkpointing\": false,\n",
      "  \"hidden_act\": \"gelu\",\n",
      "  \"hidden_dropout_prob\": 0.1,\n",
      "  \"hidden_size\": 768,\n",
      "  \"initializer_range\": 0.02,\n",
      "  \"intermediate_size\": 3072,\n",
      "  \"layer_norm_eps\": 1e-12,\n",
      "  \"max_position_embeddings\": 512,\n",
      "  \"model_type\": \"bert\",\n",
      "  \"num_attention_heads\": 12,\n",
      "  \"num_hidden_layers\": 12,\n",
      "  \"pad_token_id\": 0,\n",
      "  \"position_embedding_type\": \"absolute\",\n",
      "  \"transformers_version\": \"4.19.2\",\n",
      "  \"type_vocab_size\": 2,\n",
      "  \"use_cache\": true,\n",
      "  \"vocab_size\": 30522\n",
      "}\n",
      "\n"
     ]
    }
   ],
   "source": [
    "from transformers import AutoTokenizer\n",
    "checkpoint = \"bert-base-uncased\"\n",
    "tokenizer = AutoTokenizer.from_pretrained(checkpoint)"
   ]
  },
  {
   "cell_type": "code",
   "execution_count": 110,
   "id": "p6tfQaG5qKZY",
   "metadata": {
    "executionInfo": {
     "elapsed": 272,
     "status": "ok",
     "timestamp": 1653158602313,
     "user": {
      "displayName": "Pablo Sanz",
      "userId": "02387679861260039699"
     },
     "user_tz": -120
    },
    "id": "p6tfQaG5qKZY"
   },
   "outputs": [],
   "source": [
    "def tokenize_function(dataset_dict):\n",
    "    return tokenizer(dataset_dict[\"review\"], truncation = True, padding = True)"
   ]
  },
  {
   "cell_type": "code",
   "execution_count": 111,
   "id": "nTXWdRDwr9l3",
   "metadata": {
    "colab": {
     "base_uri": "https://localhost:8080/"
    },
    "executionInfo": {
     "elapsed": 6,
     "status": "ok",
     "timestamp": 1653158603407,
     "user": {
      "displayName": "Pablo Sanz",
      "userId": "02387679861260039699"
     },
     "user_tz": -120
    },
    "id": "nTXWdRDwr9l3",
    "outputId": "2538731b-67ae-4e39-d885-71beb79ea1c5"
   },
   "outputs": [
    {
     "data": {
      "text/plain": [
       "DatasetDict({\n",
       "    train: Dataset({\n",
       "        features: ['review', 'sentiment'],\n",
       "        num_rows: 32000\n",
       "    })\n",
       "    validation: Dataset({\n",
       "        features: ['review', 'sentiment'],\n",
       "        num_rows: 8000\n",
       "    })\n",
       "    test: Dataset({\n",
       "        features: ['review', 'sentiment'],\n",
       "        num_rows: 10000\n",
       "    })\n",
       "})"
      ]
     },
     "execution_count": 111,
     "metadata": {},
     "output_type": "execute_result"
    }
   ],
   "source": [
    "dataset_dict"
   ]
  },
  {
   "cell_type": "code",
   "execution_count": 122,
   "id": "z3QzkvGiqVGs",
   "metadata": {
    "colab": {
     "base_uri": "https://localhost:8080/"
    },
    "executionInfo": {
     "elapsed": 233,
     "status": "ok",
     "timestamp": 1653159518577,
     "user": {
      "displayName": "Pablo Sanz",
      "userId": "02387679861260039699"
     },
     "user_tz": -120
    },
    "id": "z3QzkvGiqVGs",
    "outputId": "fa2c8d2d-3bda-4d1c-b3f6-da266346713c"
   },
   "outputs": [
    {
     "name": "stderr",
     "output_type": "stream",
     "text": [
      "Loading cached processed dataset at /root/.cache/huggingface/datasets/csv/default-2ade44e1ce9734a9/0.0.0/433e0ccc46f9880962cc2b12065189766fbb2bee57a221866138fb9203c83519/cache-b400e078c438e454.arrow\n",
      "Loading cached processed dataset at /root/.cache/huggingface/datasets/csv/default-2ade44e1ce9734a9/0.0.0/433e0ccc46f9880962cc2b12065189766fbb2bee57a221866138fb9203c83519/cache-d21d5b1c2564d303.arrow\n",
      "Loading cached processed dataset at /root/.cache/huggingface/datasets/csv/default-2ade44e1ce9734a9/0.0.0/433e0ccc46f9880962cc2b12065189766fbb2bee57a221866138fb9203c83519/cache-4f267d9aedfcfbbf.arrow\n"
     ]
    }
   ],
   "source": [
    "tokenized_dataset = dataset_dict.map(tokenize_function, batched=True)"
   ]
  },
  {
   "cell_type": "code",
   "execution_count": 84,
   "id": "CKvbiyh9031Q",
   "metadata": {
    "colab": {
     "base_uri": "https://localhost:8080/"
    },
    "executionInfo": {
     "elapsed": 220,
     "status": "ok",
     "timestamp": 1653156906344,
     "user": {
      "displayName": "Pablo Sanz",
      "userId": "02387679861260039699"
     },
     "user_tz": -120
    },
    "id": "CKvbiyh9031Q",
    "outputId": "8bc05068-130e-4036-d1c8-bd19343453dc"
   },
   "outputs": [
    {
     "data": {
      "text/plain": [
       "Dataset({\n",
       "    features: ['review', 'sentiment', 'input_ids', 'token_type_ids', 'attention_mask'],\n",
       "    num_rows: 50000\n",
       "})"
      ]
     },
     "execution_count": 84,
     "metadata": {},
     "output_type": "execute_result"
    }
   ],
   "source": [
    "tokenized_dataset"
   ]
  },
  {
   "cell_type": "code",
   "execution_count": 114,
   "id": "2nJJJFNPqVVI",
   "metadata": {
    "colab": {
     "base_uri": "https://localhost:8080/"
    },
    "executionInfo": {
     "elapsed": 265,
     "status": "ok",
     "timestamp": 1653158962498,
     "user": {
      "displayName": "Pablo Sanz",
      "userId": "02387679861260039699"
     },
     "user_tz": -120
    },
    "id": "2nJJJFNPqVVI",
    "outputId": "fd338876-9b44-4359-fdc2-9c6b47579ed5"
   },
   "outputs": [
    {
     "data": {
      "text/plain": [
       "[101,\n",
       " 2086,\n",
       " 3283,\n",
       " 1010,\n",
       " 2043,\n",
       " 1045,\n",
       " 2001,\n",
       " 1037,\n",
       " 3532,\n",
       " 10563,\n",
       " 1010,\n",
       " 2026,\n",
       " 2190,\n",
       " 2767,\n",
       " 1998,\n",
       " 2026,\n",
       " 2567,\n",
       " 2119,\n",
       " 2018,\n",
       " 1037,\n",
       " 3343,\n",
       " 2008,\n",
       " 1996,\n",
       " 2711,\n",
       " 8130,\n",
       " 1996,\n",
       " 3185,\n",
       " 2323,\n",
       " 3477,\n",
       " 1012,\n",
       " 1998,\n",
       " 1010,\n",
       " 2096,\n",
       " 1045,\n",
       " 2052,\n",
       " 2196,\n",
       " 3477,\n",
       " 2000,\n",
       " 2156,\n",
       " 2070,\n",
       " 1997,\n",
       " 1996,\n",
       " 10231,\n",
       " 2027,\n",
       " 2165,\n",
       " 2033,\n",
       " 2000,\n",
       " 1010,\n",
       " 1045,\n",
       " 2481,\n",
       " 1005,\n",
       " 1056,\n",
       " 9507,\n",
       " 1037,\n",
       " 2489,\n",
       " 4440,\n",
       " 2000,\n",
       " 1996,\n",
       " 5691,\n",
       " 999,\n",
       " 2008,\n",
       " 1005,\n",
       " 1055,\n",
       " 2129,\n",
       " 1045,\n",
       " 2234,\n",
       " 2000,\n",
       " 2156,\n",
       " 10231,\n",
       " 2066,\n",
       " 1996,\n",
       " 2117,\n",
       " 16608,\n",
       " 3185,\n",
       " 1998,\n",
       " 2196,\n",
       " 2360,\n",
       " 2196,\n",
       " 2153,\n",
       " 999,\n",
       " 2085,\n",
       " 1010,\n",
       " 2750,\n",
       " 2023,\n",
       " 2108,\n",
       " 1037,\n",
       " 23277,\n",
       " 29574,\n",
       " 3185,\n",
       " 1010,\n",
       " 2009,\n",
       " 2003,\n",
       " 1999,\n",
       " 3182,\n",
       " 14036,\n",
       " 2000,\n",
       " 3422,\n",
       " 1011,\n",
       " 1011,\n",
       " 1999,\n",
       " 1037,\n",
       " 4167,\n",
       " 2757,\n",
       " 4066,\n",
       " 1997,\n",
       " 2126,\n",
       " 1012,\n",
       " 1998,\n",
       " 1010,\n",
       " 10892,\n",
       " 1996,\n",
       " 28465,\n",
       " 1998,\n",
       " 4950,\n",
       " 1011,\n",
       " 2147,\n",
       " 2024,\n",
       " 2204,\n",
       " 1010,\n",
       " 2061,\n",
       " 2023,\n",
       " 3449,\n",
       " 13331,\n",
       " 4570,\n",
       " 2026,\n",
       " 5790,\n",
       " 2035,\n",
       " 1996,\n",
       " 2126,\n",
       " 2000,\n",
       " 1037,\n",
       " 1016,\n",
       " 999,\n",
       " 2061,\n",
       " 2339,\n",
       " 2003,\n",
       " 1996,\n",
       " 3185,\n",
       " 2061,\n",
       " 2919,\n",
       " 1029,\n",
       " 2092,\n",
       " 1010,\n",
       " 4406,\n",
       " 1996,\n",
       " 2034,\n",
       " 8223,\n",
       " 5092,\n",
       " 3185,\n",
       " 1010,\n",
       " 2023,\n",
       " 2028,\n",
       " 2038,\n",
       " 8990,\n",
       " 2053,\n",
       " 5436,\n",
       " 1010,\n",
       " 8223,\n",
       " 5092,\n",
       " 2370,\n",
       " 2069,\n",
       " 2758,\n",
       " 2055,\n",
       " 1017,\n",
       " 2616,\n",
       " 1006,\n",
       " 2060,\n",
       " 2084,\n",
       " 20696,\n",
       " 2015,\n",
       " 1998,\n",
       " 22114,\n",
       " 1007,\n",
       " 1010,\n",
       " 2045,\n",
       " 2003,\n",
       " 1037,\n",
       " 17044,\n",
       " 2015,\n",
       " 1998,\n",
       " 3294,\n",
       " 22537,\n",
       " 1998,\n",
       " 29341,\n",
       " 1000,\n",
       " 7472,\n",
       " 1000,\n",
       " 1998,\n",
       " 1996,\n",
       " 3185,\n",
       " 2003,\n",
       " 2028,\n",
       " 5016,\n",
       " 1006,\n",
       " 1998,\n",
       " 5236,\n",
       " 1007,\n",
       " 2569,\n",
       " 3466,\n",
       " 1012,\n",
       " 1998,\n",
       " 2054,\n",
       " 24646,\n",
       " 8197,\n",
       " 14116,\n",
       " 2135,\n",
       " 9643,\n",
       " 2569,\n",
       " 3896,\n",
       " 1012,\n",
       " 2096,\n",
       " 13138,\n",
       " 2620,\n",
       " 22022,\n",
       " 2683,\n",
       " 2683,\n",
       " 16932,\n",
       " 24434,\n",
       " 23777,\n",
       " 19841,\n",
       " 2487,\n",
       " 10432,\n",
       " 1998,\n",
       " 12496,\n",
       " 2024,\n",
       " 2915,\n",
       " 2012,\n",
       " 8223,\n",
       " 5092,\n",
       " 1010,\n",
       " 3904,\n",
       " 2031,\n",
       " 2151,\n",
       " 3466,\n",
       " 2006,\n",
       " 2032,\n",
       " 1998,\n",
       " 2471,\n",
       " 2296,\n",
       " 7960,\n",
       " 2030,\n",
       " 8612,\n",
       " 8223,\n",
       " 5092,\n",
       " 11758,\n",
       " 4978,\n",
       " 2049,\n",
       " 2928,\n",
       " 999,\n",
       " 1998,\n",
       " 1010,\n",
       " 2096,\n",
       " 1996,\n",
       " 2919,\n",
       " 4364,\n",
       " 2024,\n",
       " 2478,\n",
       " 17712,\n",
       " 1011,\n",
       " 4700,\n",
       " 2015,\n",
       " 1010,\n",
       " 12400,\n",
       " 1998,\n",
       " 12496,\n",
       " 1010,\n",
       " 1999,\n",
       " 2070,\n",
       " 5019,\n",
       " 2035,\n",
       " 8223,\n",
       " 5092,\n",
       " 2018,\n",
       " 2003,\n",
       " 1037,\n",
       " 6812,\n",
       " 1998,\n",
       " 12563,\n",
       " 2007,\n",
       " 2054,\n",
       " 4025,\n",
       " 2066,\n",
       " 4517,\n",
       " 1011,\n",
       " 6113,\n",
       " 10247,\n",
       " 999,\n",
       " 999,\n",
       " 1996,\n",
       " 3496,\n",
       " 2073,\n",
       " 1996,\n",
       " 2028,\n",
       " 2919,\n",
       " 3124,\n",
       " 2003,\n",
       " 5008,\n",
       " 2012,\n",
       " 2032,\n",
       " 2004,\n",
       " 2002,\n",
       " 3254,\n",
       " 1998,\n",
       " 12885,\n",
       " 18989,\n",
       " 2028,\n",
       " 1997,\n",
       " 2122,\n",
       " 20728,\n",
       " 12563,\n",
       " 2003,\n",
       " 3391,\n",
       " 2081,\n",
       " 2005,\n",
       " 12873,\n",
       " 7193,\n",
       " 999,\n",
       " 2009,\n",
       " 2001,\n",
       " 6919,\n",
       " 2135,\n",
       " 11968,\n",
       " 7716,\n",
       " 6340,\n",
       " 1999,\n",
       " 20131,\n",
       " 4626,\n",
       " 6881,\n",
       " 2632,\n",
       " 1012,\n",
       " 4606,\n",
       " 1010,\n",
       " 2980,\n",
       " 7171,\n",
       " 1010,\n",
       " 2112,\n",
       " 24756,\n",
       " 2036,\n",
       " 2515,\n",
       " 1037,\n",
       " 6057,\n",
       " 12354,\n",
       " 1997,\n",
       " 1996,\n",
       " 6907,\n",
       " 1011,\n",
       " 1011,\n",
       " 2025,\n",
       " 2074,\n",
       " 2023,\n",
       " 5236,\n",
       " 3496,\n",
       " 1012,\n",
       " 1026,\n",
       " 7987,\n",
       " 1013,\n",
       " 1028,\n",
       " 1026,\n",
       " 7987,\n",
       " 1013,\n",
       " 1028,\n",
       " 2035,\n",
       " 1011,\n",
       " 1999,\n",
       " 1011,\n",
       " 2035,\n",
       " 1010,\n",
       " 1037,\n",
       " 3185,\n",
       " 2061,\n",
       " 12873,\n",
       " 1998,\n",
       " 23100,\n",
       " 1010,\n",
       " 2009,\n",
       " 1005,\n",
       " 1055,\n",
       " 2471,\n",
       " 2066,\n",
       " 2969,\n",
       " 1011,\n",
       " 12354,\n",
       " 999,\n",
       " 102,\n",
       " 0,\n",
       " 0,\n",
       " 0,\n",
       " 0,\n",
       " 0,\n",
       " 0,\n",
       " 0,\n",
       " 0,\n",
       " 0,\n",
       " 0,\n",
       " 0,\n",
       " 0,\n",
       " 0,\n",
       " 0,\n",
       " 0,\n",
       " 0,\n",
       " 0,\n",
       " 0,\n",
       " 0,\n",
       " 0,\n",
       " 0,\n",
       " 0,\n",
       " 0,\n",
       " 0,\n",
       " 0,\n",
       " 0,\n",
       " 0,\n",
       " 0,\n",
       " 0,\n",
       " 0,\n",
       " 0,\n",
       " 0,\n",
       " 0,\n",
       " 0,\n",
       " 0,\n",
       " 0,\n",
       " 0,\n",
       " 0,\n",
       " 0,\n",
       " 0,\n",
       " 0,\n",
       " 0,\n",
       " 0,\n",
       " 0,\n",
       " 0,\n",
       " 0,\n",
       " 0,\n",
       " 0,\n",
       " 0,\n",
       " 0,\n",
       " 0,\n",
       " 0,\n",
       " 0,\n",
       " 0,\n",
       " 0,\n",
       " 0,\n",
       " 0,\n",
       " 0,\n",
       " 0,\n",
       " 0,\n",
       " 0,\n",
       " 0,\n",
       " 0,\n",
       " 0,\n",
       " 0,\n",
       " 0,\n",
       " 0,\n",
       " 0,\n",
       " 0,\n",
       " 0,\n",
       " 0,\n",
       " 0,\n",
       " 0,\n",
       " 0,\n",
       " 0,\n",
       " 0,\n",
       " 0,\n",
       " 0,\n",
       " 0,\n",
       " 0,\n",
       " 0,\n",
       " 0,\n",
       " 0,\n",
       " 0,\n",
       " 0,\n",
       " 0,\n",
       " 0,\n",
       " 0,\n",
       " 0,\n",
       " 0,\n",
       " 0,\n",
       " 0,\n",
       " 0,\n",
       " 0,\n",
       " 0,\n",
       " 0,\n",
       " 0,\n",
       " 0,\n",
       " 0,\n",
       " 0,\n",
       " 0,\n",
       " 0,\n",
       " 0,\n",
       " 0,\n",
       " 0,\n",
       " 0,\n",
       " 0,\n",
       " 0,\n",
       " 0,\n",
       " 0,\n",
       " 0,\n",
       " 0,\n",
       " 0,\n",
       " 0,\n",
       " 0,\n",
       " 0,\n",
       " 0,\n",
       " 0,\n",
       " 0,\n",
       " 0,\n",
       " 0,\n",
       " 0,\n",
       " 0,\n",
       " 0,\n",
       " 0,\n",
       " 0,\n",
       " 0,\n",
       " 0]"
      ]
     },
     "execution_count": 114,
     "metadata": {},
     "output_type": "execute_result"
    }
   ],
   "source": [
    "tokenized_dataset[\"train\"][0][\"input_ids\"]"
   ]
  },
  {
   "cell_type": "code",
   "execution_count": 123,
   "id": "takyHJI2-ALT",
   "metadata": {
    "executionInfo": {
     "elapsed": 218,
     "status": "ok",
     "timestamp": 1653159646773,
     "user": {
      "displayName": "Pablo Sanz",
      "userId": "02387679861260039699"
     },
     "user_tz": -120
    },
    "id": "takyHJI2-ALT"
   },
   "outputs": [],
   "source": [
    "from transformers import DataCollatorWithPadding\n",
    "\n",
    "data_collator = DataCollatorWithPadding(tokenizer = tokenizer)"
   ]
  },
  {
   "cell_type": "code",
   "execution_count": 124,
   "id": "elgNLDtE-KcK",
   "metadata": {
    "colab": {
     "base_uri": "https://localhost:8080/"
    },
    "executionInfo": {
     "elapsed": 255,
     "status": "ok",
     "timestamp": 1653159650344,
     "user": {
      "displayName": "Pablo Sanz",
      "userId": "02387679861260039699"
     },
     "user_tz": -120
    },
    "id": "elgNLDtE-KcK",
    "outputId": "a06236a9-518f-49a0-b592-9b247b71d464"
   },
   "outputs": [
    {
     "data": {
      "text/plain": [
       "['sentiment', 'input_ids', 'token_type_ids', 'attention_mask']"
      ]
     },
     "execution_count": 124,
     "metadata": {},
     "output_type": "execute_result"
    }
   ],
   "source": [
    "tokenized_datasets = tokenized_dataset.remove_columns([\"review\"])\n",
    "tokenized_datasets.set_format(\"torch\")\n",
    "tokenized_datasets[\"train\"].column_names"
   ]
  },
  {
   "cell_type": "code",
   "execution_count": 125,
   "id": "7T9s18YY-56l",
   "metadata": {
    "executionInfo": {
     "elapsed": 228,
     "status": "ok",
     "timestamp": 1653159731437,
     "user": {
      "displayName": "Pablo Sanz",
      "userId": "02387679861260039699"
     },
     "user_tz": -120
    },
    "id": "7T9s18YY-56l"
   },
   "outputs": [],
   "source": [
    "from torch.utils.data import DataLoader\n",
    "\n",
    "train_dataloader = DataLoader(\n",
    "    tokenized_datasets[\"train\"], shuffle = True, batch_size = 8, collate_fn = data_collator\n",
    ")\n",
    "eval_dataloader = DataLoader(\n",
    "    tokenized_datasets[\"validation\"], batch_size = 8, collate_fn = data_collator\n",
    ")"
   ]
  },
  {
   "cell_type": "code",
   "execution_count": 126,
   "id": "EdkOCkXLyxBW",
   "metadata": {
    "colab": {
     "base_uri": "https://localhost:8080/"
    },
    "executionInfo": {
     "elapsed": 4870,
     "status": "ok",
     "timestamp": 1653159745506,
     "user": {
      "displayName": "Pablo Sanz",
      "userId": "02387679861260039699"
     },
     "user_tz": -120
    },
    "id": "EdkOCkXLyxBW",
    "outputId": "09562e40-8b97-4932-feeb-7d8f942c781a"
   },
   "outputs": [
    {
     "name": "stderr",
     "output_type": "stream",
     "text": [
      "PyTorch: setting up devices\n",
      "The default value for the training argument `--report_to` will change in v5 (from all installed integrations to none). In v5, you will need to use `--report_to all` to get the same behavior as now. You should start updating your code and make this info disappear :-).\n",
      "loading configuration file https://huggingface.co/bert-base-uncased/resolve/main/config.json from cache at /root/.cache/huggingface/transformers/3c61d016573b14f7f008c02c4e51a366c67ab274726fe2910691e2a761acf43e.37395cee442ab11005bcd270f3c34464dc1704b715b5d7d52b1a461abe3b9e4e\n",
      "Model config BertConfig {\n",
      "  \"_name_or_path\": \"bert-base-uncased\",\n",
      "  \"architectures\": [\n",
      "    \"BertForMaskedLM\"\n",
      "  ],\n",
      "  \"attention_probs_dropout_prob\": 0.1,\n",
      "  \"classifier_dropout\": null,\n",
      "  \"gradient_checkpointing\": false,\n",
      "  \"hidden_act\": \"gelu\",\n",
      "  \"hidden_dropout_prob\": 0.1,\n",
      "  \"hidden_size\": 768,\n",
      "  \"initializer_range\": 0.02,\n",
      "  \"intermediate_size\": 3072,\n",
      "  \"layer_norm_eps\": 1e-12,\n",
      "  \"max_position_embeddings\": 512,\n",
      "  \"model_type\": \"bert\",\n",
      "  \"num_attention_heads\": 12,\n",
      "  \"num_hidden_layers\": 12,\n",
      "  \"pad_token_id\": 0,\n",
      "  \"position_embedding_type\": \"absolute\",\n",
      "  \"transformers_version\": \"4.19.2\",\n",
      "  \"type_vocab_size\": 2,\n",
      "  \"use_cache\": true,\n",
      "  \"vocab_size\": 30522\n",
      "}\n",
      "\n",
      "loading weights file https://huggingface.co/bert-base-uncased/resolve/main/pytorch_model.bin from cache at /root/.cache/huggingface/transformers/a8041bf617d7f94ea26d15e218abd04afc2004805632abc0ed2066aa16d50d04.faf6ea826ae9c5867d12b22257f9877e6b8367890837bd60f7c54a29633f7f2f\n",
      "Some weights of the model checkpoint at bert-base-uncased were not used when initializing BertForSequenceClassification: ['cls.seq_relationship.bias', 'cls.predictions.decoder.weight', 'cls.seq_relationship.weight', 'cls.predictions.transform.dense.weight', 'cls.predictions.bias', 'cls.predictions.transform.LayerNorm.bias', 'cls.predictions.transform.dense.bias', 'cls.predictions.transform.LayerNorm.weight']\n",
      "- This IS expected if you are initializing BertForSequenceClassification from the checkpoint of a model trained on another task or with another architecture (e.g. initializing a BertForSequenceClassification model from a BertForPreTraining model).\n",
      "- This IS NOT expected if you are initializing BertForSequenceClassification from the checkpoint of a model that you expect to be exactly identical (initializing a BertForSequenceClassification model from a BertForSequenceClassification model).\n",
      "Some weights of BertForSequenceClassification were not initialized from the model checkpoint at bert-base-uncased and are newly initialized: ['classifier.bias', 'classifier.weight']\n",
      "You should probably TRAIN this model on a down-stream task to be able to use it for predictions and inference.\n"
     ]
    }
   ],
   "source": [
    "from transformers import TrainingArguments\n",
    "from transformers import AutoModelForSequenceClassification\n",
    "\n",
    "\n",
    "training_args = TrainingArguments(\"sentiment\")\n",
    "checkpoint = \"bert-base-uncased\"\n",
    "model = AutoModelForSequenceClassification.from_pretrained(checkpoint, num_labels = 2)"
   ]
  },
  {
   "cell_type": "code",
   "execution_count": 128,
   "id": "IEhE5O6p_-98",
   "metadata": {
    "colab": {
     "base_uri": "https://localhost:8080/"
    },
    "executionInfo": {
     "elapsed": 279,
     "status": "ok",
     "timestamp": 1653159816028,
     "user": {
      "displayName": "Pablo Sanz",
      "userId": "02387679861260039699"
     },
     "user_tz": -120
    },
    "id": "IEhE5O6p_-98",
    "outputId": "70dcdc06-8af5-41e5-9000-6c7792234629"
   },
   "outputs": [
    {
     "data": {
      "text/plain": [
       "device(type='cpu')"
      ]
     },
     "execution_count": 128,
     "metadata": {},
     "output_type": "execute_result"
    }
   ],
   "source": [
    "import torch\n",
    "\n",
    "device = torch.device(\"cuda\") if torch.cuda.is_available() else torch.device(\"cpu\")\n",
    "model.to(device)\n",
    "device"
   ]
  },
  {
   "cell_type": "code",
   "execution_count": 129,
   "id": "To2jTZUNywu8",
   "metadata": {
    "executionInfo": {
     "elapsed": 216,
     "status": "ok",
     "timestamp": 1653159834851,
     "user": {
      "displayName": "Pablo Sanz",
      "userId": "02387679861260039699"
     },
     "user_tz": -120
    },
    "id": "To2jTZUNywu8"
   },
   "outputs": [],
   "source": [
    "from transformers import Trainer\n",
    "\n",
    "trainer = Trainer(\n",
    "    model,\n",
    "    training_args,\n",
    "    train_dataset = tokenized_dataset[\"train\"],\n",
    "    eval_dataset = tokenized_dataset[\"validation\"],\n",
    "    data_collator = data_collator,\n",
    "    tokenizer = tokenizer\n",
    ")"
   ]
  },
  {
   "cell_type": "code",
   "execution_count": null,
   "id": "yNp0UX6azaff",
   "metadata": {
    "colab": {
     "base_uri": "https://localhost:8080/"
    },
    "id": "yNp0UX6azaff",
    "outputId": "87b738ec-a2bb-475e-8837-b93799ba3122"
   },
   "outputs": [
    {
     "name": "stderr",
     "output_type": "stream",
     "text": [
      "/usr/local/lib/python3.7/dist-packages/transformers/optimization.py:309: FutureWarning: This implementation of AdamW is deprecated and will be removed in a future version. Use the PyTorch implementation torch.optim.AdamW instead, or set `no_deprecation_warning=True` to disable this warning\n",
      "  FutureWarning,\n",
      "***** Running training *****\n",
      "  Num examples = 32000\n",
      "  Num Epochs = 3\n",
      "  Instantaneous batch size per device = 8\n",
      "  Total train batch size (w. parallel, distributed & accumulation) = 8\n",
      "  Gradient Accumulation steps = 1\n",
      "  Total optimization steps = 12000\n",
      "The following columns in the training set don't have a corresponding argument in `BertForSequenceClassification.forward` and have been ignored: sentiment, review. If sentiment, review are not expected by `BertForSequenceClassification.forward`,  you can safely ignore this message.\n"
     ]
    }
   ],
   "source": [
    "trainer.train()"
   ]
  },
  {
   "cell_type": "code",
   "execution_count": 1,
   "id": "e7lFu8d62r-p",
   "metadata": {
    "colab": {
     "base_uri": "https://localhost:8080/",
     "height": 164
    },
    "executionInfo": {
     "elapsed": 772,
     "status": "error",
     "timestamp": 1653159910778,
     "user": {
      "displayName": "Pablo Sanz",
      "userId": "02387679861260039699"
     },
     "user_tz": -120
    },
    "id": "e7lFu8d62r-p",
    "outputId": "16df310e-e066-4bac-b681-997528c7aa6c"
   },
   "outputs": [
    {
     "ename": "NameError",
     "evalue": "ignored",
     "output_type": "error",
     "traceback": [
      "\u001b[0;31m---------------------------------------------------------------------------\u001b[0m",
      "\u001b[0;31mNameError\u001b[0m                                 Traceback (most recent call last)",
      "\u001b[0;32m<ipython-input-1-1adfef481322>\u001b[0m in \u001b[0;36m<module>\u001b[0;34m()\u001b[0m\n\u001b[0;32m----> 1\u001b[0;31m \u001b[0mpreditions\u001b[0m \u001b[0;34m=\u001b[0m \u001b[0mtrainer\u001b[0m\u001b[0;34m.\u001b[0m\u001b[0mpredict\u001b[0m\u001b[0;34m(\u001b[0m\u001b[0mtokenized_datasets\u001b[0m\u001b[0;34m[\u001b[0m\u001b[0;34m\"test\"\u001b[0m\u001b[0;34m]\u001b[0m\u001b[0;34m)\u001b[0m\u001b[0;34m\u001b[0m\u001b[0;34m\u001b[0m\u001b[0m\n\u001b[0m",
      "\u001b[0;31mNameError\u001b[0m: name 'trainer' is not defined"
     ]
    }
   ],
   "source": [
    "preditions = trainer.predict(tokenized_datasets[\"test\"])"
   ]
  },
  {
   "cell_type": "code",
   "execution_count": 2,
   "id": "dhQO8jYXAqmk",
   "metadata": {
    "colab": {
     "base_uri": "https://localhost:8080/",
     "height": 198
    },
    "executionInfo": {
     "elapsed": 8,
     "status": "error",
     "timestamp": 1653159959667,
     "user": {
      "displayName": "Pablo Sanz",
      "userId": "02387679861260039699"
     },
     "user_tz": -120
    },
    "id": "dhQO8jYXAqmk",
    "outputId": "97f13cf1-818d-4b6a-d73f-34b059281ff2"
   },
   "outputs": [
    {
     "ename": "NameError",
     "evalue": "ignored",
     "output_type": "error",
     "traceback": [
      "\u001b[0;31m---------------------------------------------------------------------------\u001b[0m",
      "\u001b[0;31mNameError\u001b[0m                                 Traceback (most recent call last)",
      "\u001b[0;32m<ipython-input-2-3291774a8ca9>\u001b[0m in \u001b[0;36m<module>\u001b[0;34m()\u001b[0m\n\u001b[1;32m      1\u001b[0m \u001b[0;32mimport\u001b[0m \u001b[0mnumpy\u001b[0m \u001b[0;32mas\u001b[0m \u001b[0mnp\u001b[0m\u001b[0;34m\u001b[0m\u001b[0;34m\u001b[0m\u001b[0m\n\u001b[1;32m      2\u001b[0m \u001b[0;34m\u001b[0m\u001b[0m\n\u001b[0;32m----> 3\u001b[0;31m \u001b[0my_pred\u001b[0m \u001b[0;34m=\u001b[0m \u001b[0mnp\u001b[0m\u001b[0;34m.\u001b[0m\u001b[0margmax\u001b[0m\u001b[0;34m(\u001b[0m\u001b[0mpredictions\u001b[0m\u001b[0;34m.\u001b[0m\u001b[0mpredictions\u001b[0m\u001b[0;34m,\u001b[0m \u001b[0maxis\u001b[0m \u001b[0;34m=\u001b[0m \u001b[0;36m1\u001b[0m\u001b[0;34m)\u001b[0m\u001b[0;34m\u001b[0m\u001b[0;34m\u001b[0m\u001b[0m\n\u001b[0m",
      "\u001b[0;31mNameError\u001b[0m: name 'predictions' is not defined"
     ]
    }
   ],
   "source": [
    "import numpy as np\n",
    "\n",
    "y_pred = np.argmax(predictions.predictions, axis = 1)"
   ]
  },
  {
   "cell_type": "code",
   "execution_count": 3,
   "id": "JMBaRt30zayc",
   "metadata": {
    "colab": {
     "base_uri": "https://localhost:8080/",
     "height": 215
    },
    "executionInfo": {
     "elapsed": 256,
     "status": "error",
     "timestamp": 1653160035938,
     "user": {
      "displayName": "Pablo Sanz",
      "userId": "02387679861260039699"
     },
     "user_tz": -120
    },
    "id": "JMBaRt30zayc",
    "outputId": "d1fa9cf1-2e64-49d4-dc6a-28d085f0dd74"
   },
   "outputs": [
    {
     "ename": "NameError",
     "evalue": "ignored",
     "output_type": "error",
     "traceback": [
      "\u001b[0;31m---------------------------------------------------------------------------\u001b[0m",
      "\u001b[0;31mNameError\u001b[0m                                 Traceback (most recent call last)",
      "\u001b[0;32m<ipython-input-3-ecf28926c743>\u001b[0m in \u001b[0;36m<module>\u001b[0;34m()\u001b[0m\n\u001b[1;32m      1\u001b[0m \u001b[0;32mfrom\u001b[0m \u001b[0msklearn\u001b[0m\u001b[0;34m.\u001b[0m\u001b[0mmetrics\u001b[0m \u001b[0;32mimport\u001b[0m \u001b[0maccuracy_score\u001b[0m\u001b[0;34m\u001b[0m\u001b[0;34m\u001b[0m\u001b[0m\n\u001b[1;32m      2\u001b[0m \u001b[0;34m\u001b[0m\u001b[0m\n\u001b[0;32m----> 3\u001b[0;31m \u001b[0mprint\u001b[0m\u001b[0;34m(\u001b[0m\u001b[0;34m\"Accuracy: \"\u001b[0m \u001b[0;34m+\u001b[0m \u001b[0mstr\u001b[0m\u001b[0;34m(\u001b[0m\u001b[0maccuracy_score\u001b[0m\u001b[0;34m(\u001b[0m\u001b[0mlist\u001b[0m\u001b[0;34m(\u001b[0m\u001b[0mtest\u001b[0m\u001b[0;34m[\u001b[0m\u001b[0;34m\"sentiment\"\u001b[0m\u001b[0;34m]\u001b[0m\u001b[0;34m)\u001b[0m\u001b[0;34m,\u001b[0m \u001b[0my_pred\u001b[0m\u001b[0;34m)\u001b[0m\u001b[0;34m)\u001b[0m\u001b[0;34m)\u001b[0m\u001b[0;34m\u001b[0m\u001b[0;34m\u001b[0m\u001b[0m\n\u001b[0m\u001b[1;32m      4\u001b[0m \u001b[0;34m\u001b[0m\u001b[0m\n",
      "\u001b[0;31mNameError\u001b[0m: name 'test' is not defined"
     ]
    }
   ],
   "source": [
    "from sklearn.metrics import accuracy_score\n",
    "\n",
    "print(\"Accuracy: \" + str(accuracy_score(list(test[\"sentiment\"]), y_pred)))\n",
    "\n"
   ]
  },
  {
   "cell_type": "markdown",
   "id": "273842ac",
   "metadata": {
    "id": "273842ac"
   },
   "source": [
    "<div id=\"heading--9\"/>\n",
    "\n",
    "## 8. Comparaciones"
   ]
  },
  {
   "cell_type": "markdown",
   "id": "db9f93b8",
   "metadata": {},
   "source": [
    "Tras estudiar con detenimiento los modelos entrenados, descartando el modelo usando transformers, ya que hemos sido incapaces de optimizarlo, hemos llegado a la conclusión de que el mejor modelo sería el LTSM ya que, a pesar de no conseguir los valores más bajos de pérdida, es el único capaz de corregir el overfitting y conseguir unos resultados que, con un entrenamiento más largo en número de epochs, probablemente se conseguiría llegar a un valor de pérdida óptimo tanto en train como en test"
   ]
  },
  {
   "cell_type": "markdown",
   "id": "f8322ba5",
   "metadata": {
    "id": "f8322ba5"
   },
   "source": [
    "<div id=\"heading--10\"/>\n",
    "\n",
    "## 9. Lineas de Investigación"
   ]
  },
  {
   "cell_type": "markdown",
   "id": "d900517a",
   "metadata": {
    "id": "d900517a"
   },
   "source": [
    "Dentro de las posibles lineas de investigación podemos encontrar las siguientes ideas:\n",
    "\n",
    "- Combinación de varios modelos sencillos que funcionen \"bien\" de forma individual.\n",
    "\n",
    "- Conseguir que los transformers vayan.\n",
    "\n",
    "- Conocer los casos donde falla y tratar de entender porque o si se repite algún patrón dentro del fallo.\n",
    "\n",
    "- Búsqueda de métodos innovadores dentro del mundo del NLP."
   ]
  }
 ],
 "metadata": {
  "colab": {
   "collapsed_sections": [],
   "name": "Codigo.ipynb",
   "provenance": []
  },
  "kernelspec": {
   "display_name": "Python 3 (ipykernel)",
   "language": "python",
   "name": "python3"
  },
  "language_info": {
   "codemirror_mode": {
    "name": "ipython",
    "version": 3
   },
   "file_extension": ".py",
   "mimetype": "text/x-python",
   "name": "python",
   "nbconvert_exporter": "python",
   "pygments_lexer": "ipython3",
   "version": "3.8.8"
  },
  "widgets": {
   "application/vnd.jupyter.widget-state+json": {
    "00c392d4d5f9428d84214012b0c39b14": {
     "model_module": "@jupyter-widgets/controls",
     "model_module_version": "1.5.0",
     "model_name": "HTMLModel",
     "state": {
      "_dom_classes": [],
      "_model_module": "@jupyter-widgets/controls",
      "_model_module_version": "1.5.0",
      "_model_name": "HTMLModel",
      "_view_count": null,
      "_view_module": "@jupyter-widgets/controls",
      "_view_module_version": "1.5.0",
      "_view_name": "HTMLView",
      "description": "",
      "description_tooltip": null,
      "layout": "IPY_MODEL_9a2a980b11604a298e5eab78f2c3097e",
      "placeholder": "​",
      "style": "IPY_MODEL_390ab91c2d734b728776225d0eb3c89e",
      "value": " 3/3 [00:00&lt;00:00, 32.76it/s]"
     }
    },
    "08b64a09c8194a678aa146ad3fd8eadb": {
     "model_module": "@jupyter-widgets/base",
     "model_module_version": "1.2.0",
     "model_name": "LayoutModel",
     "state": {
      "_model_module": "@jupyter-widgets/base",
      "_model_module_version": "1.2.0",
      "_model_name": "LayoutModel",
      "_view_count": null,
      "_view_module": "@jupyter-widgets/base",
      "_view_module_version": "1.2.0",
      "_view_name": "LayoutView",
      "align_content": null,
      "align_items": null,
      "align_self": null,
      "border": null,
      "bottom": null,
      "display": null,
      "flex": null,
      "flex_flow": null,
      "grid_area": null,
      "grid_auto_columns": null,
      "grid_auto_flow": null,
      "grid_auto_rows": null,
      "grid_column": null,
      "grid_gap": null,
      "grid_row": null,
      "grid_template_areas": null,
      "grid_template_columns": null,
      "grid_template_rows": null,
      "height": null,
      "justify_content": null,
      "justify_items": null,
      "left": null,
      "margin": null,
      "max_height": null,
      "max_width": null,
      "min_height": null,
      "min_width": null,
      "object_fit": null,
      "object_position": null,
      "order": null,
      "overflow": null,
      "overflow_x": null,
      "overflow_y": null,
      "padding": null,
      "right": null,
      "top": null,
      "visibility": null,
      "width": null
     }
    },
    "0d002de9a9dd4a2ea797f833e8bc5cc1": {
     "model_module": "@jupyter-widgets/controls",
     "model_module_version": "1.5.0",
     "model_name": "ProgressStyleModel",
     "state": {
      "_model_module": "@jupyter-widgets/controls",
      "_model_module_version": "1.5.0",
      "_model_name": "ProgressStyleModel",
      "_view_count": null,
      "_view_module": "@jupyter-widgets/base",
      "_view_module_version": "1.2.0",
      "_view_name": "StyleView",
      "bar_color": null,
      "description_width": ""
     }
    },
    "0fac846902f04c42b1641ec41c75b8b0": {
     "model_module": "@jupyter-widgets/controls",
     "model_module_version": "1.5.0",
     "model_name": "FloatProgressModel",
     "state": {
      "_dom_classes": [],
      "_model_module": "@jupyter-widgets/controls",
      "_model_module_version": "1.5.0",
      "_model_name": "FloatProgressModel",
      "_view_count": null,
      "_view_module": "@jupyter-widgets/controls",
      "_view_module_version": "1.5.0",
      "_view_name": "ProgressView",
      "bar_style": "success",
      "description": "",
      "description_tooltip": null,
      "layout": "IPY_MODEL_560c2362943a456593fb299d2c80cbf3",
      "max": 3,
      "min": 0,
      "orientation": "horizontal",
      "style": "IPY_MODEL_860ca4c221874142a76f0ce640b31598",
      "value": 3
     }
    },
    "1c5cb84b38db40bf817eabc7a7b357f6": {
     "model_module": "@jupyter-widgets/base",
     "model_module_version": "1.2.0",
     "model_name": "LayoutModel",
     "state": {
      "_model_module": "@jupyter-widgets/base",
      "_model_module_version": "1.2.0",
      "_model_name": "LayoutModel",
      "_view_count": null,
      "_view_module": "@jupyter-widgets/base",
      "_view_module_version": "1.2.0",
      "_view_name": "LayoutView",
      "align_content": null,
      "align_items": null,
      "align_self": null,
      "border": null,
      "bottom": null,
      "display": null,
      "flex": null,
      "flex_flow": null,
      "grid_area": null,
      "grid_auto_columns": null,
      "grid_auto_flow": null,
      "grid_auto_rows": null,
      "grid_column": null,
      "grid_gap": null,
      "grid_row": null,
      "grid_template_areas": null,
      "grid_template_columns": null,
      "grid_template_rows": null,
      "height": null,
      "justify_content": null,
      "justify_items": null,
      "left": null,
      "margin": null,
      "max_height": null,
      "max_width": null,
      "min_height": null,
      "min_width": null,
      "object_fit": null,
      "object_position": null,
      "order": null,
      "overflow": null,
      "overflow_x": null,
      "overflow_y": null,
      "padding": null,
      "right": null,
      "top": null,
      "visibility": null,
      "width": null
     }
    },
    "2057907d46ab40b9a0800f96488c6b7f": {
     "model_module": "@jupyter-widgets/base",
     "model_module_version": "1.2.0",
     "model_name": "LayoutModel",
     "state": {
      "_model_module": "@jupyter-widgets/base",
      "_model_module_version": "1.2.0",
      "_model_name": "LayoutModel",
      "_view_count": null,
      "_view_module": "@jupyter-widgets/base",
      "_view_module_version": "1.2.0",
      "_view_name": "LayoutView",
      "align_content": null,
      "align_items": null,
      "align_self": null,
      "border": null,
      "bottom": null,
      "display": null,
      "flex": null,
      "flex_flow": null,
      "grid_area": null,
      "grid_auto_columns": null,
      "grid_auto_flow": null,
      "grid_auto_rows": null,
      "grid_column": null,
      "grid_gap": null,
      "grid_row": null,
      "grid_template_areas": null,
      "grid_template_columns": null,
      "grid_template_rows": null,
      "height": null,
      "justify_content": null,
      "justify_items": null,
      "left": null,
      "margin": null,
      "max_height": null,
      "max_width": null,
      "min_height": null,
      "min_width": null,
      "object_fit": null,
      "object_position": null,
      "order": null,
      "overflow": null,
      "overflow_x": null,
      "overflow_y": null,
      "padding": null,
      "right": null,
      "top": null,
      "visibility": null,
      "width": null
     }
    },
    "20de067339a44e6fb89c5599dc25fa49": {
     "model_module": "@jupyter-widgets/base",
     "model_module_version": "1.2.0",
     "model_name": "LayoutModel",
     "state": {
      "_model_module": "@jupyter-widgets/base",
      "_model_module_version": "1.2.0",
      "_model_name": "LayoutModel",
      "_view_count": null,
      "_view_module": "@jupyter-widgets/base",
      "_view_module_version": "1.2.0",
      "_view_name": "LayoutView",
      "align_content": null,
      "align_items": null,
      "align_self": null,
      "border": null,
      "bottom": null,
      "display": null,
      "flex": null,
      "flex_flow": null,
      "grid_area": null,
      "grid_auto_columns": null,
      "grid_auto_flow": null,
      "grid_auto_rows": null,
      "grid_column": null,
      "grid_gap": null,
      "grid_row": null,
      "grid_template_areas": null,
      "grid_template_columns": null,
      "grid_template_rows": null,
      "height": null,
      "justify_content": null,
      "justify_items": null,
      "left": null,
      "margin": null,
      "max_height": null,
      "max_width": null,
      "min_height": null,
      "min_width": null,
      "object_fit": null,
      "object_position": null,
      "order": null,
      "overflow": null,
      "overflow_x": null,
      "overflow_y": null,
      "padding": null,
      "right": null,
      "top": null,
      "visibility": null,
      "width": null
     }
    },
    "295bcceb3d5843b48e840a9a5d1054a9": {
     "model_module": "@jupyter-widgets/controls",
     "model_module_version": "1.5.0",
     "model_name": "HTMLModel",
     "state": {
      "_dom_classes": [],
      "_model_module": "@jupyter-widgets/controls",
      "_model_module_version": "1.5.0",
      "_model_name": "HTMLModel",
      "_view_count": null,
      "_view_module": "@jupyter-widgets/controls",
      "_view_module_version": "1.5.0",
      "_view_name": "HTMLView",
      "description": "",
      "description_tooltip": null,
      "layout": "IPY_MODEL_a5729097792d40a6add89bdbd9127e94",
      "placeholder": "​",
      "style": "IPY_MODEL_9a8026a52bf74e29adb7d050d2447594",
      "value": "Extracting data files: 100%"
     }
    },
    "390ab91c2d734b728776225d0eb3c89e": {
     "model_module": "@jupyter-widgets/controls",
     "model_module_version": "1.5.0",
     "model_name": "DescriptionStyleModel",
     "state": {
      "_model_module": "@jupyter-widgets/controls",
      "_model_module_version": "1.5.0",
      "_model_name": "DescriptionStyleModel",
      "_view_count": null,
      "_view_module": "@jupyter-widgets/base",
      "_view_module_version": "1.2.0",
      "_view_name": "StyleView",
      "description_width": ""
     }
    },
    "448503a2784448f3a86b04f5169e5379": {
     "model_module": "@jupyter-widgets/controls",
     "model_module_version": "1.5.0",
     "model_name": "HBoxModel",
     "state": {
      "_dom_classes": [],
      "_model_module": "@jupyter-widgets/controls",
      "_model_module_version": "1.5.0",
      "_model_name": "HBoxModel",
      "_view_count": null,
      "_view_module": "@jupyter-widgets/controls",
      "_view_module_version": "1.5.0",
      "_view_name": "HBoxView",
      "box_style": "",
      "children": [
       "IPY_MODEL_ffa442c7f2f540889d96e2d6af446160",
       "IPY_MODEL_0fac846902f04c42b1641ec41c75b8b0",
       "IPY_MODEL_b185350a87514d74a7b1c48c166f93c9"
      ],
      "layout": "IPY_MODEL_20de067339a44e6fb89c5599dc25fa49"
     }
    },
    "54fac9a7fadf4d4c9073344c52f4dd40": {
     "model_module": "@jupyter-widgets/base",
     "model_module_version": "1.2.0",
     "model_name": "LayoutModel",
     "state": {
      "_model_module": "@jupyter-widgets/base",
      "_model_module_version": "1.2.0",
      "_model_name": "LayoutModel",
      "_view_count": null,
      "_view_module": "@jupyter-widgets/base",
      "_view_module_version": "1.2.0",
      "_view_name": "LayoutView",
      "align_content": null,
      "align_items": null,
      "align_self": null,
      "border": null,
      "bottom": null,
      "display": null,
      "flex": null,
      "flex_flow": null,
      "grid_area": null,
      "grid_auto_columns": null,
      "grid_auto_flow": null,
      "grid_auto_rows": null,
      "grid_column": null,
      "grid_gap": null,
      "grid_row": null,
      "grid_template_areas": null,
      "grid_template_columns": null,
      "grid_template_rows": null,
      "height": null,
      "justify_content": null,
      "justify_items": null,
      "left": null,
      "margin": null,
      "max_height": null,
      "max_width": null,
      "min_height": null,
      "min_width": null,
      "object_fit": null,
      "object_position": null,
      "order": null,
      "overflow": null,
      "overflow_x": null,
      "overflow_y": null,
      "padding": null,
      "right": null,
      "top": null,
      "visibility": null,
      "width": null
     }
    },
    "560c2362943a456593fb299d2c80cbf3": {
     "model_module": "@jupyter-widgets/base",
     "model_module_version": "1.2.0",
     "model_name": "LayoutModel",
     "state": {
      "_model_module": "@jupyter-widgets/base",
      "_model_module_version": "1.2.0",
      "_model_name": "LayoutModel",
      "_view_count": null,
      "_view_module": "@jupyter-widgets/base",
      "_view_module_version": "1.2.0",
      "_view_name": "LayoutView",
      "align_content": null,
      "align_items": null,
      "align_self": null,
      "border": null,
      "bottom": null,
      "display": null,
      "flex": null,
      "flex_flow": null,
      "grid_area": null,
      "grid_auto_columns": null,
      "grid_auto_flow": null,
      "grid_auto_rows": null,
      "grid_column": null,
      "grid_gap": null,
      "grid_row": null,
      "grid_template_areas": null,
      "grid_template_columns": null,
      "grid_template_rows": null,
      "height": null,
      "justify_content": null,
      "justify_items": null,
      "left": null,
      "margin": null,
      "max_height": null,
      "max_width": null,
      "min_height": null,
      "min_width": null,
      "object_fit": null,
      "object_position": null,
      "order": null,
      "overflow": null,
      "overflow_x": null,
      "overflow_y": null,
      "padding": null,
      "right": null,
      "top": null,
      "visibility": null,
      "width": null
     }
    },
    "64375f394363417daafca5da9b4db866": {
     "model_module": "@jupyter-widgets/controls",
     "model_module_version": "1.5.0",
     "model_name": "ProgressStyleModel",
     "state": {
      "_model_module": "@jupyter-widgets/controls",
      "_model_module_version": "1.5.0",
      "_model_name": "ProgressStyleModel",
      "_view_count": null,
      "_view_module": "@jupyter-widgets/base",
      "_view_module_version": "1.2.0",
      "_view_name": "StyleView",
      "bar_color": null,
      "description_width": ""
     }
    },
    "724d9d88b04e48018321dd04129b4ff5": {
     "model_module": "@jupyter-widgets/controls",
     "model_module_version": "1.5.0",
     "model_name": "HTMLModel",
     "state": {
      "_dom_classes": [],
      "_model_module": "@jupyter-widgets/controls",
      "_model_module_version": "1.5.0",
      "_model_name": "HTMLModel",
      "_view_count": null,
      "_view_module": "@jupyter-widgets/controls",
      "_view_module_version": "1.5.0",
      "_view_name": "HTMLView",
      "description": "",
      "description_tooltip": null,
      "layout": "IPY_MODEL_2057907d46ab40b9a0800f96488c6b7f",
      "placeholder": "​",
      "style": "IPY_MODEL_c979e14dba564d59ba876ffb4f30339c",
      "value": "Downloading data files: 100%"
     }
    },
    "730959c06a3f4dc8997004a24cca1b9f": {
     "model_module": "@jupyter-widgets/base",
     "model_module_version": "1.2.0",
     "model_name": "LayoutModel",
     "state": {
      "_model_module": "@jupyter-widgets/base",
      "_model_module_version": "1.2.0",
      "_model_name": "LayoutModel",
      "_view_count": null,
      "_view_module": "@jupyter-widgets/base",
      "_view_module_version": "1.2.0",
      "_view_name": "LayoutView",
      "align_content": null,
      "align_items": null,
      "align_self": null,
      "border": null,
      "bottom": null,
      "display": null,
      "flex": null,
      "flex_flow": null,
      "grid_area": null,
      "grid_auto_columns": null,
      "grid_auto_flow": null,
      "grid_auto_rows": null,
      "grid_column": null,
      "grid_gap": null,
      "grid_row": null,
      "grid_template_areas": null,
      "grid_template_columns": null,
      "grid_template_rows": null,
      "height": null,
      "justify_content": null,
      "justify_items": null,
      "left": null,
      "margin": null,
      "max_height": null,
      "max_width": null,
      "min_height": null,
      "min_width": null,
      "object_fit": null,
      "object_position": null,
      "order": null,
      "overflow": null,
      "overflow_x": null,
      "overflow_y": null,
      "padding": null,
      "right": null,
      "top": null,
      "visibility": null,
      "width": null
     }
    },
    "860ca4c221874142a76f0ce640b31598": {
     "model_module": "@jupyter-widgets/controls",
     "model_module_version": "1.5.0",
     "model_name": "ProgressStyleModel",
     "state": {
      "_model_module": "@jupyter-widgets/controls",
      "_model_module_version": "1.5.0",
      "_model_name": "ProgressStyleModel",
      "_view_count": null,
      "_view_module": "@jupyter-widgets/base",
      "_view_module_version": "1.2.0",
      "_view_name": "StyleView",
      "bar_color": null,
      "description_width": ""
     }
    },
    "8722f891ba604b43ac06e1f5c8f8eaf0": {
     "model_module": "@jupyter-widgets/base",
     "model_module_version": "1.2.0",
     "model_name": "LayoutModel",
     "state": {
      "_model_module": "@jupyter-widgets/base",
      "_model_module_version": "1.2.0",
      "_model_name": "LayoutModel",
      "_view_count": null,
      "_view_module": "@jupyter-widgets/base",
      "_view_module_version": "1.2.0",
      "_view_name": "LayoutView",
      "align_content": null,
      "align_items": null,
      "align_self": null,
      "border": null,
      "bottom": null,
      "display": null,
      "flex": null,
      "flex_flow": null,
      "grid_area": null,
      "grid_auto_columns": null,
      "grid_auto_flow": null,
      "grid_auto_rows": null,
      "grid_column": null,
      "grid_gap": null,
      "grid_row": null,
      "grid_template_areas": null,
      "grid_template_columns": null,
      "grid_template_rows": null,
      "height": null,
      "justify_content": null,
      "justify_items": null,
      "left": null,
      "margin": null,
      "max_height": null,
      "max_width": null,
      "min_height": null,
      "min_width": null,
      "object_fit": null,
      "object_position": null,
      "order": null,
      "overflow": null,
      "overflow_x": null,
      "overflow_y": null,
      "padding": null,
      "right": null,
      "top": null,
      "visibility": null,
      "width": null
     }
    },
    "8ca34c26aae04883a2a3a98e0770f2ed": {
     "model_module": "@jupyter-widgets/base",
     "model_module_version": "1.2.0",
     "model_name": "LayoutModel",
     "state": {
      "_model_module": "@jupyter-widgets/base",
      "_model_module_version": "1.2.0",
      "_model_name": "LayoutModel",
      "_view_count": null,
      "_view_module": "@jupyter-widgets/base",
      "_view_module_version": "1.2.0",
      "_view_name": "LayoutView",
      "align_content": null,
      "align_items": null,
      "align_self": null,
      "border": null,
      "bottom": null,
      "display": null,
      "flex": null,
      "flex_flow": null,
      "grid_area": null,
      "grid_auto_columns": null,
      "grid_auto_flow": null,
      "grid_auto_rows": null,
      "grid_column": null,
      "grid_gap": null,
      "grid_row": null,
      "grid_template_areas": null,
      "grid_template_columns": null,
      "grid_template_rows": null,
      "height": null,
      "justify_content": null,
      "justify_items": null,
      "left": null,
      "margin": null,
      "max_height": null,
      "max_width": null,
      "min_height": null,
      "min_width": null,
      "object_fit": null,
      "object_position": null,
      "order": null,
      "overflow": null,
      "overflow_x": null,
      "overflow_y": null,
      "padding": null,
      "right": null,
      "top": null,
      "visibility": null,
      "width": null
     }
    },
    "90a644cfbb464a588c68c319f75926f8": {
     "model_module": "@jupyter-widgets/controls",
     "model_module_version": "1.5.0",
     "model_name": "HTMLModel",
     "state": {
      "_dom_classes": [],
      "_model_module": "@jupyter-widgets/controls",
      "_model_module_version": "1.5.0",
      "_model_name": "HTMLModel",
      "_view_count": null,
      "_view_module": "@jupyter-widgets/controls",
      "_view_module_version": "1.5.0",
      "_view_name": "HTMLView",
      "description": "",
      "description_tooltip": null,
      "layout": "IPY_MODEL_54fac9a7fadf4d4c9073344c52f4dd40",
      "placeholder": "​",
      "style": "IPY_MODEL_987d543c57f64e6dbb4369482cebe92f",
      "value": " 3/3 [00:00&lt;00:00,  4.87it/s]"
     }
    },
    "92412f7f45de49589a559efebc67d490": {
     "model_module": "@jupyter-widgets/controls",
     "model_module_version": "1.5.0",
     "model_name": "DescriptionStyleModel",
     "state": {
      "_model_module": "@jupyter-widgets/controls",
      "_model_module_version": "1.5.0",
      "_model_name": "DescriptionStyleModel",
      "_view_count": null,
      "_view_module": "@jupyter-widgets/base",
      "_view_module_version": "1.2.0",
      "_view_name": "StyleView",
      "description_width": ""
     }
    },
    "92e3259c1af74b10b8d589f9dd5fb661": {
     "model_module": "@jupyter-widgets/controls",
     "model_module_version": "1.5.0",
     "model_name": "DescriptionStyleModel",
     "state": {
      "_model_module": "@jupyter-widgets/controls",
      "_model_module_version": "1.5.0",
      "_model_name": "DescriptionStyleModel",
      "_view_count": null,
      "_view_module": "@jupyter-widgets/base",
      "_view_module_version": "1.2.0",
      "_view_name": "StyleView",
      "description_width": ""
     }
    },
    "987d543c57f64e6dbb4369482cebe92f": {
     "model_module": "@jupyter-widgets/controls",
     "model_module_version": "1.5.0",
     "model_name": "DescriptionStyleModel",
     "state": {
      "_model_module": "@jupyter-widgets/controls",
      "_model_module_version": "1.5.0",
      "_model_name": "DescriptionStyleModel",
      "_view_count": null,
      "_view_module": "@jupyter-widgets/base",
      "_view_module_version": "1.2.0",
      "_view_name": "StyleView",
      "description_width": ""
     }
    },
    "9a2a980b11604a298e5eab78f2c3097e": {
     "model_module": "@jupyter-widgets/base",
     "model_module_version": "1.2.0",
     "model_name": "LayoutModel",
     "state": {
      "_model_module": "@jupyter-widgets/base",
      "_model_module_version": "1.2.0",
      "_model_name": "LayoutModel",
      "_view_count": null,
      "_view_module": "@jupyter-widgets/base",
      "_view_module_version": "1.2.0",
      "_view_name": "LayoutView",
      "align_content": null,
      "align_items": null,
      "align_self": null,
      "border": null,
      "bottom": null,
      "display": null,
      "flex": null,
      "flex_flow": null,
      "grid_area": null,
      "grid_auto_columns": null,
      "grid_auto_flow": null,
      "grid_auto_rows": null,
      "grid_column": null,
      "grid_gap": null,
      "grid_row": null,
      "grid_template_areas": null,
      "grid_template_columns": null,
      "grid_template_rows": null,
      "height": null,
      "justify_content": null,
      "justify_items": null,
      "left": null,
      "margin": null,
      "max_height": null,
      "max_width": null,
      "min_height": null,
      "min_width": null,
      "object_fit": null,
      "object_position": null,
      "order": null,
      "overflow": null,
      "overflow_x": null,
      "overflow_y": null,
      "padding": null,
      "right": null,
      "top": null,
      "visibility": null,
      "width": null
     }
    },
    "9a8026a52bf74e29adb7d050d2447594": {
     "model_module": "@jupyter-widgets/controls",
     "model_module_version": "1.5.0",
     "model_name": "DescriptionStyleModel",
     "state": {
      "_model_module": "@jupyter-widgets/controls",
      "_model_module_version": "1.5.0",
      "_model_name": "DescriptionStyleModel",
      "_view_count": null,
      "_view_module": "@jupyter-widgets/base",
      "_view_module_version": "1.2.0",
      "_view_name": "StyleView",
      "description_width": ""
     }
    },
    "a279da464444444a82548a9af023acdb": {
     "model_module": "@jupyter-widgets/base",
     "model_module_version": "1.2.0",
     "model_name": "LayoutModel",
     "state": {
      "_model_module": "@jupyter-widgets/base",
      "_model_module_version": "1.2.0",
      "_model_name": "LayoutModel",
      "_view_count": null,
      "_view_module": "@jupyter-widgets/base",
      "_view_module_version": "1.2.0",
      "_view_name": "LayoutView",
      "align_content": null,
      "align_items": null,
      "align_self": null,
      "border": null,
      "bottom": null,
      "display": null,
      "flex": null,
      "flex_flow": null,
      "grid_area": null,
      "grid_auto_columns": null,
      "grid_auto_flow": null,
      "grid_auto_rows": null,
      "grid_column": null,
      "grid_gap": null,
      "grid_row": null,
      "grid_template_areas": null,
      "grid_template_columns": null,
      "grid_template_rows": null,
      "height": null,
      "justify_content": null,
      "justify_items": null,
      "left": null,
      "margin": null,
      "max_height": null,
      "max_width": null,
      "min_height": null,
      "min_width": null,
      "object_fit": null,
      "object_position": null,
      "order": null,
      "overflow": null,
      "overflow_x": null,
      "overflow_y": null,
      "padding": null,
      "right": null,
      "top": null,
      "visibility": null,
      "width": null
     }
    },
    "a5729097792d40a6add89bdbd9127e94": {
     "model_module": "@jupyter-widgets/base",
     "model_module_version": "1.2.0",
     "model_name": "LayoutModel",
     "state": {
      "_model_module": "@jupyter-widgets/base",
      "_model_module_version": "1.2.0",
      "_model_name": "LayoutModel",
      "_view_count": null,
      "_view_module": "@jupyter-widgets/base",
      "_view_module_version": "1.2.0",
      "_view_name": "LayoutView",
      "align_content": null,
      "align_items": null,
      "align_self": null,
      "border": null,
      "bottom": null,
      "display": null,
      "flex": null,
      "flex_flow": null,
      "grid_area": null,
      "grid_auto_columns": null,
      "grid_auto_flow": null,
      "grid_auto_rows": null,
      "grid_column": null,
      "grid_gap": null,
      "grid_row": null,
      "grid_template_areas": null,
      "grid_template_columns": null,
      "grid_template_rows": null,
      "height": null,
      "justify_content": null,
      "justify_items": null,
      "left": null,
      "margin": null,
      "max_height": null,
      "max_width": null,
      "min_height": null,
      "min_width": null,
      "object_fit": null,
      "object_position": null,
      "order": null,
      "overflow": null,
      "overflow_x": null,
      "overflow_y": null,
      "padding": null,
      "right": null,
      "top": null,
      "visibility": null,
      "width": null
     }
    },
    "a973c8b18499415f94e701b074625b6c": {
     "model_module": "@jupyter-widgets/controls",
     "model_module_version": "1.5.0",
     "model_name": "FloatProgressModel",
     "state": {
      "_dom_classes": [],
      "_model_module": "@jupyter-widgets/controls",
      "_model_module_version": "1.5.0",
      "_model_name": "FloatProgressModel",
      "_view_count": null,
      "_view_module": "@jupyter-widgets/controls",
      "_view_module_version": "1.5.0",
      "_view_name": "ProgressView",
      "bar_style": "success",
      "description": "",
      "description_tooltip": null,
      "layout": "IPY_MODEL_730959c06a3f4dc8997004a24cca1b9f",
      "max": 3,
      "min": 0,
      "orientation": "horizontal",
      "style": "IPY_MODEL_0d002de9a9dd4a2ea797f833e8bc5cc1",
      "value": 3
     }
    },
    "a9d6397dbfad447f82fe5d828e25e9a9": {
     "model_module": "@jupyter-widgets/controls",
     "model_module_version": "1.5.0",
     "model_name": "FloatProgressModel",
     "state": {
      "_dom_classes": [],
      "_model_module": "@jupyter-widgets/controls",
      "_model_module_version": "1.5.0",
      "_model_name": "FloatProgressModel",
      "_view_count": null,
      "_view_module": "@jupyter-widgets/controls",
      "_view_module_version": "1.5.0",
      "_view_name": "ProgressView",
      "bar_style": "success",
      "description": "",
      "description_tooltip": null,
      "layout": "IPY_MODEL_08b64a09c8194a678aa146ad3fd8eadb",
      "max": 3,
      "min": 0,
      "orientation": "horizontal",
      "style": "IPY_MODEL_64375f394363417daafca5da9b4db866",
      "value": 3
     }
    },
    "b185350a87514d74a7b1c48c166f93c9": {
     "model_module": "@jupyter-widgets/controls",
     "model_module_version": "1.5.0",
     "model_name": "HTMLModel",
     "state": {
      "_dom_classes": [],
      "_model_module": "@jupyter-widgets/controls",
      "_model_module_version": "1.5.0",
      "_model_name": "HTMLModel",
      "_view_count": null,
      "_view_module": "@jupyter-widgets/controls",
      "_view_module_version": "1.5.0",
      "_view_name": "HTMLView",
      "description": "",
      "description_tooltip": null,
      "layout": "IPY_MODEL_a279da464444444a82548a9af023acdb",
      "placeholder": "​",
      "style": "IPY_MODEL_92e3259c1af74b10b8d589f9dd5fb661",
      "value": " 3/3 [00:00&lt;00:00, 36.92it/s]"
     }
    },
    "b8ac4d76a2c14b418d6a959475504f13": {
     "model_module": "@jupyter-widgets/controls",
     "model_module_version": "1.5.0",
     "model_name": "HBoxModel",
     "state": {
      "_dom_classes": [],
      "_model_module": "@jupyter-widgets/controls",
      "_model_module_version": "1.5.0",
      "_model_name": "HBoxModel",
      "_view_count": null,
      "_view_module": "@jupyter-widgets/controls",
      "_view_module_version": "1.5.0",
      "_view_name": "HBoxView",
      "box_style": "",
      "children": [
       "IPY_MODEL_295bcceb3d5843b48e840a9a5d1054a9",
       "IPY_MODEL_a973c8b18499415f94e701b074625b6c",
       "IPY_MODEL_90a644cfbb464a588c68c319f75926f8"
      ],
      "layout": "IPY_MODEL_1c5cb84b38db40bf817eabc7a7b357f6"
     }
    },
    "b8c54eaa14aa4d41bbaadfd28dc2de52": {
     "model_module": "@jupyter-widgets/controls",
     "model_module_version": "1.5.0",
     "model_name": "HBoxModel",
     "state": {
      "_dom_classes": [],
      "_model_module": "@jupyter-widgets/controls",
      "_model_module_version": "1.5.0",
      "_model_name": "HBoxModel",
      "_view_count": null,
      "_view_module": "@jupyter-widgets/controls",
      "_view_module_version": "1.5.0",
      "_view_name": "HBoxView",
      "box_style": "",
      "children": [
       "IPY_MODEL_724d9d88b04e48018321dd04129b4ff5",
       "IPY_MODEL_a9d6397dbfad447f82fe5d828e25e9a9",
       "IPY_MODEL_00c392d4d5f9428d84214012b0c39b14"
      ],
      "layout": "IPY_MODEL_8722f891ba604b43ac06e1f5c8f8eaf0"
     }
    },
    "c979e14dba564d59ba876ffb4f30339c": {
     "model_module": "@jupyter-widgets/controls",
     "model_module_version": "1.5.0",
     "model_name": "DescriptionStyleModel",
     "state": {
      "_model_module": "@jupyter-widgets/controls",
      "_model_module_version": "1.5.0",
      "_model_name": "DescriptionStyleModel",
      "_view_count": null,
      "_view_module": "@jupyter-widgets/base",
      "_view_module_version": "1.2.0",
      "_view_name": "StyleView",
      "description_width": ""
     }
    },
    "ffa442c7f2f540889d96e2d6af446160": {
     "model_module": "@jupyter-widgets/controls",
     "model_module_version": "1.5.0",
     "model_name": "HTMLModel",
     "state": {
      "_dom_classes": [],
      "_model_module": "@jupyter-widgets/controls",
      "_model_module_version": "1.5.0",
      "_model_name": "HTMLModel",
      "_view_count": null,
      "_view_module": "@jupyter-widgets/controls",
      "_view_module_version": "1.5.0",
      "_view_name": "HTMLView",
      "description": "",
      "description_tooltip": null,
      "layout": "IPY_MODEL_8ca34c26aae04883a2a3a98e0770f2ed",
      "placeholder": "​",
      "style": "IPY_MODEL_92412f7f45de49589a559efebc67d490",
      "value": "100%"
     }
    }
   }
  }
 },
 "nbformat": 4,
 "nbformat_minor": 5
}
