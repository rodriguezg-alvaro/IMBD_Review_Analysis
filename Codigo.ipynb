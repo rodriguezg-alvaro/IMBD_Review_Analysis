{
 "cells": [
  {
   "cell_type": "markdown",
   "id": "1e509217",
   "metadata": {
    "id": "1e509217"
   },
   "source": [
    "# IMBD Sentimental Analysis Review"
   ]
  },
  {
   "cell_type": "markdown",
   "id": "84f62669",
   "metadata": {
    "id": "84f62669"
   },
   "source": [
    "El siguiente proyecto tiene como objetivo la aplicación de técnicas de NLP para realizar un análisis de sentimientos sobre un dataset formado por reviews de diferentes películas de la base de datos IMBD. Todas ellas vienen correctamente tagueadas con su correspondiente sentimiento, positivo o negativo."
   ]
  },
  {
   "cell_type": "markdown",
   "id": "FHkS2eIMYP-K",
   "metadata": {
    "id": "FHkS2eIMYP-K"
   },
   "source": [
    "# Índice\n",
    "\n",
    "**[0. Librerias](#heading--1)**\n",
    "\n",
    "**[1. Carga de Datos](#heading--2)**\n",
    "\n",
    "**[2. Análisis Exploratorio](#heading--3)**\n",
    "\n",
    "**[3. PreProcesado](#heading--4)**\n",
    "\n",
    "**[4. División de Datos](#heading--5)**\n",
    "\n",
    "**[5. Tokenización de Datos](#heading--6)**\n",
    "\n",
    "**[6. Modelos](#heading--7)**\n",
    "\n",
    "  * [6.1. Red Neuronal Simple](#heading--7-1)\n",
    "  \n",
    "  * [6.2. CNN](#heading--7-2)\n",
    "\n",
    "  * [6.2. RNN + CNN](#heading--7-3)\n",
    "\n",
    "  * [6.4. LTSM](#heading--7-4)\n",
    "  \n",
    "**[7. Transformers](#heading--8)**\n",
    "\n",
    "**[8. Comparación](#heading--9)**\n",
    "\n",
    "**[9. Lineas de Investigación](#heading--10)**\n",
    "\n"
   ]
  },
  {
   "cell_type": "markdown",
   "id": "c99313c5",
   "metadata": {
    "id": "c99313c5"
   },
   "source": [
    "<div id=\"heading--1\"/>\n",
    "\n",
    "## 0. Librerias"
   ]
  },
  {
   "cell_type": "markdown",
   "id": "d2079f9e",
   "metadata": {
    "id": "d2079f9e"
   },
   "source": [
    "Importamos los paquetes que necesitaremos para poder trabajar:"
   ]
  },
  {
   "cell_type": "code",
   "execution_count": 1,
   "id": "55954bec",
   "metadata": {
    "id": "55954bec"
   },
   "outputs": [],
   "source": [
    "import pandas as pd\n",
    "import numpy as np\n",
    "import seaborn as sns\n",
    "import tensorflow as tf\n",
    "import matplotlib.pyplot as plt\n",
    "import re\n",
    "import nltk\n",
    "import wordcloud\n",
    "import matplotlib\n",
    "from nltk.probability import FreqDist\n",
    "from nltk.corpus import stopwords\n",
    "from nltk.tokenize import word_tokenize\n",
    "from sklearn.model_selection import train_test_split\n",
    "from tensorflow import keras\n",
    "from keras.preprocessing.text import Tokenizer\n",
    "from keras.preprocessing.sequence import pad_sequences\n",
    "from keras.layers.embeddings import Embedding\n",
    "from keras import layers"
   ]
  },
  {
   "cell_type": "markdown",
   "id": "d9e16868",
   "metadata": {
    "id": "d9e16868"
   },
   "source": [
    "<div id=\"heading--2\"/>\n",
    "\n",
    "## 1. Carga de datos"
   ]
  },
  {
   "cell_type": "markdown",
   "id": "da0ead15",
   "metadata": {},
   "source": [
    "La siguiente parte solo será necesaria si se trabaja desde Google Colab, además las rutas se deberán cambiar."
   ]
  },
  {
   "cell_type": "code",
   "execution_count": 2,
   "id": "S1e-Dp5gRFUL",
   "metadata": {
    "colab": {
     "base_uri": "https://localhost:8080/"
    },
    "id": "S1e-Dp5gRFUL",
    "outputId": "f1a026ac-f3c2-45a3-b153-6773caf4dfab"
   },
   "outputs": [
    {
     "name": "stdout",
     "output_type": "stream",
     "text": [
      "Mounted at /content/drive\n"
     ]
    }
   ],
   "source": [
    "from google.colab import drive\n",
    "drive.mount('/content/drive')"
   ]
  },
  {
   "cell_type": "code",
   "execution_count": 13,
   "id": "7fo533YsRu_K",
   "metadata": {
    "colab": {
     "base_uri": "https://localhost:8080/"
    },
    "id": "7fo533YsRu_K",
    "outputId": "110879e8-3019-469b-b314-75535a719089"
   },
   "outputs": [
    {
     "name": "stdout",
     "output_type": "stream",
     "text": [
      "/content/drive/MyDrive/IMBD_Project\n"
     ]
    }
   ],
   "source": [
    "cd ./drive/MyDrive/IMBD_Project"
   ]
  },
  {
   "cell_type": "markdown",
   "id": "dd085ef3",
   "metadata": {
    "id": "dd085ef3"
   },
   "source": [
    "Una vez ya hemos configurado la entrada y carga de datos de Google Drive lo que haremos será cargar los datos con los que trabajaremos. Estos serán un csv formado por las reviews y su tag en cuanto al sentimiento."
   ]
  },
  {
   "cell_type": "code",
   "execution_count": 15,
   "id": "453c5cdd",
   "metadata": {
    "id": "453c5cdd"
   },
   "outputs": [],
   "source": [
    "reviews = pd.read_csv(\"./IMBD_data.csv\")"
   ]
  },
  {
   "cell_type": "code",
   "execution_count": 16,
   "id": "a91ed548",
   "metadata": {
    "colab": {
     "base_uri": "https://localhost:8080/",
     "height": 419
    },
    "id": "a91ed548",
    "outputId": "e4294e48-c09c-4f05-ce6e-a0d6d6727512"
   },
   "outputs": [
    {
     "data": {
      "text/html": [
       "\n",
       "  <div id=\"df-f0c71f21-09aa-4f25-8dd8-81d93983d997\">\n",
       "    <div class=\"colab-df-container\">\n",
       "      <div>\n",
       "<style scoped>\n",
       "    .dataframe tbody tr th:only-of-type {\n",
       "        vertical-align: middle;\n",
       "    }\n",
       "\n",
       "    .dataframe tbody tr th {\n",
       "        vertical-align: top;\n",
       "    }\n",
       "\n",
       "    .dataframe thead th {\n",
       "        text-align: right;\n",
       "    }\n",
       "</style>\n",
       "<table border=\"1\" class=\"dataframe\">\n",
       "  <thead>\n",
       "    <tr style=\"text-align: right;\">\n",
       "      <th></th>\n",
       "      <th>review</th>\n",
       "      <th>sentiment</th>\n",
       "    </tr>\n",
       "  </thead>\n",
       "  <tbody>\n",
       "    <tr>\n",
       "      <th>0</th>\n",
       "      <td>One of the other reviewers has mentioned that ...</td>\n",
       "      <td>positive</td>\n",
       "    </tr>\n",
       "    <tr>\n",
       "      <th>1</th>\n",
       "      <td>A wonderful little production. &lt;br /&gt;&lt;br /&gt;The...</td>\n",
       "      <td>positive</td>\n",
       "    </tr>\n",
       "    <tr>\n",
       "      <th>2</th>\n",
       "      <td>I thought this was a wonderful way to spend ti...</td>\n",
       "      <td>positive</td>\n",
       "    </tr>\n",
       "    <tr>\n",
       "      <th>3</th>\n",
       "      <td>Basically there's a family where a little boy ...</td>\n",
       "      <td>negative</td>\n",
       "    </tr>\n",
       "    <tr>\n",
       "      <th>4</th>\n",
       "      <td>Petter Mattei's \"Love in the Time of Money\" is...</td>\n",
       "      <td>positive</td>\n",
       "    </tr>\n",
       "    <tr>\n",
       "      <th>...</th>\n",
       "      <td>...</td>\n",
       "      <td>...</td>\n",
       "    </tr>\n",
       "    <tr>\n",
       "      <th>49995</th>\n",
       "      <td>I thought this movie did a down right good job...</td>\n",
       "      <td>positive</td>\n",
       "    </tr>\n",
       "    <tr>\n",
       "      <th>49996</th>\n",
       "      <td>Bad plot, bad dialogue, bad acting, idiotic di...</td>\n",
       "      <td>negative</td>\n",
       "    </tr>\n",
       "    <tr>\n",
       "      <th>49997</th>\n",
       "      <td>I am a Catholic taught in parochial elementary...</td>\n",
       "      <td>negative</td>\n",
       "    </tr>\n",
       "    <tr>\n",
       "      <th>49998</th>\n",
       "      <td>I'm going to have to disagree with the previou...</td>\n",
       "      <td>negative</td>\n",
       "    </tr>\n",
       "    <tr>\n",
       "      <th>49999</th>\n",
       "      <td>No one expects the Star Trek movies to be high...</td>\n",
       "      <td>negative</td>\n",
       "    </tr>\n",
       "  </tbody>\n",
       "</table>\n",
       "<p>50000 rows × 2 columns</p>\n",
       "</div>\n",
       "      <button class=\"colab-df-convert\" onclick=\"convertToInteractive('df-f0c71f21-09aa-4f25-8dd8-81d93983d997')\"\n",
       "              title=\"Convert this dataframe to an interactive table.\"\n",
       "              style=\"display:none;\">\n",
       "        \n",
       "  <svg xmlns=\"http://www.w3.org/2000/svg\" height=\"24px\"viewBox=\"0 0 24 24\"\n",
       "       width=\"24px\">\n",
       "    <path d=\"M0 0h24v24H0V0z\" fill=\"none\"/>\n",
       "    <path d=\"M18.56 5.44l.94 2.06.94-2.06 2.06-.94-2.06-.94-.94-2.06-.94 2.06-2.06.94zm-11 1L8.5 8.5l.94-2.06 2.06-.94-2.06-.94L8.5 2.5l-.94 2.06-2.06.94zm10 10l.94 2.06.94-2.06 2.06-.94-2.06-.94-.94-2.06-.94 2.06-2.06.94z\"/><path d=\"M17.41 7.96l-1.37-1.37c-.4-.4-.92-.59-1.43-.59-.52 0-1.04.2-1.43.59L10.3 9.45l-7.72 7.72c-.78.78-.78 2.05 0 2.83L4 21.41c.39.39.9.59 1.41.59.51 0 1.02-.2 1.41-.59l7.78-7.78 2.81-2.81c.8-.78.8-2.07 0-2.86zM5.41 20L4 18.59l7.72-7.72 1.47 1.35L5.41 20z\"/>\n",
       "  </svg>\n",
       "      </button>\n",
       "      \n",
       "  <style>\n",
       "    .colab-df-container {\n",
       "      display:flex;\n",
       "      flex-wrap:wrap;\n",
       "      gap: 12px;\n",
       "    }\n",
       "\n",
       "    .colab-df-convert {\n",
       "      background-color: #E8F0FE;\n",
       "      border: none;\n",
       "      border-radius: 50%;\n",
       "      cursor: pointer;\n",
       "      display: none;\n",
       "      fill: #1967D2;\n",
       "      height: 32px;\n",
       "      padding: 0 0 0 0;\n",
       "      width: 32px;\n",
       "    }\n",
       "\n",
       "    .colab-df-convert:hover {\n",
       "      background-color: #E2EBFA;\n",
       "      box-shadow: 0px 1px 2px rgba(60, 64, 67, 0.3), 0px 1px 3px 1px rgba(60, 64, 67, 0.15);\n",
       "      fill: #174EA6;\n",
       "    }\n",
       "\n",
       "    [theme=dark] .colab-df-convert {\n",
       "      background-color: #3B4455;\n",
       "      fill: #D2E3FC;\n",
       "    }\n",
       "\n",
       "    [theme=dark] .colab-df-convert:hover {\n",
       "      background-color: #434B5C;\n",
       "      box-shadow: 0px 1px 3px 1px rgba(0, 0, 0, 0.15);\n",
       "      filter: drop-shadow(0px 1px 2px rgba(0, 0, 0, 0.3));\n",
       "      fill: #FFFFFF;\n",
       "    }\n",
       "  </style>\n",
       "\n",
       "      <script>\n",
       "        const buttonEl =\n",
       "          document.querySelector('#df-f0c71f21-09aa-4f25-8dd8-81d93983d997 button.colab-df-convert');\n",
       "        buttonEl.style.display =\n",
       "          google.colab.kernel.accessAllowed ? 'block' : 'none';\n",
       "\n",
       "        async function convertToInteractive(key) {\n",
       "          const element = document.querySelector('#df-f0c71f21-09aa-4f25-8dd8-81d93983d997');\n",
       "          const dataTable =\n",
       "            await google.colab.kernel.invokeFunction('convertToInteractive',\n",
       "                                                     [key], {});\n",
       "          if (!dataTable) return;\n",
       "\n",
       "          const docLinkHtml = 'Like what you see? Visit the ' +\n",
       "            '<a target=\"_blank\" href=https://colab.research.google.com/notebooks/data_table.ipynb>data table notebook</a>'\n",
       "            + ' to learn more about interactive tables.';\n",
       "          element.innerHTML = '';\n",
       "          dataTable['output_type'] = 'display_data';\n",
       "          await google.colab.output.renderOutput(dataTable, element);\n",
       "          const docLink = document.createElement('div');\n",
       "          docLink.innerHTML = docLinkHtml;\n",
       "          element.appendChild(docLink);\n",
       "        }\n",
       "      </script>\n",
       "    </div>\n",
       "  </div>\n",
       "  "
      ],
      "text/plain": [
       "                                                  review sentiment\n",
       "0      One of the other reviewers has mentioned that ...  positive\n",
       "1      A wonderful little production. <br /><br />The...  positive\n",
       "2      I thought this was a wonderful way to spend ti...  positive\n",
       "3      Basically there's a family where a little boy ...  negative\n",
       "4      Petter Mattei's \"Love in the Time of Money\" is...  positive\n",
       "...                                                  ...       ...\n",
       "49995  I thought this movie did a down right good job...  positive\n",
       "49996  Bad plot, bad dialogue, bad acting, idiotic di...  negative\n",
       "49997  I am a Catholic taught in parochial elementary...  negative\n",
       "49998  I'm going to have to disagree with the previou...  negative\n",
       "49999  No one expects the Star Trek movies to be high...  negative\n",
       "\n",
       "[50000 rows x 2 columns]"
      ]
     },
     "execution_count": 16,
     "metadata": {},
     "output_type": "execute_result"
    }
   ],
   "source": [
    "reviews"
   ]
  },
  {
   "cell_type": "markdown",
   "id": "0cfbf077",
   "metadata": {
    "id": "0cfbf077"
   },
   "source": [
    "A su vez cargaremos también los datos de las stop words, en inglés ya que las reviews están en inglés:"
   ]
  },
  {
   "cell_type": "code",
   "execution_count": 17,
   "id": "512350b6",
   "metadata": {
    "colab": {
     "base_uri": "https://localhost:8080/"
    },
    "id": "512350b6",
    "outputId": "6b66c2c8-10cd-4fef-e021-b700f81102bd"
   },
   "outputs": [
    {
     "name": "stdout",
     "output_type": "stream",
     "text": [
      "[nltk_data] Downloading package stopwords to /root/nltk_data...\n",
      "[nltk_data]   Unzipping corpora/stopwords.zip.\n"
     ]
    },
    {
     "data": {
      "text/plain": [
       "True"
      ]
     },
     "execution_count": 17,
     "metadata": {},
     "output_type": "execute_result"
    }
   ],
   "source": [
    "nltk.download('stopwords')"
   ]
  },
  {
   "cell_type": "code",
   "execution_count": 18,
   "id": "7eff56fb",
   "metadata": {
    "id": "7eff56fb"
   },
   "outputs": [],
   "source": [
    "stopwords = set(stopwords.words('english'))"
   ]
  },
  {
   "cell_type": "code",
   "execution_count": 19,
   "id": "86e77000",
   "metadata": {
    "colab": {
     "base_uri": "https://localhost:8080/"
    },
    "id": "86e77000",
    "outputId": "92e4bed0-bfe5-4fe1-c4d9-5b2c02e531d0"
   },
   "outputs": [
    {
     "name": "stdout",
     "output_type": "stream",
     "text": [
      "{'d', 'my', \"you've\", 're', 'don', 'wouldn', 'ma', 'only', 'it', 'very', 'what', 'above', \"isn't\", 'not', 'wasn', 'be', 'about', 'him', 'other', 'their', 'as', 'between', 'with', 'again', \"needn't\", 'if', \"wouldn't\", 'hers', \"you're\", \"you'll\", 'were', 'having', \"weren't\", 'whom', 'or', 'hadn', 'he', 'here', 'doesn', \"hasn't\", 'over', \"doesn't\", 'into', 'same', 'from', 've', 's', 'after', 'hasn', 'both', 'himself', 'had', 'nor', \"wasn't\", \"shan't\", 'no', 'this', 'against', 'couldn', 'mustn', 'has', 'to', 'down', 'its', 'before', 'in', 'ourselves', \"won't\", 'few', 'shouldn', 'too', 'for', 'and', 'so', 'through', 'because', 'under', 'i', 'the', 'needn', 'there', 'myself', 'your', 'at', 'where', \"that'll\", 'ours', 'do', \"shouldn't\", 'aren', \"she's\", 'yourselves', 'during', 'doing', 'itself', 'out', 'off', \"couldn't\", 'does', 'but', 'further', 'some', 'o', 'then', 'just', 'won', 'how', \"hadn't\", 'isn', \"aren't\", 'you', 'of', 'her', 'until', 'them', 'themselves', 'they', 'these', 'did', \"it's\", 'on', 'will', 'why', 'when', 'y', 'didn', 'm', \"mightn't\", 'me', 'up', 'is', 'those', 'now', 'each', 'herself', \"mustn't\", 'all', 'theirs', 'haven', 'shan', 'most', 'll', \"should've\", 'while', 'any', \"haven't\", 'should', 'being', 'can', 'than', 'yourself', 'been', 'mightn', \"you'd\", 'have', 'below', 'his', 'yours', 'our', 'that', \"don't\", \"didn't\", 'such', 'she', 'ain', 'once', 'we', 'a', 'am', 'own', 't', 'was', 'more', 'who', 'by', 'which', 'an', 'are', 'weren'}\n"
     ]
    }
   ],
   "source": [
    "print(stopwords)"
   ]
  },
  {
   "cell_type": "markdown",
   "id": "1a819bf3",
   "metadata": {
    "id": "1a819bf3"
   },
   "source": [
    "<div id=\"heading--3\"/>\n",
    "\n",
    "## 2. Análisis Exploratorio"
   ]
  },
  {
   "cell_type": "markdown",
   "id": "98f03c84",
   "metadata": {
    "id": "98f03c84"
   },
   "source": [
    "Veamos si nuestros datos estan balanceados:"
   ]
  },
  {
   "cell_type": "code",
   "execution_count": 20,
   "id": "8b563745",
   "metadata": {
    "colab": {
     "base_uri": "https://localhost:8080/",
     "height": 296
    },
    "id": "8b563745",
    "outputId": "1a338b8a-5bc4-44c2-aa5b-3caaac3658d7"
   },
   "outputs": [
    {
     "data": {
      "text/plain": [
       "<matplotlib.axes._subplots.AxesSubplot at 0x7ff6092e14d0>"
      ]
     },
     "execution_count": 20,
     "metadata": {},
     "output_type": "execute_result"
    },
    {
     "data": {
      "image/png": "[encoded data removed]",
      "text/plain": [
       "<Figure size 432x288 with 1 Axes>"
      ]
     },
     "metadata": {
      "needs_background": "light"
     },
     "output_type": "display_data"
    }
   ],
   "source": [
    "sns.countplot(x = \"sentiment\", data = reviews)"
   ]
  },
  {
   "cell_type": "markdown",
   "id": "7cd287dd",
   "metadata": {
    "id": "7cd287dd"
   },
   "source": [
    "A continuación realizaremos un análisis de las palabras:"
   ]
  },
  {
   "cell_type": "code",
   "execution_count": 21,
   "id": "a2665acf",
   "metadata": {
    "id": "a2665acf"
   },
   "outputs": [],
   "source": [
    "def get_word_tokens(sentences):\n",
    "    words = []\n",
    "    for sent in sentences:\n",
    "        words.extend(word_tokenize(sent))\n",
    "    print(words)\n",
    "    return(words)"
   ]
  },
  {
   "cell_type": "markdown",
   "id": "9ab0f23d",
   "metadata": {
    "id": "9ab0f23d"
   },
   "source": [
    "Pasamos las reviews a una lista para poder trabajar con ello:"
   ]
  },
  {
   "cell_type": "code",
   "execution_count": 22,
   "id": "71d74665",
   "metadata": {
    "id": "71d74665"
   },
   "outputs": [],
   "source": [
    "reviews_lista = list(reviews['review'])"
   ]
  },
  {
   "cell_type": "code",
   "execution_count": 24,
   "id": "HptRNsBqSIpu",
   "metadata": {
    "colab": {
     "base_uri": "https://localhost:8080/"
    },
    "id": "HptRNsBqSIpu",
    "outputId": "471547a7-2f42-4f52-e24d-54b8c16c30df"
   },
   "outputs": [
    {
     "name": "stdout",
     "output_type": "stream",
     "text": [
      "[nltk_data] Downloading package punkt to /root/nltk_data...\n",
      "[nltk_data]   Unzipping tokenizers/punkt.zip.\n"
     ]
    },
    {
     "data": {
      "text/plain": [
       "True"
      ]
     },
     "execution_count": 24,
     "metadata": {},
     "output_type": "execute_result"
    }
   ],
   "source": [
    "nltk.download('punkt')"
   ]
  },
  {
   "cell_type": "code",
   "execution_count": 25,
   "id": "dowAcL9nENPQ",
   "metadata": {
    "colab": {
     "base_uri": "https://localhost:8080/"
    },
    "id": "dowAcL9nENPQ",
    "outputId": "a18b585e-0a97-4a87-a728-c5a7421da723"
   },
   "outputs": [
    {
     "name": "stderr",
     "output_type": "stream",
     "text": [
      "IOPub data rate exceeded.\n",
      "The notebook server will temporarily stop sending output\n",
      "to the client in order to avoid crashing it.\n",
      "To change this limit, set the config variable\n",
      "`--NotebookApp.iopub_data_rate_limit`.\n",
      "\n",
      "Current values:\n",
      "NotebookApp.iopub_data_rate_limit=1000000.0 (bytes/sec)\n",
      "NotebookApp.rate_limit_window=3.0 (secs)\n",
      "\n"
     ]
    }
   ],
   "source": [
    "review_words = get_word_tokens(reviews_lista)"
   ]
  },
  {
   "cell_type": "code",
   "execution_count": 27,
   "id": "DdqCYT7OEUCR",
   "metadata": {
    "id": "DdqCYT7OEUCR"
   },
   "outputs": [],
   "source": [
    "matplotlib.use('TkAgg')"
   ]
  },
  {
   "cell_type": "markdown",
   "id": "93294a49",
   "metadata": {},
   "source": [
    "Creamos una función que nos saque una distribución de frecuencias de las diferentes palabras."
   ]
  },
  {
   "cell_type": "code",
   "execution_count": 28,
   "id": "e46721fd",
   "metadata": {
    "id": "e46721fd"
   },
   "outputs": [],
   "source": [
    "def plot_freq_dist(words, num_words = 20):\n",
    "    fdist = FreqDist(words)\n",
    "    fdist.plot(num_words,cumulative=False)"
   ]
  },
  {
   "cell_type": "code",
   "execution_count": 29,
   "id": "c2TXk_ASEX7U",
   "metadata": {
    "colab": {
     "base_uri": "https://localhost:8080/",
     "height": 290
    },
    "id": "c2TXk_ASEX7U",
    "outputId": "3b2fd71a-63b4-4775-b8a2-f73177cb381c"
   },
   "outputs": [
    {
     "data": {
      "image/png": "[encoded data removed]",
      "text/plain": [
       "<Figure size 432x288 with 1 Axes>"
      ]
     },
     "metadata": {
      "needs_background": "light"
     },
     "output_type": "display_data"
    }
   ],
   "source": [
    "plot_freq_dist(review_words, num_words=20)"
   ]
  },
  {
   "cell_type": "markdown",
   "id": "dcc19ec1",
   "metadata": {},
   "source": [
    "Como es facilmente observable la gran mayoria de palabras que más se repiten o son algunas incluidas en las stop words o son símbolos debidos a la técnica usada para obtener los datos. Para verlo correctamente tendremos que hacer un preprocesado."
   ]
  },
  {
   "cell_type": "code",
   "execution_count": 30,
   "id": "4113c4b0",
   "metadata": {
    "colab": {
     "base_uri": "https://localhost:8080/"
    },
    "id": "4113c4b0",
    "outputId": "0854a131-1a1d-4a0c-88a4-4572c9f00760"
   },
   "outputs": [
    {
     "name": "stdout",
     "output_type": "stream",
     "text": [
      "[nltk_data] Downloading package averaged_perceptron_tagger to\n",
      "[nltk_data]     /root/nltk_data...\n",
      "[nltk_data]   Unzipping taggers/averaged_perceptron_tagger.zip.\n"
     ]
    },
    {
     "data": {
      "text/plain": [
       "True"
      ]
     },
     "execution_count": 30,
     "metadata": {},
     "output_type": "execute_result"
    }
   ],
   "source": [
    "nltk.download('averaged_perceptron_tagger')"
   ]
  },
  {
   "cell_type": "code",
   "execution_count": 31,
   "id": "wBmjKLs_Ec6D",
   "metadata": {
    "id": "wBmjKLs_Ec6D"
   },
   "outputs": [],
   "source": [
    "def get_pos_tags(words):\n",
    "    tags=[]\n",
    "    for word in words:\n",
    "        tags.append(nltk.pos_tag([word]))\n",
    "    print(tags)\n",
    "    return tags"
   ]
  },
  {
   "cell_type": "code",
   "execution_count": 32,
   "id": "p49gmgJtEfLq",
   "metadata": {
    "colab": {
     "base_uri": "https://localhost:8080/",
     "height": 1000
    },
    "id": "p49gmgJtEfLq",
    "outputId": "7d768b6a-e7a1-4aae-a01f-ef692b312fcf"
   },
   "outputs": [
    {
     "name": "stderr",
     "output_type": "stream",
     "text": [
      "ERROR:root:Internal Python error in the inspect module.\n",
      "Below is the traceback from this internal error.\n",
      "\n"
     ]
    },
    {
     "name": "stdout",
     "output_type": "stream",
     "text": [
      "Traceback (most recent call last):\n",
      "  File \"/usr/local/lib/python3.7/dist-packages/IPython/core/interactiveshell.py\", line 2882, in run_code\n",
      "    exec(code_obj, self.user_global_ns, self.user_ns)\n",
      "  File \"<ipython-input-32-b9e2f97bd742>\", line 1, in <module>\n",
      "    sample_tags = get_pos_tags(review_words)\n",
      "  File \"<ipython-input-31-458de68e768a>\", line 4, in get_pos_tags\n",
      "    tags.append(nltk.pos_tag([word]))\n",
      "  File \"/usr/local/lib/python3.7/dist-packages/nltk/tag/__init__.py\", line 133, in pos_tag\n",
      "    tagger = _get_tagger(lang)\n",
      "  File \"/usr/local/lib/python3.7/dist-packages/nltk/tag/__init__.py\", line 97, in _get_tagger\n",
      "    tagger = PerceptronTagger()\n",
      "  File \"/usr/local/lib/python3.7/dist-packages/nltk/tag/perceptron.py\", line 141, in __init__\n",
      "    self.load(AP_MODEL_LOC)\n",
      "  File \"/usr/local/lib/python3.7/dist-packages/nltk/tag/perceptron.py\", line 223, in load\n",
      "    self.model.weights, self.tagdict, self.classes = load(loc)\n",
      "  File \"/usr/local/lib/python3.7/dist-packages/nltk/data.py\", line 803, in load\n",
      "    resource_url = add_py3_data(resource_url)\n",
      "  File \"/usr/local/lib/python3.7/dist-packages/nltk/compat.py\", line 207, in add_py3_data\n",
      "    if item in str(path) and \"/PY3\" not in str(path):\n",
      "KeyboardInterrupt\n",
      "\n",
      "During handling of the above exception, another exception occurred:\n",
      "\n",
      "Traceback (most recent call last):\n",
      "  File \"/usr/local/lib/python3.7/dist-packages/IPython/core/interactiveshell.py\", line 1823, in showtraceback\n",
      "    stb = value._render_traceback_()\n",
      "AttributeError: 'KeyboardInterrupt' object has no attribute '_render_traceback_'\n",
      "\n",
      "During handling of the above exception, another exception occurred:\n",
      "\n",
      "Traceback (most recent call last):\n",
      "  File \"/usr/lib/python3.7/genericpath.py\", line 19, in exists\n",
      "    os.stat(path)\n",
      "FileNotFoundError: [Errno 2] No such file or directory: '<ipython-input-32-b9e2f97bd742>'\n",
      "\n",
      "During handling of the above exception, another exception occurred:\n",
      "\n",
      "Traceback (most recent call last):\n",
      "  File \"/usr/local/lib/python3.7/dist-packages/IPython/core/ultratb.py\", line 1132, in get_records\n",
      "    return _fixed_getinnerframes(etb, number_of_lines_of_context, tb_offset)\n",
      "  File \"/usr/local/lib/python3.7/dist-packages/IPython/core/ultratb.py\", line 313, in wrapped\n",
      "    return f(*args, **kwargs)\n",
      "  File \"/usr/local/lib/python3.7/dist-packages/IPython/core/ultratb.py\", line 358, in _fixed_getinnerframes\n",
      "    records = fix_frame_records_filenames(inspect.getinnerframes(etb, context))\n",
      "  File \"/usr/lib/python3.7/inspect.py\", line 1502, in getinnerframes\n",
      "    frameinfo = (tb.tb_frame,) + getframeinfo(tb, context)\n",
      "  File \"/usr/lib/python3.7/inspect.py\", line 1464, in getframeinfo\n",
      "    lines, lnum = findsource(frame)\n",
      "  File \"/usr/local/lib/python3.7/dist-packages/IPython/core/ultratb.py\", line 170, in findsource\n",
      "    file = getsourcefile(object) or getfile(object)\n",
      "  File \"/usr/lib/python3.7/inspect.py\", line 693, in getsourcefile\n",
      "    if os.path.exists(filename):\n",
      "  File \"/usr/lib/python3.7/genericpath.py\", line 19, in exists\n",
      "    os.stat(path)\n",
      "KeyboardInterrupt\n"
     ]
    },
    {
     "ename": "KeyboardInterrupt",
     "evalue": "ignored",
     "output_type": "error",
     "traceback": [
      "\u001b[0;31m---------------------------------------------------------------------------\u001b[0m"
     ]
    }
   ],
   "source": [
    "sample_tags = get_pos_tags(review_words)"
   ]
  },
  {
   "cell_type": "code",
   "execution_count": null,
   "id": "v_8ilhisEikh",
   "metadata": {
    "id": "v_8ilhisEikh"
   },
   "outputs": [],
   "source": [
    "tag_fd = nltk.FreqDist(l[0][1] for l in sample_tags)\n",
    "tag_fd.most_common()"
   ]
  },
  {
   "cell_type": "markdown",
   "id": "cOSpa1rqEpW_",
   "metadata": {
    "id": "cOSpa1rqEpW_"
   },
   "source": [
    "Aquí explicaremos qué es cada tag de los más repetidos:\n",
    "\n",
    "\n",
    "1.   NN: Noun\n",
    "2.   NNS: Noun plural\n",
    "3.   JJ: This NLTK POS Tag is an adjective\n",
    "4.   RB: Adverb\n",
    "5.   VGB: Verb gerund\n",
    "6.   VBN: Verb past participle\n",
    "7.   VB Verb\n",
    "8.   IN: Preposition/subordinating conjunction\n",
    "9.   CD: Cardinal digit\n",
    "10.  Verb past tense \n"
   ]
  },
  {
   "cell_type": "code",
   "execution_count": null,
   "id": "pT-ABcjcEwrC",
   "metadata": {
    "id": "pT-ABcjcEwrC"
   },
   "outputs": [],
   "source": [
    "wc2 = wordcloud.WordCloud(\n",
    "    width=1000, \n",
    "    height=1000, \n",
    "    stopwords=stopwords,\n",
    "    max_words=100,\n",
    "    collocations=False\n",
    ").generate(text=(' '.join(review_words)).lower())"
   ]
  },
  {
   "cell_type": "code",
   "execution_count": null,
   "id": "QXvtkWmoEzy4",
   "metadata": {
    "id": "QXvtkWmoEzy4"
   },
   "outputs": [],
   "source": [
    "get_ipython().run_line_magic('matplotlib', 'inline')\n",
    "plt.figure(figsize=[10,10])\n",
    "plt.imshow(wc2)\n",
    "plt.axis(\"off\")"
   ]
  },
  {
   "cell_type": "markdown",
   "id": "733c660e",
   "metadata": {
    "id": "733c660e"
   },
   "source": [
    "<div id=\"heading--4\"/>\n",
    "\n",
    "## 3. Preprocesado"
   ]
  },
  {
   "cell_type": "markdown",
   "id": "6115c94e",
   "metadata": {
    "id": "6115c94e"
   },
   "source": [
    "Como se puede ver en el caso que se encuentra abajo, podemos encontrarnos con tags de código html:"
   ]
  },
  {
   "cell_type": "code",
   "execution_count": 33,
   "id": "1f1116e5",
   "metadata": {
    "colab": {
     "base_uri": "https://localhost:8080/",
     "height": 140
    },
    "id": "1f1116e5",
    "outputId": "7bf222bb-7615-4fdc-a53a-f2b84d4c8abf"
   },
   "outputs": [
    {
     "data": {
      "application/vnd.google.colaboratory.intrinsic+json": {
       "type": "string"
      },
      "text/plain": [
       "'A wonderful little production. <br /><br />The filming technique is very unassuming- very old-time-BBC fashion and gives a comforting, and sometimes discomforting, sense of realism to the entire piece. <br /><br />The actors are extremely well chosen- Michael Sheen not only \"has got all the polari\" but he has all the voices down pat too! You can truly see the seamless editing guided by the references to Williams\\' diary entries, not only is it well worth the watching but it is a terrificly written and performed piece. A masterful production about one of the great master\\'s of comedy and his life. <br /><br />The realism really comes home with the little things: the fantasy of the guard which, rather than use the traditional \\'dream\\' techniques remains solid then disappears. It plays on our knowledge and our senses, particularly with the scenes concerning Orton and Halliwell and the sets (particularly of their flat with Halliwell\\'s murals decorating every surface) are terribly well done.'"
      ]
     },
     "execution_count": 33,
     "metadata": {},
     "output_type": "execute_result"
    }
   ],
   "source": [
    "reviews.iloc[1,0]"
   ]
  },
  {
   "cell_type": "markdown",
   "id": "9087c8a8",
   "metadata": {
    "id": "9087c8a8"
   },
   "source": [
    "Para ello crearemos una función que te permita eliminar todos los tags del código:"
   ]
  },
  {
   "cell_type": "code",
   "execution_count": 34,
   "id": "feb28baa",
   "metadata": {
    "id": "feb28baa"
   },
   "outputs": [],
   "source": [
    "def tags_out(review,stopwords):\n",
    "    review = review.lower()\n",
    "    review = re.sub('<br />','',review)\n",
    "    review = re.sub('[^a-zA-Z]', ' ', review)\n",
    "    review = re.sub(r\"\\s+[a-zA-Z]\\s+\", ' ', review)\n",
    "    for palabra in stopwords:\n",
    "        review = re.sub(' ' + palabra + ' ',' ', review)\n",
    "    review = re.sub(r'\\s+',' ', review)\n",
    "    return review"
   ]
  },
  {
   "cell_type": "code",
   "execution_count": 35,
   "id": "0d66fc40",
   "metadata": {
    "colab": {
     "base_uri": "https://localhost:8080/",
     "height": 105
    },
    "id": "0d66fc40",
    "outputId": "e7c6e9b0-c275-44aa-e0a3-f0dba6f1e53d"
   },
   "outputs": [
    {
     "data": {
      "application/vnd.google.colaboratory.intrinsic+json": {
       "type": "string"
      },
      "text/plain": [
       "'a wonderful little production filming technique unassuming old time bbc fashion gives comforting sometimes discomforting sense realism entire piece actors extremely well chosen michael sheen got polari voices pat truly see seamless editing guided references williams diary entries well worth watching terrificly written performed piece masterful production one great master comedy life realism really comes home little things fantasy guard rather use traditional dream techniques remains solid disappears plays knowledge senses particularly scenes concerning orton halliwell sets particularly flat halliwell murals decorating every surface terribly well done '"
      ]
     },
     "execution_count": 35,
     "metadata": {},
     "output_type": "execute_result"
    }
   ],
   "source": [
    "tags_out(reviews.iloc[1,0],stopwords)"
   ]
  },
  {
   "cell_type": "markdown",
   "id": "e1984ab6",
   "metadata": {
    "id": "e1984ab6"
   },
   "source": [
    "Una vez visto que nuestra función trabaja correctamente vamos a aplicarselo a todas las reviews:"
   ]
  },
  {
   "cell_type": "code",
   "execution_count": 36,
   "id": "46e7e174",
   "metadata": {
    "id": "46e7e174"
   },
   "outputs": [],
   "source": [
    "review_post = []\n",
    "reviews_list_pp = list(reviews['review'])\n",
    "for review in reviews_list_pp:\n",
    "    review_post.append(tags_out(review,stopwords))"
   ]
  },
  {
   "cell_type": "markdown",
   "id": "6a769d6c",
   "metadata": {
    "id": "6a769d6c"
   },
   "source": [
    "Por último pasaremos de string a integer la columna sentimientos:"
   ]
  },
  {
   "cell_type": "code",
   "execution_count": 37,
   "id": "9e0c1cc7",
   "metadata": {
    "id": "9e0c1cc7"
   },
   "outputs": [],
   "source": [
    "sentimiento = reviews['sentiment']\n",
    "sentimiento = np.array(list(map(lambda x: 1 if x==\"positive\" else 0, sentimiento)))"
   ]
  },
  {
   "cell_type": "markdown",
   "id": "75f60141",
   "metadata": {
    "id": "75f60141"
   },
   "source": [
    "Ahora volveremos a hacer un análisis exploratorio habiendo hecho un preprocesado de los datos:"
   ]
  },
  {
   "cell_type": "code",
   "execution_count": 43,
   "id": "k3EepvuATxdV",
   "metadata": {
    "colab": {
     "base_uri": "https://localhost:8080/"
    },
    "id": "k3EepvuATxdV",
    "outputId": "b60bc0d1-cdeb-4145-fe48-4bf1e53c65ea"
   },
   "outputs": [
    {
     "name": "stdout",
     "output_type": "stream",
     "text": [
      "/bin/bash: --: invalid option\n",
      "Usage:\t/bin/bash [GNU long option] [option] ...\n",
      "\t/bin/bash [GNU long option] [option] script-file ...\n",
      "GNU long options:\n",
      "\t--debug\n",
      "\t--debugger\n",
      "\t--dump-po-strings\n",
      "\t--dump-strings\n",
      "\t--help\n",
      "\t--init-file\n",
      "\t--login\n",
      "\t--noediting\n",
      "\t--noprofile\n",
      "\t--norc\n",
      "\t--posix\n",
      "\t--rcfile\n",
      "\t--restricted\n",
      "\t--verbose\n",
      "\t--version\n",
      "Shell options:\n",
      "\t-ilrsD or -c command or -O shopt_option\t\t(invocation only)\n",
      "\t-abefhkmnptuvxBCHP or -o option\n"
     ]
    }
   ],
   "source": [
    "!--NotebookApp.iopub_data_rate_limit = 1000000000"
   ]
  },
  {
   "cell_type": "markdown",
   "id": "df1a1244",
   "metadata": {},
   "source": [
    "Como hemos comentado antes, al no haber preprocesado los datos nos salían como palabras más usadas o stop words o símbolos. Una vez que hemos preprocesado los datos vamos a volver a lanzar la función y ver que nos devuelve."
   ]
  },
  {
   "cell_type": "code",
   "execution_count": 38,
   "id": "18f87aea",
   "metadata": {
    "colab": {
     "base_uri": "https://localhost:8080/"
    },
    "id": "18f87aea",
    "outputId": "aebe2cf2-49c4-41fe-d98e-d1e9c0ee62d7"
   },
   "outputs": [
    {
     "name": "stderr",
     "output_type": "stream",
     "text": [
      "IOPub data rate exceeded.\n",
      "The notebook server will temporarily stop sending output\n",
      "to the client in order to avoid crashing it.\n",
      "To change this limit, set the config variable\n",
      "`--NotebookApp.iopub_data_rate_limit`.\n",
      "\n",
      "Current values:\n",
      "NotebookApp.iopub_data_rate_limit=1000000.0 (bytes/sec)\n",
      "NotebookApp.rate_limit_window=3.0 (secs)\n",
      "\n"
     ]
    }
   ],
   "source": [
    "review_words_pp = get_word_tokens(reviews_list_pp)"
   ]
  },
  {
   "cell_type": "code",
   "execution_count": 39,
   "id": "e2d7a90a",
   "metadata": {
    "id": "e2d7a90a"
   },
   "outputs": [],
   "source": [
    "matplotlib.use('TkAgg')"
   ]
  },
  {
   "cell_type": "code",
   "execution_count": 40,
   "id": "2fe4bf87",
   "metadata": {
    "colab": {
     "base_uri": "https://localhost:8080/",
     "height": 290
    },
    "id": "2fe4bf87",
    "outputId": "d97e67b5-fb71-4b91-c626-162e1b8c36a1"
   },
   "outputs": [
    {
     "data": {
      "image/png": "[encoded data removed]",
      "text/plain": [
       "<Figure size 432x288 with 1 Axes>"
      ]
     },
     "metadata": {
      "needs_background": "light"
     },
     "output_type": "display_data"
    }
   ],
   "source": [
    "plot_freq_dist(review_words_pp, num_words=20)"
   ]
  },
  {
   "cell_type": "code",
   "execution_count": 45,
   "id": "ad6dd020",
   "metadata": {
    "id": "ad6dd020"
   },
   "outputs": [],
   "source": [
    "wc2 = wordcloud.WordCloud(\n",
    "    width=1000, \n",
    "    height=1000, \n",
    "    stopwords=stopwords,\n",
    "    max_words=100,\n",
    "    collocations=False\n",
    ").generate(text=(' '.join(review_words_pp)).lower())"
   ]
  },
  {
   "cell_type": "code",
   "execution_count": 46,
   "id": "63d159bd",
   "metadata": {
    "colab": {
     "base_uri": "https://localhost:8080/",
     "height": 592
    },
    "id": "63d159bd",
    "outputId": "d3a7af31-1a2c-4cdc-c12d-348da2edf392"
   },
   "outputs": [
    {
     "data": {
      "text/plain": [
       "(-0.5, 999.5, 999.5, -0.5)"
      ]
     },
     "execution_count": 46,
     "metadata": {},
     "output_type": "execute_result"
    },
    {
     "data": {
      "image/png": "[encoded data removed]",
      "text/plain": [
       "<Figure size 720x720 with 1 Axes>"
      ]
     },
     "metadata": {
      "needs_background": "light"
     },
     "output_type": "display_data"
    }
   ],
   "source": [
    "get_ipython().run_line_magic('matplotlib', 'inline')\n",
    "plt.figure(figsize=[10,10])\n",
    "plt.imshow(wc2)\n",
    "plt.axis(\"off\")"
   ]
  },
  {
   "cell_type": "markdown",
   "id": "013687b2",
   "metadata": {
    "id": "013687b2"
   },
   "source": [
    "<div id=\"heading--5\"/>\n",
    "\n",
    "## 4. División de datos"
   ]
  },
  {
   "cell_type": "markdown",
   "id": "ff23aba7",
   "metadata": {},
   "source": [
    "A continuación vamos a dividir los datos entre train y test, usando una semilla para evitar la aletoriedad."
   ]
  },
  {
   "cell_type": "code",
   "execution_count": 44,
   "id": "77825718",
   "metadata": {
    "id": "77825718"
   },
   "outputs": [],
   "source": [
    "X_train, X_test, y_train, y_test = train_test_split(review_post, sentimiento,test_size=0.20, random_state=2022)"
   ]
  },
  {
   "cell_type": "markdown",
   "id": "a6d0ea89",
   "metadata": {
    "id": "a6d0ea89"
   },
   "source": [
    "<div id=\"heading--6\"/>\n",
    "\n",
    "## 5. Proceso de Tokenización"
   ]
  },
  {
   "cell_type": "markdown",
   "id": "83cc5062",
   "metadata": {},
   "source": [
    "Antes de tirar cualquier modelo lo que vamos a hacer es realizar el proceso de tokenización de los datos."
   ]
  },
  {
   "cell_type": "code",
   "execution_count": 47,
   "id": "a9443ae2",
   "metadata": {
    "id": "a9443ae2"
   },
   "outputs": [],
   "source": [
    "tokenizer = Tokenizer(num_words=5000)\n",
    "tokenizer.fit_on_texts(X_train)\n",
    "X_train = tokenizer.texts_to_sequences(X_train)\n",
    "X_test = tokenizer.texts_to_sequences(X_test)"
   ]
  },
  {
   "cell_type": "code",
   "execution_count": 48,
   "id": "87650bf6",
   "metadata": {
    "id": "87650bf6"
   },
   "outputs": [],
   "source": [
    "vocab_size = len(tokenizer.word_index) + 1\n",
    "maxlen = 150 \n",
    "X_train = pad_sequences(X_train, padding='post', maxlen=maxlen)\n",
    "X_test = pad_sequences(X_test, padding='post', maxlen=maxlen)"
   ]
  },
  {
   "cell_type": "markdown",
   "id": "99040298",
   "metadata": {
    "id": "99040298"
   },
   "source": [
    "A continuación lo que haremos será crear un diccionario de embedding el cual nos resultará muy útil para los pesos de las diferentes redes:"
   ]
  },
  {
   "cell_type": "code",
   "execution_count": 49,
   "id": "0f206d79",
   "metadata": {
    "id": "0f206d79"
   },
   "outputs": [],
   "source": [
    "def embeddings(path):\n",
    "    embeddings_dictionary = dict()\n",
    "    embeddings_file=open(path)\n",
    "    for line in embeddings_file:\n",
    "        records = line.split()\n",
    "        word = records[0]\n",
    "        vector_dimensions = np.asarray(records[1:],dtype='float32')\n",
    "        embeddings_dictionary [word] = vector_dimensions\n",
    "    embeddings_file.close()\n",
    "    embedding_matrix = np.zeros((vocab_size, 100))\n",
    "    \n",
    "    for word, index in tokenizer.word_index.items():\n",
    "        embedding_vector = embeddings_dictionary.get(word)\n",
    "        if embedding_vector is not None:\n",
    "            embedding_matrix[index] = embedding_vector\n",
    "    \n",
    "    return embedding_matrix"
   ]
  },
  {
   "cell_type": "markdown",
   "id": "b47c21ce",
   "metadata": {
    "id": "b47c21ce"
   },
   "source": [
    "<div id=\"heading--7\"/>\n",
    "\n",
    "## 6. Modelos"
   ]
  },
  {
   "cell_type": "markdown",
   "id": "02c056f1",
   "metadata": {
    "id": "02c056f1"
   },
   "source": [
    "Una cosa que será bastante importante es la evaluación del modelo. Para ello definiremos un par de funciones que permitan sacar los resultados."
   ]
  },
  {
   "cell_type": "code",
   "execution_count": 50,
   "id": "64dcf154",
   "metadata": {
    "id": "64dcf154"
   },
   "outputs": [],
   "source": [
    "def evaluateModel(model):\n",
    "    score = model.evaluate(X_test, y_test, verbose=1)\n",
    "    print(\"Test Accuracy:\", score[1])"
   ]
  },
  {
   "cell_type": "code",
   "execution_count": 51,
   "id": "092f55d9",
   "metadata": {
    "id": "092f55d9"
   },
   "outputs": [],
   "source": [
    "def AccLoss(history):\n",
    "    plt.plot(history.history['loss'])\n",
    "    plt.plot(history.history['val_loss'])\n",
    "    plt.title('model loss')\n",
    "    plt.ylabel('loss')\n",
    "    plt.xlabel('epoch')\n",
    "    plt.legend(['train','test'], loc='upper left')\n",
    "    plt.show()"
   ]
  },
  {
   "cell_type": "markdown",
   "id": "d6c7d75b",
   "metadata": {},
   "source": [
    "Y a su vez también sacaremos la matriz de embedding usando el archivo de word2vec."
   ]
  },
  {
   "cell_type": "code",
   "execution_count": 52,
   "id": "8d005104",
   "metadata": {
    "id": "8d005104"
   },
   "outputs": [],
   "source": [
    "embedding_matrix = embeddings('./word2vec.txt')"
   ]
  },
  {
   "cell_type": "markdown",
   "id": "31c07e2d",
   "metadata": {},
   "source": [
    "A continuación ya comenzaremos a lanzar modelos, donde trabajaremos con redes neuronales simples, CNN, RNN + CNN y LTSM."
   ]
  },
  {
   "cell_type": "markdown",
   "id": "f342742b",
   "metadata": {
    "id": "f342742b"
   },
   "source": [
    "<div id=\"heading--5-1\"/>\n",
    "\n",
    "### 6.1. Red Neuronal Simple"
   ]
  },
  {
   "cell_type": "code",
   "execution_count": 53,
   "id": "79e9ce98",
   "metadata": {
    "id": "79e9ce98"
   },
   "outputs": [],
   "source": [
    "random_state = 2022"
   ]
  },
  {
   "cell_type": "code",
   "execution_count": 54,
   "id": "b25c2959",
   "metadata": {
    "id": "b25c2959"
   },
   "outputs": [],
   "source": [
    "model = keras.Sequential(\n",
    "      [\n",
    "          layers.Embedding(vocab_size, 100, weights=[embedding_matrix],input_length=maxlen , trainable=False),\n",
    "          layers.Flatten(),\n",
    "          layers.Dense(20,activation=\"sigmoid\"),\n",
    "          layers.Dropout(0.3),\n",
    "          layers.Dense(10,activation = \"sigmoid\"),\n",
    "          layers.Dropout(0.1),\n",
    "          layers.Dense(5,activation = \"sigmoid\"),\n",
    "          layers.Dense(1,activation=\"sigmoid\")\n",
    "      ]\n",
    "  )"
   ]
  },
  {
   "cell_type": "code",
   "execution_count": 55,
   "id": "a3159478",
   "metadata": {
    "id": "a3159478"
   },
   "outputs": [],
   "source": [
    "model.compile(loss='binary_crossentropy', optimizer='Adam',metrics='acc')"
   ]
  },
  {
   "cell_type": "code",
   "execution_count": 56,
   "id": "b1353e66",
   "metadata": {
    "colab": {
     "base_uri": "https://localhost:8080/"
    },
    "id": "b1353e66",
    "outputId": "d4600f97-37ab-4e12-a66d-e8c12781c643"
   },
   "outputs": [
    {
     "name": "stdout",
     "output_type": "stream",
     "text": [
      "Epoch 1/10\n",
      "125/125 [==============================] - 4s 27ms/step - loss: 0.6142 - acc: 0.7614 - val_loss: 0.5379 - val_acc: 0.8349\n",
      "Epoch 2/10\n",
      "125/125 [==============================] - 6s 47ms/step - loss: 0.4762 - acc: 0.8611 - val_loss: 0.4506 - val_acc: 0.8400\n",
      "Epoch 3/10\n",
      "125/125 [==============================] - 3s 25ms/step - loss: 0.3768 - acc: 0.8908 - val_loss: 0.4205 - val_acc: 0.8339\n",
      "Epoch 4/10\n",
      "125/125 [==============================] - 3s 25ms/step - loss: 0.3156 - acc: 0.9077 - val_loss: 0.4175 - val_acc: 0.8317\n",
      "Epoch 5/10\n",
      "125/125 [==============================] - 3s 25ms/step - loss: 0.2708 - acc: 0.9237 - val_loss: 0.4222 - val_acc: 0.8306\n",
      "Epoch 6/10\n",
      "125/125 [==============================] - 3s 25ms/step - loss: 0.2406 - acc: 0.9318 - val_loss: 0.4365 - val_acc: 0.8295\n",
      "Epoch 7/10\n",
      "125/125 [==============================] - 3s 26ms/step - loss: 0.2156 - acc: 0.9396 - val_loss: 0.4541 - val_acc: 0.8256\n",
      "Epoch 8/10\n",
      "125/125 [==============================] - 3s 26ms/step - loss: 0.1974 - acc: 0.9468 - val_loss: 0.4643 - val_acc: 0.8245\n",
      "Epoch 9/10\n",
      "125/125 [==============================] - 3s 27ms/step - loss: 0.1868 - acc: 0.9479 - val_loss: 0.4727 - val_acc: 0.8241\n",
      "Epoch 10/10\n",
      "125/125 [==============================] - 3s 26ms/step - loss: 0.1736 - acc: 0.9541 - val_loss: 0.4902 - val_acc: 0.8256\n"
     ]
    }
   ],
   "source": [
    "history = model.fit(x=X_train,y=y_train,batch_size=256,epochs=10,verbose=1,validation_split=0.2)"
   ]
  },
  {
   "cell_type": "code",
   "execution_count": 57,
   "id": "019a43f4",
   "metadata": {
    "colab": {
     "base_uri": "https://localhost:8080/"
    },
    "id": "019a43f4",
    "outputId": "1b47f28b-2b3f-41cc-cb18-154218777f1a"
   },
   "outputs": [
    {
     "name": "stdout",
     "output_type": "stream",
     "text": [
      "313/313 [==============================] - 1s 3ms/step - loss: 0.4831 - acc: 0.8255\n",
      "Test Accuracy: 0.8255000114440918\n"
     ]
    }
   ],
   "source": [
    "evaluateModel(model)"
   ]
  },
  {
   "cell_type": "code",
   "execution_count": 58,
   "id": "68591b20",
   "metadata": {
    "colab": {
     "base_uri": "https://localhost:8080/",
     "height": 295
    },
    "id": "68591b20",
    "outputId": "16fc0a56-37eb-4a7a-f23b-6bb46236656c"
   },
   "outputs": [
    {
     "data": {
      "image/png": "[encoded data removed]",
      "text/plain": [
       "<Figure size 432x288 with 1 Axes>"
      ]
     },
     "metadata": {
      "needs_background": "light"
     },
     "output_type": "display_data"
    }
   ],
   "source": [
    "AccLoss(history)"
   ]
  },
  {
   "cell_type": "markdown",
   "id": "cbce2d4e",
   "metadata": {
    "id": "cbce2d4e"
   },
   "source": [
    "<div id=\"heading--5-2\"/>\n",
    "\n",
    "### 6.2. CNN"
   ]
  },
  {
   "cell_type": "code",
   "execution_count": 59,
   "id": "fa4ccdd3",
   "metadata": {
    "id": "fa4ccdd3"
   },
   "outputs": [],
   "source": [
    "random_state = 2022"
   ]
  },
  {
   "cell_type": "code",
   "execution_count": 60,
   "id": "ca774407",
   "metadata": {
    "id": "ca774407"
   },
   "outputs": [],
   "source": [
    "model = keras.Sequential(\n",
    "      [\n",
    "          layers.Embedding(vocab_size, 100, weights=[embedding_matrix],input_length=maxlen),\n",
    "          layers.Conv1D(filters=128,kernel_size=5,activation=\"relu\"),\n",
    "          layers.MaxPooling1D(),\n",
    "          layers.Conv1D(filters=64,kernel_size=4,activation=\"relu\"),\n",
    "          layers.MaxPooling1D(),\n",
    "          layers.Conv1D(filters=32,kernel_size=3,activation=\"relu\"),\n",
    "          layers.Flatten(),\n",
    "          layers.Dense(25,activation=\"sigmoid\"),\n",
    "          layers.Dense(5,activation=\"sigmoid\"),\n",
    "          layers.Dense(1,activation=\"sigmoid\"),\n",
    "      ]\n",
    "  )"
   ]
  },
  {
   "cell_type": "code",
   "execution_count": 61,
   "id": "cadf8beb",
   "metadata": {
    "id": "cadf8beb"
   },
   "outputs": [],
   "source": [
    "model.compile(loss='binary_crossentropy', optimizer='Adam',metrics='acc')"
   ]
  },
  {
   "cell_type": "code",
   "execution_count": 62,
   "id": "8ded9274",
   "metadata": {
    "colab": {
     "base_uri": "https://localhost:8080/"
    },
    "id": "8ded9274",
    "outputId": "0295f5fc-0dec-48d4-fff6-ef9c95347ae2"
   },
   "outputs": [
    {
     "name": "stdout",
     "output_type": "stream",
     "text": [
      "Epoch 1/5\n",
      "250/250 [==============================] - 94s 375ms/step - loss: 0.4964 - acc: 0.8226 - val_loss: 0.4062 - val_acc: 0.8696\n",
      "Epoch 2/5\n",
      "250/250 [==============================] - 91s 365ms/step - loss: 0.3666 - acc: 0.8783 - val_loss: 0.3619 - val_acc: 0.8644\n",
      "Epoch 3/5\n",
      "250/250 [==============================] - 91s 363ms/step - loss: 0.3035 - acc: 0.9001 - val_loss: 0.3219 - val_acc: 0.8851\n",
      "Epoch 4/5\n",
      "250/250 [==============================] - 90s 360ms/step - loss: 0.2527 - acc: 0.9199 - val_loss: 0.3097 - val_acc: 0.8834\n",
      "Epoch 5/5\n",
      "250/250 [==============================] - 93s 371ms/step - loss: 0.2045 - acc: 0.9413 - val_loss: 0.3291 - val_acc: 0.8748\n"
     ]
    }
   ],
   "source": [
    "history = model.fit(x=X_train,y=y_train,batch_size=128,epochs=5,verbose=1,validation_split=0.2)"
   ]
  },
  {
   "cell_type": "code",
   "execution_count": 63,
   "id": "3bb8bb98",
   "metadata": {
    "colab": {
     "base_uri": "https://localhost:8080/"
    },
    "id": "3bb8bb98",
    "outputId": "3f464b55-cca2-4551-b314-507fbc1a8331"
   },
   "outputs": [
    {
     "name": "stdout",
     "output_type": "stream",
     "text": [
      "313/313 [==============================] - 6s 19ms/step - loss: 0.3127 - acc: 0.8832\n",
      "Test Accuracy: 0.8831999897956848\n"
     ]
    }
   ],
   "source": [
    "evaluateModel(model)"
   ]
  },
  {
   "cell_type": "code",
   "execution_count": 64,
   "id": "44a0e9de",
   "metadata": {
    "colab": {
     "base_uri": "https://localhost:8080/",
     "height": 295
    },
    "id": "44a0e9de",
    "outputId": "af3d2370-e272-411f-c66e-cfc0ab5a2476"
   },
   "outputs": [
    {
     "data": {
      "image/png": "[encoded data removed]",
      "text/plain": [
       "<Figure size 432x288 with 1 Axes>"
      ]
     },
     "metadata": {
      "needs_background": "light"
     },
     "output_type": "display_data"
    }
   ],
   "source": [
    "AccLoss(history)"
   ]
  },
  {
   "cell_type": "markdown",
   "id": "e44a926e",
   "metadata": {
    "id": "e44a926e"
   },
   "source": [
    "<div id=\"heading--5-3\"/>\n",
    "\n",
    "### 6.3. RNN + CNN"
   ]
  },
  {
   "cell_type": "code",
   "execution_count": 65,
   "id": "fe2e7af3",
   "metadata": {
    "id": "fe2e7af3"
   },
   "outputs": [],
   "source": [
    "random_state = 2022"
   ]
  },
  {
   "cell_type": "code",
   "execution_count": 66,
   "id": "068365d5",
   "metadata": {
    "id": "068365d5"
   },
   "outputs": [],
   "source": [
    "model = keras.Sequential([\n",
    "    layers.Embedding(vocab_size,100, weights=[embedding_matrix],input_length=maxlen),\n",
    "    layers.Conv1D(filters=128, kernel_size=5, activation='relu'),\n",
    "    layers.MaxPooling1D(pool_size=2),\n",
    "    layers.Conv1D(filters=64, kernel_size=5, activation='relu'),\n",
    "    layers.MaxPooling1D(pool_size=3),\n",
    "    layers.LSTM(64),\n",
    "    layers.Dense(1, activation='sigmoid')\n",
    "    ])"
   ]
  },
  {
   "cell_type": "code",
   "execution_count": 67,
   "id": "0a885a03",
   "metadata": {
    "id": "0a885a03"
   },
   "outputs": [],
   "source": [
    "model.compile(loss='binary_crossentropy', optimizer='Adam',metrics='acc')"
   ]
  },
  {
   "cell_type": "code",
   "execution_count": 68,
   "id": "409869a0",
   "metadata": {
    "colab": {
     "base_uri": "https://localhost:8080/"
    },
    "id": "409869a0",
    "outputId": "238a5ed0-2f35-497e-c07f-914632b32dd0"
   },
   "outputs": [
    {
     "name": "stdout",
     "output_type": "stream",
     "text": [
      "Epoch 1/5\n",
      "250/250 [==============================] - 103s 404ms/step - loss: 0.3871 - acc: 0.8202 - val_loss: 0.3124 - val_acc: 0.8717\n",
      "Epoch 2/5\n",
      "250/250 [==============================] - 124s 496ms/step - loss: 0.2775 - acc: 0.8861 - val_loss: 0.2851 - val_acc: 0.8811\n",
      "Epoch 3/5\n",
      "250/250 [==============================] - 104s 418ms/step - loss: 0.2312 - acc: 0.9082 - val_loss: 0.2769 - val_acc: 0.8851\n",
      "Epoch 4/5\n",
      "250/250 [==============================] - 100s 401ms/step - loss: 0.1822 - acc: 0.9294 - val_loss: 0.2986 - val_acc: 0.8848\n",
      "Epoch 5/5\n",
      "250/250 [==============================] - 100s 399ms/step - loss: 0.1363 - acc: 0.9501 - val_loss: 0.3293 - val_acc: 0.8824\n"
     ]
    }
   ],
   "source": [
    "history= model.fit(x=X_train,y=y_train,batch_size=128,epochs=5,verbose=1,validation_split=0.2)"
   ]
  },
  {
   "cell_type": "code",
   "execution_count": 69,
   "id": "23e6bc35",
   "metadata": {
    "colab": {
     "base_uri": "https://localhost:8080/"
    },
    "id": "23e6bc35",
    "outputId": "6785bce1-67ca-4927-d365-60146ae61a43"
   },
   "outputs": [
    {
     "name": "stdout",
     "output_type": "stream",
     "text": [
      "313/313 [==============================] - 8s 24ms/step - loss: 0.3206 - acc: 0.8856\n",
      "Test Accuracy: 0.8855999708175659\n"
     ]
    }
   ],
   "source": [
    "evaluateModel(model)"
   ]
  },
  {
   "cell_type": "code",
   "execution_count": 70,
   "id": "44b9d6fd",
   "metadata": {
    "colab": {
     "base_uri": "https://localhost:8080/",
     "height": 295
    },
    "id": "44b9d6fd",
    "outputId": "ea09615d-ca49-4526-a147-84cf3f99825f"
   },
   "outputs": [
    {
     "data": {
      "image/png": "[encoded data removed]",
      "text/plain": [
       "<Figure size 432x288 with 1 Axes>"
      ]
     },
     "metadata": {
      "needs_background": "light"
     },
     "output_type": "display_data"
    }
   ],
   "source": [
    "AccLoss(history)"
   ]
  },
  {
   "cell_type": "markdown",
   "id": "SrKjR-TkWgHN",
   "metadata": {
    "id": "SrKjR-TkWgHN"
   },
   "source": [
    "<div id=\"heading--5-4\"/>\n",
    "\n",
    "### 6.4. LTSM"
   ]
  },
  {
   "cell_type": "code",
   "execution_count": 75,
   "id": "0dfa7d2f",
   "metadata": {
    "id": "0dfa7d2f"
   },
   "outputs": [],
   "source": [
    "model = keras.Sequential(\n",
    "      [\n",
    "          layers.Embedding(vocab_size, 100, weights=[embedding_matrix],input_length=maxlen),\n",
    "          layers.LSTM(64),\n",
    "          layers.Dense(1,activation=\"sigmoid\"),\n",
    "      ]\n",
    "  )"
   ]
  },
  {
   "cell_type": "code",
   "execution_count": 76,
   "id": "ZjjL4gpLWpME",
   "metadata": {
    "id": "ZjjL4gpLWpME"
   },
   "outputs": [],
   "source": [
    "model.compile(loss='binary_crossentropy', optimizer='Adam',metrics='acc')"
   ]
  },
  {
   "cell_type": "code",
   "execution_count": 77,
   "id": "QHUwCfFxWteO",
   "metadata": {
    "colab": {
     "base_uri": "https://localhost:8080/"
    },
    "id": "QHUwCfFxWteO",
    "outputId": "b06aad0b-7e7f-458c-db79-daac3cae424d"
   },
   "outputs": [
    {
     "name": "stdout",
     "output_type": "stream",
     "text": [
      "Epoch 1/6\n",
      "250/250 [==============================] - 89s 350ms/step - loss: 0.6257 - acc: 0.6429 - val_loss: 0.6393 - val_acc: 0.6055\n",
      "Epoch 2/6\n",
      "250/250 [==============================] - 89s 357ms/step - loss: 0.5903 - acc: 0.6848 - val_loss: 0.6181 - val_acc: 0.6594\n",
      "Epoch 3/6\n",
      "250/250 [==============================] - 87s 346ms/step - loss: 0.5154 - acc: 0.7775 - val_loss: 0.4856 - val_acc: 0.8051\n",
      "Epoch 4/6\n",
      "250/250 [==============================] - 89s 357ms/step - loss: 0.4970 - acc: 0.7794 - val_loss: 0.6280 - val_acc: 0.6093\n",
      "Epoch 5/6\n",
      "250/250 [==============================] - 87s 347ms/step - loss: 0.4956 - acc: 0.7744 - val_loss: 0.5220 - val_acc: 0.7742\n",
      "Epoch 6/6\n",
      "250/250 [==============================] - 87s 347ms/step - loss: 0.4820 - acc: 0.7663 - val_loss: 0.4232 - val_acc: 0.8404\n"
     ]
    }
   ],
   "source": [
    "history= model.fit(x=X_train,y=y_train,batch_size=128,epochs=6,verbose=1,validation_split=0.2)"
   ]
  },
  {
   "cell_type": "code",
   "execution_count": 78,
   "id": "M8Zpyx6mXBgT",
   "metadata": {
    "colab": {
     "base_uri": "https://localhost:8080/"
    },
    "id": "M8Zpyx6mXBgT",
    "outputId": "5d0a2484-537a-4f1c-eb5f-9cafd45d7f01"
   },
   "outputs": [
    {
     "name": "stdout",
     "output_type": "stream",
     "text": [
      "313/313 [==============================] - 8s 24ms/step - loss: 0.4275 - acc: 0.8387\n",
      "Test Accuracy: 0.838699996471405\n"
     ]
    }
   ],
   "source": [
    "evaluateModel(model)"
   ]
  },
  {
   "cell_type": "code",
   "execution_count": 79,
   "id": "h5zcksmXXC4x",
   "metadata": {
    "colab": {
     "base_uri": "https://localhost:8080/",
     "height": 295
    },
    "id": "h5zcksmXXC4x",
    "outputId": "53117a82-0663-451b-98ab-aa50520b7c2d"
   },
   "outputs": [
    {
     "data": {
      "image/png": "[encoded data removed]",
      "text/plain": [
       "<Figure size 432x288 with 1 Axes>"
      ]
     },
     "metadata": {
      "needs_background": "light"
     },
     "output_type": "display_data"
    }
   ],
   "source": [
    "AccLoss(history)"
   ]
  },
  {
   "cell_type": "markdown",
   "id": "73997a05",
   "metadata": {},
   "source": [
    "<div id=\"heading--8\"/>\n",
    "\n",
    "## 7. Transformers"
   ]
  },
  {
   "cell_type": "markdown",
   "id": "273842ac",
   "metadata": {
    "id": "273842ac"
   },
   "source": [
    "<div id=\"heading--9\"/>\n",
    "\n",
    "## 8. Comparaciones"
   ]
  },
  {
   "cell_type": "code",
   "execution_count": null,
   "id": "d7210f50",
   "metadata": {
    "id": "d7210f50"
   },
   "outputs": [],
   "source": []
  },
  {
   "cell_type": "markdown",
   "id": "f8322ba5",
   "metadata": {
    "id": "f8322ba5"
   },
   "source": [
    "<div id=\"heading--10\"/>\n",
    "\n",
    "## 9. Lineas de Investigación"
   ]
  },
  {
   "cell_type": "markdown",
   "id": "d900517a",
   "metadata": {
    "id": "8ceb6bad"
   },
   "source": [
    "Dentro de las posibles lineas de investigación podemos encontrar las siguientes ideas:\n",
    "\n",
    "- Combinación de varios modelos sencillos que funcionen \"bien\" de forma individual.\n",
    "\n",
    "- Aplicación de más tipos de transformers.\n",
    "\n",
    "- Búsqueda de métodos innovadores dentro del mundo del NLP."
   ]
  }
 ],
 "metadata": {
  "colab": {
   "collapsed_sections": [],
   "name": "Codigo.ipynb",
   "provenance": []
  },
  "kernelspec": {
   "display_name": "Python 3 (ipykernel)",
   "language": "python",
   "name": "python3"
  },
  "language_info": {
   "codemirror_mode": {
    "name": "ipython",
    "version": 3
   },
   "file_extension": ".py",
   "mimetype": "text/x-python",
   "name": "python",
   "nbconvert_exporter": "python",
   "pygments_lexer": "ipython3",
   "version": "3.8.8"
  }
 },
 "nbformat": 4,
 "nbformat_minor": 5
}
