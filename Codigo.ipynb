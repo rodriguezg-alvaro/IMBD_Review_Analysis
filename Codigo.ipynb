{
 "cells": [
  {
   "cell_type": "markdown",
   "id": "1e509217",
   "metadata": {},
   "source": [
    "# IMBD Sentimental Analysis Review"
   ]
  },
  {
   "cell_type": "markdown",
   "id": "84f62669",
   "metadata": {},
   "source": [
    "El siguiente proyecto tiene como objetivo la aplicación de técnicas de NLP para realizar un análisis de sentimientos sobre un dataset formado por reviews de diferentes películas de la base de datos IMBD. Todas ellas vienen correctamente tagueadas con su correspondiente sentimiento, positivo o negativo."
   ]
  },
  {
   "cell_type": "markdown",
   "id": "c99313c5",
   "metadata": {},
   "source": [
    "## 0. Librerias"
   ]
  },
  {
   "cell_type": "markdown",
   "id": "d2079f9e",
   "metadata": {},
   "source": [
    "Importamos los paquetes que necesitaremos para poder trabajar:"
   ]
  },
  {
   "cell_type": "code",
   "execution_count": 9,
   "id": "55954bec",
   "metadata": {},
   "outputs": [],
   "source": [
    "import pandas as pd\n",
    "import numpy as np\n",
    "import seaborn as sns\n",
    "import tensorflow as tf\n",
    "import re\n",
    "import nltk\n",
    "from nltk.corpus import stopwords\n",
    "from sklearn.model_selection import train_test_split\n",
    "from tensorflow import keras\n",
    "from keras.preprocessing.text import Tokenizer\n",
    "from keras.preprocessing.sequence import pad_sequences\n",
    "from keras.layers.embeddings import Embedding\n",
    "from keras import layers"
   ]
  },
  {
   "cell_type": "markdown",
   "id": "d9e16868",
   "metadata": {},
   "source": [
    "## 1. Carga de datos"
   ]
  },
  {
   "cell_type": "markdown",
   "id": "dd085ef3",
   "metadata": {},
   "source": [
    "Cargamos los datos con los que trabajaremos que será un csv formado por las reviews y su tag en cuanto al sentimiento."
   ]
  },
  {
   "cell_type": "code",
   "execution_count": 10,
   "id": "453c5cdd",
   "metadata": {},
   "outputs": [],
   "source": [
    "reviews = pd.read_csv(\"IMBD_data.csv\")"
   ]
  },
  {
   "cell_type": "code",
   "execution_count": 11,
   "id": "a91ed548",
   "metadata": {},
   "outputs": [
    {
     "data": {
      "text/html": [
       "<div>\n",
       "<style scoped>\n",
       "    .dataframe tbody tr th:only-of-type {\n",
       "        vertical-align: middle;\n",
       "    }\n",
       "\n",
       "    .dataframe tbody tr th {\n",
       "        vertical-align: top;\n",
       "    }\n",
       "\n",
       "    .dataframe thead th {\n",
       "        text-align: right;\n",
       "    }\n",
       "</style>\n",
       "<table border=\"1\" class=\"dataframe\">\n",
       "  <thead>\n",
       "    <tr style=\"text-align: right;\">\n",
       "      <th></th>\n",
       "      <th>review</th>\n",
       "      <th>sentiment</th>\n",
       "    </tr>\n",
       "  </thead>\n",
       "  <tbody>\n",
       "    <tr>\n",
       "      <th>0</th>\n",
       "      <td>One of the other reviewers has mentioned that ...</td>\n",
       "      <td>positive</td>\n",
       "    </tr>\n",
       "    <tr>\n",
       "      <th>1</th>\n",
       "      <td>A wonderful little production. &lt;br /&gt;&lt;br /&gt;The...</td>\n",
       "      <td>positive</td>\n",
       "    </tr>\n",
       "    <tr>\n",
       "      <th>2</th>\n",
       "      <td>I thought this was a wonderful way to spend ti...</td>\n",
       "      <td>positive</td>\n",
       "    </tr>\n",
       "    <tr>\n",
       "      <th>3</th>\n",
       "      <td>Basically there's a family where a little boy ...</td>\n",
       "      <td>negative</td>\n",
       "    </tr>\n",
       "    <tr>\n",
       "      <th>4</th>\n",
       "      <td>Petter Mattei's \"Love in the Time of Money\" is...</td>\n",
       "      <td>positive</td>\n",
       "    </tr>\n",
       "    <tr>\n",
       "      <th>...</th>\n",
       "      <td>...</td>\n",
       "      <td>...</td>\n",
       "    </tr>\n",
       "    <tr>\n",
       "      <th>49995</th>\n",
       "      <td>I thought this movie did a down right good job...</td>\n",
       "      <td>positive</td>\n",
       "    </tr>\n",
       "    <tr>\n",
       "      <th>49996</th>\n",
       "      <td>Bad plot, bad dialogue, bad acting, idiotic di...</td>\n",
       "      <td>negative</td>\n",
       "    </tr>\n",
       "    <tr>\n",
       "      <th>49997</th>\n",
       "      <td>I am a Catholic taught in parochial elementary...</td>\n",
       "      <td>negative</td>\n",
       "    </tr>\n",
       "    <tr>\n",
       "      <th>49998</th>\n",
       "      <td>I'm going to have to disagree with the previou...</td>\n",
       "      <td>negative</td>\n",
       "    </tr>\n",
       "    <tr>\n",
       "      <th>49999</th>\n",
       "      <td>No one expects the Star Trek movies to be high...</td>\n",
       "      <td>negative</td>\n",
       "    </tr>\n",
       "  </tbody>\n",
       "</table>\n",
       "<p>50000 rows × 2 columns</p>\n",
       "</div>"
      ],
      "text/plain": [
       "                                                  review sentiment\n",
       "0      One of the other reviewers has mentioned that ...  positive\n",
       "1      A wonderful little production. <br /><br />The...  positive\n",
       "2      I thought this was a wonderful way to spend ti...  positive\n",
       "3      Basically there's a family where a little boy ...  negative\n",
       "4      Petter Mattei's \"Love in the Time of Money\" is...  positive\n",
       "...                                                  ...       ...\n",
       "49995  I thought this movie did a down right good job...  positive\n",
       "49996  Bad plot, bad dialogue, bad acting, idiotic di...  negative\n",
       "49997  I am a Catholic taught in parochial elementary...  negative\n",
       "49998  I'm going to have to disagree with the previou...  negative\n",
       "49999  No one expects the Star Trek movies to be high...  negative\n",
       "\n",
       "[50000 rows x 2 columns]"
      ]
     },
     "execution_count": 11,
     "metadata": {},
     "output_type": "execute_result"
    }
   ],
   "source": [
    "reviews"
   ]
  },
  {
   "cell_type": "markdown",
   "id": "0cfbf077",
   "metadata": {},
   "source": [
    "A su vez cargaremos los datos de las stop words:"
   ]
  },
  {
   "cell_type": "code",
   "execution_count": 12,
   "id": "512350b6",
   "metadata": {},
   "outputs": [
    {
     "name": "stderr",
     "output_type": "stream",
     "text": [
      "[nltk_data] Downloading package stopwords to\n",
      "[nltk_data]     /Users/alvarorodriguezgonzalez/nltk_data...\n",
      "[nltk_data]   Package stopwords is already up-to-date!\n"
     ]
    },
    {
     "data": {
      "text/plain": [
       "True"
      ]
     },
     "execution_count": 12,
     "metadata": {},
     "output_type": "execute_result"
    }
   ],
   "source": [
    "nltk.download('stopwords')"
   ]
  },
  {
   "cell_type": "code",
   "execution_count": 13,
   "id": "7eff56fb",
   "metadata": {},
   "outputs": [],
   "source": [
    "stopwords = set(stopwords.words('english'))"
   ]
  },
  {
   "cell_type": "code",
   "execution_count": 14,
   "id": "86e77000",
   "metadata": {},
   "outputs": [
    {
     "name": "stdout",
     "output_type": "stream",
     "text": [
      "{'has', 'herself', 'over', 'very', 'my', 'a', 'doesn', \"aren't\", 'so', \"haven't\", 'yourselves', 'at', 'should', 'are', 'wasn', 'this', 'both', 'been', 'will', \"shan't\", 'me', \"you'll\", 'our', 'yourself', \"she's\", 'when', 'she', 'you', 'we', 'where', 'him', 'because', 'here', 'but', 'which', 'your', 'ourselves', 'he', 'o', \"shouldn't\", 'shan', 'an', 'into', \"wouldn't\", 'until', 'the', 'don', 'own', 'what', 'now', 're', 'shouldn', 'myself', 'that', 'himself', 'no', 'do', 'theirs', 'whom', 'being', 'above', 'nor', 'their', 'through', 'few', 'weren', \"mustn't\", 'yours', 'these', 'mightn', 'then', 'while', 'did', 'and', 'why', 'doing', \"don't\", 'll', 'aren', \"you'd\", \"hasn't\", 'after', 'them', 'again', 'those', 'am', 'hasn', 'her', 'each', 'further', 'too', 'needn', 'just', 'how', \"didn't\", 'to', 'same', 's', 't', 'hers', 'it', 'his', 'for', 'there', 'they', 'on', 'does', \"it's\", 'haven', 'not', 've', 'any', 'only', 'didn', 'up', 'couldn', \"won't\", 'between', 'most', 'if', 'ma', 'i', 'mustn', 'during', 'themselves', 'its', 'such', 'or', 'have', 'isn', 'is', 'y', 'under', \"should've\", 'wouldn', 'against', 'm', 'was', 'were', 'before', 'with', \"that'll\", \"doesn't\", 'won', \"needn't\", 'of', 'as', 'who', 'more', 'about', 'had', \"weren't\", 'some', 'than', 'can', 'be', \"you're\", 'below', 'down', \"you've\", 'hadn', \"isn't\", 'other', 'all', 'd', 'ain', 'by', \"wasn't\", \"couldn't\", 'in', 'out', 'from', 'ours', \"hadn't\", 'off', \"mightn't\", 'once', 'itself', 'having'}\n"
     ]
    }
   ],
   "source": [
    "print(stopwords)"
   ]
  },
  {
   "cell_type": "markdown",
   "id": "1a819bf3",
   "metadata": {},
   "source": [
    "## 2. Análisis Exploratorio"
   ]
  },
  {
   "cell_type": "markdown",
   "id": "98f03c84",
   "metadata": {},
   "source": [
    "Veamos si nuestros datos estan balanceados:"
   ]
  },
  {
   "cell_type": "code",
   "execution_count": 15,
   "id": "8b563745",
   "metadata": {},
   "outputs": [
    {
     "data": {
      "text/plain": [
       "<AxesSubplot:xlabel='sentiment', ylabel='count'>"
      ]
     },
     "execution_count": 15,
     "metadata": {},
     "output_type": "execute_result"
    },
    {
     "data": {
      "image/png": "[encoded data removed]",
      "text/plain": [
       "<Figure size 432x288 with 1 Axes>"
      ]
     },
     "metadata": {
      "needs_background": "light"
     },
     "output_type": "display_data"
    }
   ],
   "source": [
    "sns.countplot(x = \"sentiment\", data = reviews)"
   ]
  },
  {
   "cell_type": "code",
   "execution_count": null,
   "id": "2360a092",
   "metadata": {},
   "outputs": [],
   "source": []
  },
  {
   "cell_type": "markdown",
   "id": "7cd287dd",
   "metadata": {},
   "source": [
    "# Aqui hay que meter lo de pablo!!!"
   ]
  },
  {
   "cell_type": "code",
   "execution_count": null,
   "id": "a2665acf",
   "metadata": {},
   "outputs": [],
   "source": []
  },
  {
   "cell_type": "markdown",
   "id": "733c660e",
   "metadata": {},
   "source": [
    "## 3. Preprocesado"
   ]
  },
  {
   "cell_type": "markdown",
   "id": "6115c94e",
   "metadata": {},
   "source": [
    "Como se puede ver en el caso que se encuentra abajo, podemos encontrarnos con tags de código html:"
   ]
  },
  {
   "cell_type": "code",
   "execution_count": 16,
   "id": "1f1116e5",
   "metadata": {},
   "outputs": [
    {
     "data": {
      "text/plain": [
       "'A wonderful little production. <br /><br />The filming technique is very unassuming- very old-time-BBC fashion and gives a comforting, and sometimes discomforting, sense of realism to the entire piece. <br /><br />The actors are extremely well chosen- Michael Sheen not only \"has got all the polari\" but he has all the voices down pat too! You can truly see the seamless editing guided by the references to Williams\\' diary entries, not only is it well worth the watching but it is a terrificly written and performed piece. A masterful production about one of the great master\\'s of comedy and his life. <br /><br />The realism really comes home with the little things: the fantasy of the guard which, rather than use the traditional \\'dream\\' techniques remains solid then disappears. It plays on our knowledge and our senses, particularly with the scenes concerning Orton and Halliwell and the sets (particularly of their flat with Halliwell\\'s murals decorating every surface) are terribly well done.'"
      ]
     },
     "execution_count": 16,
     "metadata": {},
     "output_type": "execute_result"
    }
   ],
   "source": [
    "reviews.iloc[1,0]"
   ]
  },
  {
   "cell_type": "markdown",
   "id": "9087c8a8",
   "metadata": {},
   "source": [
    "Para ello crearemos una función que te permita eliminar todos los tags del código:"
   ]
  },
  {
   "cell_type": "code",
   "execution_count": 17,
   "id": "feb28baa",
   "metadata": {},
   "outputs": [],
   "source": [
    "def tags_out(review,stopwords):\n",
    "    review = review.lower()\n",
    "    review = re.sub('<br />','',review)\n",
    "    review = re.sub('[^a-zA-Z]', ' ', review)\n",
    "    review = re.sub(r\"\\s+[a-zA-Z]\\s+\", ' ', review)\n",
    "    for palabra in stopwords:\n",
    "        review = re.sub(' ' + palabra + ' ',' ', review)\n",
    "    review = re.sub(r'\\s+',' ', review)\n",
    "    return review"
   ]
  },
  {
   "cell_type": "code",
   "execution_count": 19,
   "id": "0d66fc40",
   "metadata": {},
   "outputs": [
    {
     "data": {
      "text/plain": [
       "'a wonderful little production filming technique unassuming old time bbc fashion gives comforting sometimes discomforting sense realism entire piece actors extremely well chosen michael sheen got polari voices pat truly see seamless editing guided references williams diary entries well worth watching terrificly written performed piece masterful production one great master comedy life realism really comes home little things fantasy guard rather use traditional dream techniques remains solid disappears plays knowledge senses particularly scenes concerning orton halliwell sets particularly flat halliwell murals decorating every surface terribly well done '"
      ]
     },
     "execution_count": 19,
     "metadata": {},
     "output_type": "execute_result"
    }
   ],
   "source": [
    "tags_out(reviews.iloc[1,0],stopwords)"
   ]
  },
  {
   "cell_type": "markdown",
   "id": "e1984ab6",
   "metadata": {},
   "source": [
    "Una vez visto que nuestra función trabaja correctamente vamos a aplicarselo a todas las reviews:"
   ]
  },
  {
   "cell_type": "code",
   "execution_count": 20,
   "id": "46e7e174",
   "metadata": {},
   "outputs": [],
   "source": [
    "review_post = []\n",
    "reviews_list = list(reviews['review'])\n",
    "for review in reviews_list:\n",
    "    review_post.append(tags_out(review,stopwords))"
   ]
  },
  {
   "cell_type": "markdown",
   "id": "6a769d6c",
   "metadata": {},
   "source": [
    "Por último pasaremos de string a integer la columna sentimientos:"
   ]
  },
  {
   "cell_type": "code",
   "execution_count": 21,
   "id": "9e0c1cc7",
   "metadata": {},
   "outputs": [],
   "source": [
    "sentimiento = reviews['sentiment']\n",
    "sentimiento = np.array(list(map(lambda x: 1 if x==\"positive\" else 0, sentimiento)))"
   ]
  },
  {
   "cell_type": "markdown",
   "id": "013687b2",
   "metadata": {},
   "source": [
    "## 4. División de datos"
   ]
  },
  {
   "cell_type": "code",
   "execution_count": 22,
   "id": "77825718",
   "metadata": {},
   "outputs": [],
   "source": [
    "X_train, X_test, y_train, y_test = train_test_split(review_post, sentimiento,test_size=0.20, random_state=2022)"
   ]
  },
  {
   "cell_type": "markdown",
   "id": "a6d0ea89",
   "metadata": {},
   "source": [
    "## 5. Proceso de Tokenización"
   ]
  },
  {
   "cell_type": "code",
   "execution_count": 23,
   "id": "a9443ae2",
   "metadata": {},
   "outputs": [],
   "source": [
    "tokenizer = Tokenizer(num_words=5000)\n",
    "tokenizer.fit_on_texts(X_train)\n",
    "X_train = tokenizer.texts_to_sequences(X_train)\n",
    "X_test = tokenizer.texts_to_sequences(X_test)"
   ]
  },
  {
   "cell_type": "code",
   "execution_count": 24,
   "id": "87650bf6",
   "metadata": {},
   "outputs": [],
   "source": [
    "vocab_size = len(tokenizer.word_index) + 1\n",
    "maxlen = 150 \n",
    "X_train = pad_sequences(X_train, padding='post', maxlen=maxlen)\n",
    "X_test = pad_sequences(X_test, padding='post', maxlen=maxlen)"
   ]
  },
  {
   "cell_type": "markdown",
   "id": "99040298",
   "metadata": {},
   "source": [
    "A continuación lo que haremos será crear un diccionario de embedding el cual nos resultará muy útil para los pesos de las diferentes redes:"
   ]
  },
  {
   "cell_type": "code",
   "execution_count": 25,
   "id": "0f206d79",
   "metadata": {},
   "outputs": [],
   "source": [
    "def embeddings(path):\n",
    "    embeddings_dictionary = dict()\n",
    "    embeddings_file=open(path)\n",
    "    for line in embeddings_file:\n",
    "        records = line.split()\n",
    "        word = records[0]\n",
    "        vector_dimensions = np.asarray(records[1:],dtype='float32')\n",
    "        embeddings_dictionary [word] = vector_dimensions\n",
    "    embeddings_file.close()\n",
    "    embedding_matrix = np.zeros((vocab_size, 150))\n",
    "    \n",
    "    for word, index in tokenizer.word_index.items():\n",
    "        embedding_vector = embeddings_dictionary.get(word)\n",
    "        if embedding_vector is not None:\n",
    "            embedding_matrix[index] = embedding_vector\n",
    "    \n",
    "    return embedding_matrix"
   ]
  },
  {
   "cell_type": "markdown",
   "id": "b47c21ce",
   "metadata": {},
   "source": [
    "## 6. Modelos"
   ]
  },
  {
   "cell_type": "markdown",
   "id": "02c056f1",
   "metadata": {},
   "source": [
    "Una cosa que será bastante importante es la evaluación del modelo. Para ello definiremos una función que permita sacar los resultados."
   ]
  },
  {
   "cell_type": "code",
   "execution_count": 26,
   "id": "64dcf154",
   "metadata": {},
   "outputs": [],
   "source": [
    "def evaluateModel(model):\n",
    "    score = model.evaluate(X_test, y_test, verbose=1)\n",
    "    print(\"Test Score:\", score[0])\n",
    "    print(\"Test Accuracy:\", score[1])"
   ]
  },
  {
   "cell_type": "markdown",
   "id": "f342742b",
   "metadata": {},
   "source": [
    "### 6.1. Simple Neural Network"
   ]
  },
  {
   "cell_type": "code",
   "execution_count": 27,
   "id": "b25c2959",
   "metadata": {},
   "outputs": [
    {
     "ename": "NameError",
     "evalue": "name 'embedding_matrix' is not defined",
     "output_type": "error",
     "traceback": [
      "\u001b[0;31m---------------------------------------------------------------------------\u001b[0m",
      "\u001b[0;31mNameError\u001b[0m                                 Traceback (most recent call last)",
      "Input \u001b[0;32mIn [27]\u001b[0m, in \u001b[0;36m<cell line: 1>\u001b[0;34m()\u001b[0m\n\u001b[1;32m      1\u001b[0m model \u001b[38;5;241m=\u001b[39m keras\u001b[38;5;241m.\u001b[39mSequential(\n\u001b[1;32m      2\u001b[0m       [\n\u001b[0;32m----> 3\u001b[0m           layers\u001b[38;5;241m.\u001b[39mEmbedding(vocab_size, \u001b[38;5;241m100\u001b[39m, weights\u001b[38;5;241m=\u001b[39m[\u001b[43membedding_matrix\u001b[49m],input_length\u001b[38;5;241m=\u001b[39mmaxlen , trainable\u001b[38;5;241m=\u001b[39m\u001b[38;5;28;01mFalse\u001b[39;00m),\n\u001b[1;32m      4\u001b[0m           layers\u001b[38;5;241m.\u001b[39mFlatten(),\n\u001b[1;32m      5\u001b[0m           layers\u001b[38;5;241m.\u001b[39mDense(\u001b[38;5;241m1\u001b[39m,activation\u001b[38;5;241m=\u001b[39m\u001b[38;5;124m\"\u001b[39m\u001b[38;5;124msigmoid\u001b[39m\u001b[38;5;124m\"\u001b[39m),\n\u001b[1;32m      6\u001b[0m       ]\n\u001b[1;32m      7\u001b[0m   )\n",
      "\u001b[0;31mNameError\u001b[0m: name 'embedding_matrix' is not defined"
     ]
    }
   ],
   "source": [
    "model = keras.Sequential(\n",
    "      [\n",
    "          layers.Embedding(vocab_size, 100, weights=[embedding_matrix],input_length=maxlen , trainable=False),\n",
    "          layers.Flatten(),\n",
    "          layers.Dense(1,activation=\"sigmoid\"),\n",
    "      ]\n",
    "  )"
   ]
  },
  {
   "cell_type": "markdown",
   "id": "273842ac",
   "metadata": {},
   "source": [
    "## 7. Comparaciones"
   ]
  },
  {
   "cell_type": "markdown",
   "id": "f8322ba5",
   "metadata": {},
   "source": [
    "## 8. Lineas de Investigación"
   ]
  },
  {
   "cell_type": "code",
   "execution_count": null,
   "id": "8ceb6bad",
   "metadata": {},
   "outputs": [],
   "source": []
  }
 ],
 "metadata": {
  "kernelspec": {
   "display_name": "Python 3 (ipykernel)",
   "language": "python",
   "name": "python3"
  },
  "language_info": {
   "codemirror_mode": {
    "name": "ipython",
    "version": 3
   },
   "file_extension": ".py",
   "mimetype": "text/x-python",
   "name": "python",
   "nbconvert_exporter": "python",
   "pygments_lexer": "ipython3",
   "version": "3.8.8"
  }
 },
 "nbformat": 4,
 "nbformat_minor": 5
}
